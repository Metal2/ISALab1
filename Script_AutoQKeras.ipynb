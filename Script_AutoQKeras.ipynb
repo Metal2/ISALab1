{
  "cells": [
    {
      "cell_type": "markdown",
      "metadata": {
        "id": "view-in-github",
        "colab_type": "text"
      },
      "source": [
        "<a href=\"https://colab.research.google.com/github/Metal2/ISALab1/blob/main/Script_AutoQKeras.ipynb\" target=\"_parent\"><img src=\"https://colab.research.google.com/assets/colab-badge.svg\" alt=\"Open In Colab\"/></a>"
      ]
    },
    {
      "cell_type": "markdown",
      "source": [
        "#Libraries etc\n"
      ],
      "metadata": {
        "id": "AnkeT0ga9D1s"
      }
    },
    {
      "cell_type": "code",
      "source": [
        "from google.colab import drive\n",
        "drive.mount('/content/drive')"
      ],
      "metadata": {
        "id": "8iDs7gc2XwgY",
        "colab": {
          "base_uri": "https://localhost:8080/"
        },
        "outputId": "00ee9aab-a8fb-42ab-a73b-798c860692b1"
      },
      "execution_count": null,
      "outputs": [
        {
          "output_type": "stream",
          "name": "stdout",
          "text": [
            "Drive already mounted at /content/drive; to attempt to forcibly remount, call drive.mount(\"/content/drive\", force_remount=True).\n"
          ]
        }
      ]
    },
    {
      "cell_type": "code",
      "source": [
        "!pip install git+https://github.com/google/qkeras.git"
      ],
      "metadata": {
        "id": "RiSdaR7GpPKL",
        "colab": {
          "base_uri": "https://localhost:8080/"
        },
        "outputId": "ee4b4661-d211-44f1-9986-dad8e16c2086"
      },
      "execution_count": null,
      "outputs": [
        {
          "output_type": "stream",
          "name": "stdout",
          "text": [
            "Looking in indexes: https://pypi.org/simple, https://us-python.pkg.dev/colab-wheels/public/simple/\n",
            "Collecting git+https://github.com/google/qkeras.git\n",
            "  Cloning https://github.com/google/qkeras.git to /tmp/pip-req-build-wo4yv9jm\n",
            "  Running command git clone -q https://github.com/google/qkeras.git /tmp/pip-req-build-wo4yv9jm\n",
            "Requirement already satisfied: numpy>=1.16.0 in /usr/local/lib/python3.7/dist-packages (from QKeras==0.9.0) (1.21.6)\n",
            "Requirement already satisfied: scipy>=1.4.1 in /usr/local/lib/python3.7/dist-packages (from QKeras==0.9.0) (1.7.3)\n",
            "Requirement already satisfied: pyparser in /usr/local/lib/python3.7/dist-packages (from QKeras==0.9.0) (1.0)\n",
            "Requirement already satisfied: setuptools>=41.0.0 in /usr/local/lib/python3.7/dist-packages (from QKeras==0.9.0) (57.4.0)\n",
            "Requirement already satisfied: tensorflow-model-optimization>=0.2.1 in /usr/local/lib/python3.7/dist-packages (from QKeras==0.9.0) (0.7.3)\n",
            "Requirement already satisfied: networkx>=2.1 in /usr/local/lib/python3.7/dist-packages (from QKeras==0.9.0) (2.6.3)\n",
            "Requirement already satisfied: keras-tuner>=1.0.1 in /usr/local/lib/python3.7/dist-packages (from QKeras==0.9.0) (1.1.3)\n",
            "Requirement already satisfied: scikit-learn>=0.23.1 in /usr/local/lib/python3.7/dist-packages (from QKeras==0.9.0) (1.0.2)\n",
            "Requirement already satisfied: tqdm>=4.48.0 in /usr/local/lib/python3.7/dist-packages (from QKeras==0.9.0) (4.64.1)\n",
            "Requirement already satisfied: packaging in /usr/local/lib/python3.7/dist-packages (from keras-tuner>=1.0.1->QKeras==0.9.0) (21.3)\n",
            "Requirement already satisfied: requests in /usr/local/lib/python3.7/dist-packages (from keras-tuner>=1.0.1->QKeras==0.9.0) (2.23.0)\n",
            "Requirement already satisfied: ipython in /usr/local/lib/python3.7/dist-packages (from keras-tuner>=1.0.1->QKeras==0.9.0) (7.9.0)\n",
            "Requirement already satisfied: kt-legacy in /usr/local/lib/python3.7/dist-packages (from keras-tuner>=1.0.1->QKeras==0.9.0) (1.0.4)\n",
            "Requirement already satisfied: tensorboard in /usr/local/lib/python3.7/dist-packages (from keras-tuner>=1.0.1->QKeras==0.9.0) (2.9.1)\n",
            "Requirement already satisfied: threadpoolctl>=2.0.0 in /usr/local/lib/python3.7/dist-packages (from scikit-learn>=0.23.1->QKeras==0.9.0) (3.1.0)\n",
            "Requirement already satisfied: joblib>=0.11 in /usr/local/lib/python3.7/dist-packages (from scikit-learn>=0.23.1->QKeras==0.9.0) (1.2.0)\n",
            "Requirement already satisfied: six~=1.10 in /usr/local/lib/python3.7/dist-packages (from tensorflow-model-optimization>=0.2.1->QKeras==0.9.0) (1.15.0)\n",
            "Requirement already satisfied: dm-tree~=0.1.1 in /usr/local/lib/python3.7/dist-packages (from tensorflow-model-optimization>=0.2.1->QKeras==0.9.0) (0.1.7)\n",
            "Requirement already satisfied: pickleshare in /usr/local/lib/python3.7/dist-packages (from ipython->keras-tuner>=1.0.1->QKeras==0.9.0) (0.7.5)\n",
            "Requirement already satisfied: backcall in /usr/local/lib/python3.7/dist-packages (from ipython->keras-tuner>=1.0.1->QKeras==0.9.0) (0.2.0)\n",
            "Requirement already satisfied: prompt-toolkit<2.1.0,>=2.0.0 in /usr/local/lib/python3.7/dist-packages (from ipython->keras-tuner>=1.0.1->QKeras==0.9.0) (2.0.10)\n",
            "Requirement already satisfied: decorator in /usr/local/lib/python3.7/dist-packages (from ipython->keras-tuner>=1.0.1->QKeras==0.9.0) (4.4.2)\n",
            "Requirement already satisfied: traitlets>=4.2 in /usr/local/lib/python3.7/dist-packages (from ipython->keras-tuner>=1.0.1->QKeras==0.9.0) (5.1.1)\n",
            "Requirement already satisfied: jedi>=0.10 in /usr/local/lib/python3.7/dist-packages (from ipython->keras-tuner>=1.0.1->QKeras==0.9.0) (0.18.1)\n",
            "Requirement already satisfied: pexpect in /usr/local/lib/python3.7/dist-packages (from ipython->keras-tuner>=1.0.1->QKeras==0.9.0) (4.8.0)\n",
            "Requirement already satisfied: pygments in /usr/local/lib/python3.7/dist-packages (from ipython->keras-tuner>=1.0.1->QKeras==0.9.0) (2.6.1)\n",
            "Requirement already satisfied: parso<0.9.0,>=0.8.0 in /usr/local/lib/python3.7/dist-packages (from jedi>=0.10->ipython->keras-tuner>=1.0.1->QKeras==0.9.0) (0.8.3)\n",
            "Requirement already satisfied: wcwidth in /usr/local/lib/python3.7/dist-packages (from prompt-toolkit<2.1.0,>=2.0.0->ipython->keras-tuner>=1.0.1->QKeras==0.9.0) (0.2.5)\n",
            "Requirement already satisfied: pyparsing!=3.0.5,>=2.0.2 in /usr/local/lib/python3.7/dist-packages (from packaging->keras-tuner>=1.0.1->QKeras==0.9.0) (3.0.9)\n",
            "Requirement already satisfied: ptyprocess>=0.5 in /usr/local/lib/python3.7/dist-packages (from pexpect->ipython->keras-tuner>=1.0.1->QKeras==0.9.0) (0.7.0)\n",
            "Requirement already satisfied: parse==1.6.5 in /usr/local/lib/python3.7/dist-packages (from pyparser->QKeras==0.9.0) (1.6.5)\n",
            "Requirement already satisfied: chardet<4,>=3.0.2 in /usr/local/lib/python3.7/dist-packages (from requests->keras-tuner>=1.0.1->QKeras==0.9.0) (3.0.4)\n",
            "Requirement already satisfied: certifi>=2017.4.17 in /usr/local/lib/python3.7/dist-packages (from requests->keras-tuner>=1.0.1->QKeras==0.9.0) (2022.9.24)\n",
            "Requirement already satisfied: idna<3,>=2.5 in /usr/local/lib/python3.7/dist-packages (from requests->keras-tuner>=1.0.1->QKeras==0.9.0) (2.10)\n",
            "Requirement already satisfied: urllib3!=1.25.0,!=1.25.1,<1.26,>=1.21.1 in /usr/local/lib/python3.7/dist-packages (from requests->keras-tuner>=1.0.1->QKeras==0.9.0) (1.24.3)\n",
            "Requirement already satisfied: tensorboard-data-server<0.7.0,>=0.6.0 in /usr/local/lib/python3.7/dist-packages (from tensorboard->keras-tuner>=1.0.1->QKeras==0.9.0) (0.6.1)\n",
            "Requirement already satisfied: google-auth-oauthlib<0.5,>=0.4.1 in /usr/local/lib/python3.7/dist-packages (from tensorboard->keras-tuner>=1.0.1->QKeras==0.9.0) (0.4.6)\n",
            "Requirement already satisfied: markdown>=2.6.8 in /usr/local/lib/python3.7/dist-packages (from tensorboard->keras-tuner>=1.0.1->QKeras==0.9.0) (3.4.1)\n",
            "Requirement already satisfied: protobuf<3.20,>=3.9.2 in /usr/local/lib/python3.7/dist-packages (from tensorboard->keras-tuner>=1.0.1->QKeras==0.9.0) (3.17.3)\n",
            "Requirement already satisfied: google-auth<3,>=1.6.3 in /usr/local/lib/python3.7/dist-packages (from tensorboard->keras-tuner>=1.0.1->QKeras==0.9.0) (1.35.0)\n",
            "Requirement already satisfied: wheel>=0.26 in /usr/local/lib/python3.7/dist-packages (from tensorboard->keras-tuner>=1.0.1->QKeras==0.9.0) (0.37.1)\n",
            "Requirement already satisfied: grpcio>=1.24.3 in /usr/local/lib/python3.7/dist-packages (from tensorboard->keras-tuner>=1.0.1->QKeras==0.9.0) (1.50.0)\n",
            "Requirement already satisfied: absl-py>=0.4 in /usr/local/lib/python3.7/dist-packages (from tensorboard->keras-tuner>=1.0.1->QKeras==0.9.0) (1.3.0)\n",
            "Requirement already satisfied: werkzeug>=1.0.1 in /usr/local/lib/python3.7/dist-packages (from tensorboard->keras-tuner>=1.0.1->QKeras==0.9.0) (1.0.1)\n",
            "Requirement already satisfied: tensorboard-plugin-wit>=1.6.0 in /usr/local/lib/python3.7/dist-packages (from tensorboard->keras-tuner>=1.0.1->QKeras==0.9.0) (1.8.1)\n",
            "Requirement already satisfied: cachetools<5.0,>=2.0.0 in /usr/local/lib/python3.7/dist-packages (from google-auth<3,>=1.6.3->tensorboard->keras-tuner>=1.0.1->QKeras==0.9.0) (4.2.4)\n",
            "Requirement already satisfied: pyasn1-modules>=0.2.1 in /usr/local/lib/python3.7/dist-packages (from google-auth<3,>=1.6.3->tensorboard->keras-tuner>=1.0.1->QKeras==0.9.0) (0.2.8)\n",
            "Requirement already satisfied: rsa<5,>=3.1.4 in /usr/local/lib/python3.7/dist-packages (from google-auth<3,>=1.6.3->tensorboard->keras-tuner>=1.0.1->QKeras==0.9.0) (4.9)\n",
            "Requirement already satisfied: requests-oauthlib>=0.7.0 in /usr/local/lib/python3.7/dist-packages (from google-auth-oauthlib<0.5,>=0.4.1->tensorboard->keras-tuner>=1.0.1->QKeras==0.9.0) (1.3.1)\n",
            "Requirement already satisfied: importlib-metadata>=4.4 in /usr/local/lib/python3.7/dist-packages (from markdown>=2.6.8->tensorboard->keras-tuner>=1.0.1->QKeras==0.9.0) (4.13.0)\n",
            "Requirement already satisfied: zipp>=0.5 in /usr/local/lib/python3.7/dist-packages (from importlib-metadata>=4.4->markdown>=2.6.8->tensorboard->keras-tuner>=1.0.1->QKeras==0.9.0) (3.9.0)\n",
            "Requirement already satisfied: typing-extensions>=3.6.4 in /usr/local/lib/python3.7/dist-packages (from importlib-metadata>=4.4->markdown>=2.6.8->tensorboard->keras-tuner>=1.0.1->QKeras==0.9.0) (4.1.1)\n",
            "Requirement already satisfied: pyasn1<0.5.0,>=0.4.6 in /usr/local/lib/python3.7/dist-packages (from pyasn1-modules>=0.2.1->google-auth<3,>=1.6.3->tensorboard->keras-tuner>=1.0.1->QKeras==0.9.0) (0.4.8)\n",
            "Requirement already satisfied: oauthlib>=3.0.0 in /usr/local/lib/python3.7/dist-packages (from requests-oauthlib>=0.7.0->google-auth-oauthlib<0.5,>=0.4.1->tensorboard->keras-tuner>=1.0.1->QKeras==0.9.0) (3.2.2)\n"
          ]
        }
      ]
    },
    {
      "cell_type": "code",
      "execution_count": null,
      "metadata": {
        "id": "wuVqOAcbz3Go"
      },
      "outputs": [],
      "source": [
        "import sys\n",
        "import warnings\n",
        "warnings.filterwarnings(\"ignore\")\n",
        "\n",
        "import json\n",
        "import pprint\n",
        "import numpy as np\n",
        "import six\n",
        "import tempfile\n",
        "import tensorflow.compat.v2 as tf\n",
        "# V2 Behavior is necessary to use TF2 APIs before TF2 is default TF version internally.\n",
        "tf.enable_v2_behavior()\n",
        "from tensorflow.keras.optimizers import *\n",
        "import time\n",
        "import os\n",
        "from os.path import exists\n",
        "from contextlib import redirect_stdout\n",
        "\n",
        "\n",
        "import qkeras\n",
        "from qkeras.autoqkeras import *\n",
        "from qkeras import *\n",
        "from qkeras.utils import *\n",
        "from qkeras.qtools import run_qtools\n",
        "from qkeras.qtools import settings as qtools_settings\n",
        "\n",
        "from tensorflow.keras.utils import to_categorical\n",
        "import tensorflow_datasets as tfds\n"
      ]
    },
    {
      "cell_type": "code",
      "execution_count": null,
      "metadata": {
        "id": "A9zK-DFxoEXr"
      },
      "outputs": [],
      "source": [
        "def get_data(dataset_name, fast=False):\n",
        "  \"\"\"Returns dataset from tfds.\"\"\"\n",
        "  ds_train = tfds.load(name=dataset_name, split=\"train\", batch_size=-1)\n",
        "  ds_test = tfds.load(name=dataset_name, split=\"test\", batch_size=-1)\n",
        "\n",
        "  dataset = tfds.as_numpy(ds_train)\n",
        "  x_train, y_train = dataset[\"image\"].astype(np.float32), dataset[\"label\"]\n",
        "\n",
        "  dataset = tfds.as_numpy(ds_test)\n",
        "  x_test, y_test = dataset[\"image\"].astype(np.float32), dataset[\"label\"]\n",
        "\n",
        "  if len(x_train.shape) == 3:\n",
        "    x_train = x_train.reshape(x_train.shape + (1,))\n",
        "    x_test = x_test.reshape(x_test.shape + (1,))\n",
        "\n",
        "  x_train /= 256.0    #normalize \n",
        "  x_test /= 256.0\n",
        "\n",
        "  x_mean = np.mean(x_train, axis=0) #take the mean along a column\n",
        "\n",
        "  x_train -= x_mean #subtract mean to center data\n",
        "  x_test -= x_mean\n",
        "\n",
        "  nb_classes = np.max(y_train) + 1 #total number of classes/labels (+1 to c)\n",
        "  y_train = to_categorical(y_train, nb_classes) #convert y to a one hot matrix with nb_columns\n",
        "  y_test = to_categorical(y_test, nb_classes)\n",
        "\n",
        "  print(x_train.shape[0], \"train samples\")\n",
        "  print(x_test.shape[0], \"test samples\")\n",
        "  return (x_train, y_train), (x_test, y_test)\n"
      ]
    },
    {
      "cell_type": "code",
      "execution_count": null,
      "metadata": {
        "id": "b5pgH4cRoEXs"
      },
      "outputs": [],
      "source": [
        "from tensorflow.keras.initializers import *\n",
        "from tensorflow.keras.layers import *\n",
        "from tensorflow.keras.models import Model\n",
        "from tensorflow.keras.optimizers import *\n",
        "\n",
        "class ConvBlockNetwork(object):\n",
        "  \"\"\"Creates Convolutional block type of network.\"\"\"\n",
        "\n",
        "  def __init__(\n",
        "      self,\n",
        "      shape,\n",
        "      nb_classes,\n",
        "      kernel_size,\n",
        "      filters,\n",
        "      dropout_rate=0.0,\n",
        "      with_maxpooling=True,\n",
        "      with_batchnorm=True,\n",
        "      kernel_initializer=\"he_normal\",\n",
        "      bias_initializer=\"zeros\",\n",
        "      use_separable=False,\n",
        "      use_xnornet_trick=False,\n",
        "      all_conv=False\n",
        "  ):\n",
        "    \"\"\"Creates class.\n",
        "\n",
        "    Args:\n",
        "      shape: shape of inputs.\n",
        "      nb_classes: number of output classes.\n",
        "      kernel_size: kernel_size of network.\n",
        "      filters: sizes of filters (if entry is a list, we create a block).\n",
        "      dropout_rate: dropout rate if > 0.\n",
        "      with_maxpooling: if true, use maxpooling.\n",
        "      with_batchnorm: with BatchNormalization.\n",
        "      kernel_initializer: kernel_initializer.\n",
        "      bias_initializer: bias and beta initializer.\n",
        "      use_separable: if \"dsp\", do conv's 1x3 + 3x1. If \"mobilenet\",\n",
        "        use MobileNet separable convolution. If False or \"none\", perform single\n",
        "        conv layer.\n",
        "      use_xnornet_trick: use bn+act after max pool to enable binary\n",
        "        to avoid saturation to largest value.\n",
        "      all_conv: if true, implements all convolutional network.\n",
        "    \"\"\"\n",
        "    self.shape = shape\n",
        "    self.nb_classes = nb_classes\n",
        "    self.kernel_size = kernel_size\n",
        "    self.filters = filters\n",
        "    self.dropout_rate = dropout_rate\n",
        "    self.with_maxpooling = with_maxpooling\n",
        "    self.with_batchnorm = with_batchnorm\n",
        "    self.kernel_initializer = kernel_initializer\n",
        "    self.bias_initializer = bias_initializer\n",
        "    self.use_separable = use_separable\n",
        "    self.use_xnornet_trick = use_xnornet_trick\n",
        "    self.all_conv = all_conv\n",
        "\n",
        "  def build(self):\n",
        "    \"\"\"Builds model.\"\"\"\n",
        "    x = x_in = Input(self.shape, name=\"input\")\n",
        "    for i in range(len(self.filters)):\n",
        "      if len(self.filters) > 1:\n",
        "        name_suffix_list = [str(i)]\n",
        "      else:\n",
        "        name_suffix_list = []\n",
        "      if not isinstance(self.filters[i], list):\n",
        "        filters = [self.filters[i]]\n",
        "      else:\n",
        "        filters = self.filters[i]\n",
        "      for j in range(len(filters)):\n",
        "        if len(filters) > 1:\n",
        "          name_suffix = \"_\".join(name_suffix_list + [str(j)])\n",
        "        else:\n",
        "          name_suffix = \"_\".join(name_suffix_list)\n",
        "        if self.use_separable == \"dsp\":\n",
        "          kernels = [(1, self.kernel_size), (self.kernel_size, 1)]\n",
        "        else:\n",
        "          kernels = [(self.kernel_size, self.kernel_size)]\n",
        "        for k, kernel in enumerate(kernels):\n",
        "          strides = 1\n",
        "          if (\n",
        "              not self.with_maxpooling and j == len(filters)-1 and\n",
        "              k == len(kernels)-1\n",
        "          ):\n",
        "            strides = 2\n",
        "          if self.use_separable == \"dsp\":\n",
        "            kernel_suffix = (\n",
        "                \"\".join([str(k) for k in kernel]) + \"_\" + name_suffix)\n",
        "          elif self.use_separable == \"mobilenet\":\n",
        "            depth_suffix = (\n",
        "                \"\".join([str(k) for k in kernel]) + \"_\" + name_suffix)\n",
        "            kernel_suffix = \"11_\" + name_suffix\n",
        "          else:\n",
        "            kernel_suffix = name_suffix\n",
        "          if self.use_separable == \"mobilenet\":\n",
        "            x = DepthwiseConv2D(\n",
        "                kernel,\n",
        "                padding=\"same\", strides=strides,\n",
        "                use_bias=False,\n",
        "                name=\"conv2d_dw_\" + depth_suffix)(x)\n",
        "            if self.with_batchnorm:\n",
        "              x = BatchNormalization(name=\"conv2d_dw_bn_\" + depth_suffix)(x)\n",
        "            x = Activation(\"relu\", name=\"conv2d_dw_act_\" + depth_suffix)(x)\n",
        "            kernel = (1, 1)\n",
        "            strides = 1\n",
        "          x = Conv2D(\n",
        "              filters[j], kernel,\n",
        "              strides=strides, use_bias=not self.with_batchnorm,\n",
        "              padding=\"same\",\n",
        "              kernel_initializer=self.kernel_initializer,\n",
        "              bias_initializer=self.bias_initializer,\n",
        "              name=\"conv2d_\" + kernel_suffix)(x)\n",
        "          if not (\n",
        "              self.with_maxpooling and self.use_xnornet_trick and\n",
        "              j == len(filters)-1 and k == len(kernels)-1\n",
        "          ):\n",
        "            if self.with_batchnorm:\n",
        "              x = BatchNormalization(\n",
        "                  beta_initializer=self.bias_initializer,\n",
        "                  name=\"bn_\" + kernel_suffix)(x)\n",
        "            x = Activation(\"relu\", name=\"act_\" + kernel_suffix)(x)\n",
        "      if self.with_maxpooling:\n",
        "        x = MaxPooling2D(2, 2, name=\"mp_\" + name_suffix)(x)\n",
        "        # this is a trick from xnornet to enable full binary or ternary\n",
        "        # networks to be after maxpooling.\n",
        "        if self.use_xnornet_trick:\n",
        "          x = BatchNormalization(\n",
        "              beta_initializer=self.bias_initializer,\n",
        "              name=\"mp_bn_\" + name_suffix)(x)\n",
        "          x = Activation(\"relu\", name=\"mp_act_\" + name_suffix)(x)\n",
        "      if self.dropout_rate > 0:\n",
        "        x = Dropout(self.dropout_rate, name=\"drop_\" + name_suffix)(x)\n",
        "\n",
        "    if not self.all_conv:\n",
        "      x = Flatten(name=\"flatten\")(x)\n",
        "      x = Dense(\n",
        "          self.nb_classes,\n",
        "          kernel_initializer=self.kernel_initializer,\n",
        "          bias_initializer=self.bias_initializer,\n",
        "          name=\"dense\")(x)\n",
        "      x = Activation(\"softmax\", name=\"softmax\")(x)\n",
        "    else:\n",
        "      x = Conv2D(\n",
        "          self.nb_classes, 1, strides=1, padding=\"same\",\n",
        "          kernel_initializer=self.kernel_initializer,\n",
        "          bias_initializer=self.bias_initializer,\n",
        "          name=\"dense\")(x)\n",
        "      x = Activation(\"softmax\", name=\"softmax\")(x)\n",
        "      x = Flatten(name=\"flatten\")(x)\n",
        "\n",
        "    model = Model(inputs=[x_in], outputs=[x])\n",
        "\n",
        "    return model\n",
        "\n",
        "\n",
        "def get_model(dataset):\n",
        "  \"\"\"Returns a model for the demo of AutoQKeras.\"\"\"\n",
        "  if dataset == \"mnist\":\n",
        "    model = ConvBlockNetwork(\n",
        "        shape=(28, 28, 1),\n",
        "        nb_classes=10,\n",
        "        kernel_size=3,\n",
        "        filters=[16, 32, 48, 64, 128],\n",
        "        dropout_rate=0.2,\n",
        "        with_maxpooling=False,\n",
        "        with_batchnorm=True,\n",
        "        kernel_initializer=\"he_uniform\",\n",
        "        bias_initializer=\"zeros\",\n",
        "    ).build()\n",
        "\n",
        "  elif dataset == \"fashion_mnist\":\n",
        "    model = ConvBlockNetwork(\n",
        "        shape=(28, 28, 1),\n",
        "        nb_classes=10,\n",
        "        kernel_size=3,\n",
        "        filters=[16, [32]*3, [64]*3],\n",
        "        dropout_rate=0.2,\n",
        "        with_maxpooling=True,\n",
        "        with_batchnorm=True,\n",
        "        use_separable=\"mobilenet\",\n",
        "        kernel_initializer=\"he_uniform\",\n",
        "        bias_initializer=\"zeros\",\n",
        "        use_xnornet_trick=True\n",
        "    ).build()\n",
        "\n",
        "  elif dataset == \"cifar10\":\n",
        "    model = ConvBlockNetwork(\n",
        "        shape=(32, 32, 3),\n",
        "        nb_classes=10,\n",
        "        kernel_size=3,\n",
        "        filters=[16, [32]*3, [64]*3, [128]*3],\n",
        "        dropout_rate=0.2,\n",
        "        with_maxpooling=True,\n",
        "        with_batchnorm=True,\n",
        "        use_separable=\"mobilenet\",\n",
        "        kernel_initializer=\"he_uniform\",\n",
        "        bias_initializer=\"zeros\",\n",
        "        use_xnornet_trick=True\n",
        "    ).build()\n",
        "\n",
        "  elif dataset == \"cifar100\":\n",
        "    model = ConvBlockNetwork(\n",
        "        shape=(32, 32, 3),\n",
        "        nb_classes=100,\n",
        "        kernel_size=3,\n",
        "        filters=[16, [32]*3, [64]*3, [128]*3, [256]*3],\n",
        "        dropout_rate=0.2,\n",
        "        with_maxpooling=True,\n",
        "        with_batchnorm=True,\n",
        "        use_separable=\"mobilenet\",\n",
        "        kernel_initializer=\"he_uniform\",\n",
        "        bias_initializer=\"zeros\",\n",
        "        use_xnornet_trick=True\n",
        "    ).build()\n",
        "\n",
        "  model.summary()\n",
        "\n",
        "  return model"
      ]
    },
    {
      "cell_type": "code",
      "execution_count": null,
      "metadata": {
        "id": "lB8CBTehz9FK",
        "colab": {
          "base_uri": "https://localhost:8080/",
          "referenced_widgets": [
            "f812dc2ebc5b4513b73ff2865b109ae7",
            "0d5f37a5bea644eb9641be8f7f36ba6e",
            "b6943cc962b94e608504a6c5387d2b2c",
            "52eec85690ca44e7a1b2d6a38214ae02",
            "0ccaae62755e4c209bdd5f0af65c27a2",
            "bba6eb19ed5e44a5a695c3e00bfbfd2d",
            "5b23afb9e52149a98d90098a9b55812a",
            "fa35199b18a7474f96c1dced0099de6a",
            "1aa1570b3ecd4f2490e90316c0dba065",
            "679693d8a293408c80aacf650e63d527",
            "55e1e63c53b745618abd7f776eaea030"
          ]
        },
        "outputId": "3a2b8693-3f5f-4bba-cab3-3d4fc98a953e"
      },
      "outputs": [
        {
          "output_type": "stream",
          "name": "stdout",
          "text": [
            "\u001b[1mDownloading and preparing dataset 11.06 MiB (download: 11.06 MiB, generated: 21.00 MiB, total: 32.06 MiB) to ~/tensorflow_datasets/mnist/3.0.1...\u001b[0m\n"
          ]
        },
        {
          "output_type": "display_data",
          "data": {
            "text/plain": [
              "Dl Completed...:   0%|          | 0/4 [00:00<?, ? file/s]"
            ],
            "application/vnd.jupyter.widget-view+json": {
              "version_major": 2,
              "version_minor": 0,
              "model_id": "f812dc2ebc5b4513b73ff2865b109ae7"
            }
          },
          "metadata": {}
        },
        {
          "output_type": "stream",
          "name": "stdout",
          "text": [
            "\u001b[1mDataset mnist downloaded and prepared to ~/tensorflow_datasets/mnist/3.0.1. Subsequent calls will reuse this data.\u001b[0m\n",
            "60000 train samples\n",
            "10000 test samples\n"
          ]
        }
      ],
      "source": [
        "DATASET = \"mnist\"\n",
        "(x_train, y_train), (x_test, y_test) = get_data(DATASET)"
      ]
    },
    {
      "cell_type": "code",
      "execution_count": null,
      "metadata": {
        "id": "EMbYcKb-wMOc",
        "colab": {
          "base_uri": "https://localhost:8080/"
        },
        "outputId": "2b893d18-6e6d-4c73-94cc-c701db082a8f"
      },
      "outputs": [
        {
          "output_type": "stream",
          "name": "stdout",
          "text": [
            "PhysicalDevice(name='/physical_device:CPU:0', device_type='CPU')\n",
            "PhysicalDevice(name='/physical_device:GPU:0', device_type='GPU')\n"
          ]
        }
      ],
      "source": [
        "physical_devices = tf.config.list_physical_devices()\n",
        "for d in physical_devices:\n",
        "  print(d)"
      ]
    },
    {
      "cell_type": "code",
      "execution_count": null,
      "metadata": {
        "id": "eMVill0TxUuG"
      },
      "outputs": [],
      "source": [
        "has_tpus = np.any([d.device_type == \"TPU\" for d in physical_devices])\n",
        "\n",
        "if has_tpus:\n",
        "  TPU_WORKER = 'local'\n",
        "\n",
        "  resolver = tf.distribute.cluster_resolver.TPUClusterResolver(\n",
        "      tpu=TPU_WORKER, job_name='tpu_worker')\n",
        "  if TPU_WORKER != 'local':\n",
        "    tf.config.experimental_connect_to_cluster(resolver, protocol='grpc+loas')\n",
        "  tf.tpu.experimental.initialize_tpu_system(resolver)\n",
        "  strategy = tf.distribute.experimental.TPUStrategy(resolver)\n",
        "  print('Number of devices: {}'.format(strategy.num_replicas_in_sync))\n",
        "\n",
        "  cur_strategy = strategy\n",
        "else:\n",
        "  cur_strategy = tf.distribute.get_strategy()"
      ]
    },
    {
      "cell_type": "code",
      "execution_count": null,
      "metadata": {
        "id": "AlIk3gtFS6iJ"
      },
      "outputs": [],
      "source": [
        "#USE QTOOLS TO COMPUTE ENERGY ESTIMATE\n",
        "# q = run_qtools.QTools(model,process,source_quantizers,is_inference,weights_path,keras_quantizer,keras_accumulator,for_reference)\n",
        "# energy_dict = q.pe(weights_on_memory,activations_on_memory,min_sram_size,rd_wr_on_io)\n",
        "# ENERGY X LAYER ---> energy_profile = q.extract_energy_profile(qtools_settings.cfg.include_energy, energy_dict)\n",
        "# TOT ENERGY -----> total_energy = q.extract_energy_sum(qtools_settings.cfg.include_energy, energy_dict)\n",
        "def  calculate_energy_cost(my_model, print_per_layer=False,for_reference=False):\n",
        "    reference_internal = \"fp32\"\n",
        "    reference_accumulator = \"fp32\"\n",
        "    q = run_qtools.QTools(\n",
        "      my_model,\n",
        "      # energy calculation using a given process\n",
        "      # \"horowitz\" refers to 45nm process published at\n",
        "      # M. Horowitz, \"1.1 Computing's energy problem (and what we can do about\n",
        "      # it), \"2014 IEEE International Solid-State Circuits Conference Digest of\n",
        "      # Technical Papers (ISSCC), San Francisco, CA, 2014, pp. 10-14, \n",
        "      # doi: 10.1109/ISSCC.2014.6757323.\n",
        "      process=\"horowitz\",\n",
        "      # quantizers for model input\n",
        "      source_quantizers=[quantized_bits(8, 0, 1)], #we are using images 8 bit per pixel\n",
        "      is_inference=False,\n",
        "      # absolute path (including filename) of the model weights\n",
        "      # in the future, we will attempt to optimize the power model\n",
        "      # by using weight information, although it can be used to further\n",
        "      # optimize QBatchNormalization.\n",
        "      weights_path=None,\n",
        "      # keras_quantizer to quantize weight/bias in un-quantized keras layers\n",
        "      keras_quantizer=reference_internal,\n",
        "      # keras_quantizer to quantize MAC in un-quantized keras layers\n",
        "      keras_accumulator=reference_accumulator,\n",
        "      # whether calculate baseline energy\n",
        "      for_reference=for_reference)\n",
        "  \n",
        "    # caculate energy of the derived data type map. \n",
        "    energy_dict = q.pe(\n",
        "      # whether to store parameters in dram, sram, or fixed\n",
        "      weights_on_memory=\"sram\",\n",
        "      # store activations in dram or sram\n",
        "      activations_on_memory=\"sram\",\n",
        "      # minimum sram size in number of bits. Let's assume a 16MB SRAM.\n",
        "      min_sram_size=8*16*1024*1024,\n",
        "      # whether load data from dram to sram (consider sram as a cache\n",
        "      # for dram. If false, we will assume data will be already in SRAM\n",
        "      rd_wr_on_io=False)\n",
        "\n",
        "    # get stats of energy distribution in each layer\n",
        "    energy_profile = q.extract_energy_profile(\n",
        "      qtools_settings.cfg.include_energy, energy_dict)\n",
        "      # extract sum of energy of each layer according to the rule specified in\n",
        "      # qtools_settings.cfg.include_energy\n",
        "    total_energy = q.extract_energy_sum(\n",
        "      qtools_settings.cfg.include_energy, energy_dict) / 1000.0\n",
        "  \n",
        "    if print_per_layer:\n",
        "      pprint.pprint(energy_profile)\n",
        "      print(\"\\n\\n\")\n",
        "\n",
        "    print(\"Total energy: {:.2f} nJ\".format(total_energy))\n",
        "    return total_energy\n",
        "\n",
        "\n",
        "  "
      ]
    },
    {
      "cell_type": "code",
      "source": [
        "#generate a file that sums up the main characteristics of the model\n",
        "def model_summary_file(model,model_path,train_time,search_time,history,energy):\n",
        "    with open(model_path+\"/summary.txt\", 'w') as f:\n",
        "      with redirect_stdout(f): #redirect stdout to file f\n",
        "        model.summary() \n",
        "        print_qmodel_summary(model)\n",
        "        qkeras.print_qstats(model)\n",
        "        f.write(\"Total training time: {ttime}\\n\".format(ttime=train_time))\n",
        "        f.write(\"Total search time: {stime}\\n\".format(stime=search_time))\n",
        "        f.write(\"Acc: {acc}\\n\".format(acc=history.history['acc'][-1]))\n",
        "        f.write(\"Val_Acc: {vacc}\\n\".format(vacc=history.history['val_acc'][-1]))\n",
        "        f.write(\"Energy: {e} nJ\\n\".format(e=energy))\n"
      ],
      "metadata": {
        "id": "KwXyWvtYFfGB"
      },
      "execution_count": null,
      "outputs": []
    },
    {
      "cell_type": "markdown",
      "source": [
        "# Unquantized reference model"
      ],
      "metadata": {
        "id": "1FR89lqpWoOe"
      }
    },
    {
      "cell_type": "code",
      "execution_count": null,
      "metadata": {
        "id": "P0_-26kwxZiQ",
        "colab": {
          "base_uri": "https://localhost:8080/"
        },
        "outputId": "2aad460b-9c5e-4ec4-81a7-a853183dd352"
      },
      "outputs": [
        {
          "output_type": "stream",
          "name": "stdout",
          "text": [
            "Model: \"model\"\n",
            "_________________________________________________________________\n",
            " Layer (type)                Output Shape              Param #   \n",
            "=================================================================\n",
            " input (InputLayer)          [(None, 28, 28, 1)]       0         \n",
            "                                                                 \n",
            " conv2d_0 (Conv2D)           (None, 14, 14, 16)        144       \n",
            "                                                                 \n",
            " bn_0 (BatchNormalization)   (None, 14, 14, 16)        64        \n",
            "                                                                 \n",
            " act_0 (Activation)          (None, 14, 14, 16)        0         \n",
            "                                                                 \n",
            " drop_0 (Dropout)            (None, 14, 14, 16)        0         \n",
            "                                                                 \n",
            " conv2d_1 (Conv2D)           (None, 7, 7, 32)          4608      \n",
            "                                                                 \n",
            " bn_1 (BatchNormalization)   (None, 7, 7, 32)          128       \n",
            "                                                                 \n",
            " act_1 (Activation)          (None, 7, 7, 32)          0         \n",
            "                                                                 \n",
            " drop_1 (Dropout)            (None, 7, 7, 32)          0         \n",
            "                                                                 \n",
            " conv2d_2 (Conv2D)           (None, 4, 4, 48)          13824     \n",
            "                                                                 \n",
            " bn_2 (BatchNormalization)   (None, 4, 4, 48)          192       \n",
            "                                                                 \n",
            " act_2 (Activation)          (None, 4, 4, 48)          0         \n",
            "                                                                 \n",
            " drop_2 (Dropout)            (None, 4, 4, 48)          0         \n",
            "                                                                 \n",
            " conv2d_3 (Conv2D)           (None, 2, 2, 64)          27648     \n",
            "                                                                 \n",
            " bn_3 (BatchNormalization)   (None, 2, 2, 64)          256       \n",
            "                                                                 \n",
            " act_3 (Activation)          (None, 2, 2, 64)          0         \n",
            "                                                                 \n",
            " drop_3 (Dropout)            (None, 2, 2, 64)          0         \n",
            "                                                                 \n",
            " conv2d_4 (Conv2D)           (None, 1, 1, 128)         73728     \n",
            "                                                                 \n",
            " bn_4 (BatchNormalization)   (None, 1, 1, 128)         512       \n",
            "                                                                 \n",
            " act_4 (Activation)          (None, 1, 1, 128)         0         \n",
            "                                                                 \n",
            " drop_4 (Dropout)            (None, 1, 1, 128)         0         \n",
            "                                                                 \n",
            " flatten (Flatten)           (None, 128)               0         \n",
            "                                                                 \n",
            " dense (Dense)               (None, 10)                1290      \n",
            "                                                                 \n",
            " softmax (Activation)        (None, 10)                0         \n",
            "                                                                 \n",
            "=================================================================\n",
            "Total params: 122,394\n",
            "Trainable params: 121,818\n",
            "Non-trainable params: 576\n",
            "_________________________________________________________________\n"
          ]
        }
      ],
      "source": [
        "with cur_strategy.scope():\n",
        "  umodel = get_model(DATASET) \n",
        "  custom_objects = {}"
      ]
    },
    {
      "cell_type": "code",
      "execution_count": null,
      "metadata": {
        "id": "nvFSJpeDxmWZ",
        "colab": {
          "base_uri": "https://localhost:8080/"
        },
        "outputId": "ca0807f1-b060-47e7-f918-60610298513a"
      },
      "outputs": [
        {
          "output_type": "stream",
          "name": "stdout",
          "text": [
            "model already exists\n"
          ]
        }
      ],
      "source": [
        "umodel_path = 'drive/MyDrive/Tesi/models/unquantized' \n",
        "\n",
        "with cur_strategy.scope():\n",
        "\n",
        "  if (exists(umodel_path+'/saved_model.pb')): #check if there is a saved model and load it\n",
        "    print(\"model already exists\")   #debug\n",
        "    umodel = keras.models.load_model(r\"drive/MyDrive/Tesi/models/unquantized\")\n",
        "\n",
        "  else: \n",
        "    print(\"model not found, creating new model\")\n",
        "    optimizer = Adam(lr=0.02)\n",
        "    umodel.compile(optimizer=optimizer, loss=\"categorical_crossentropy\", metrics=[\"acc\"])\n",
        "    t1 = time.time()\n",
        "    history = umodel.fit(x_train, y_train, epochs=200, batch_size=4096, validation_data=(x_test, y_test), validation_freq=5)\n",
        "    t2 = time.time()\n",
        "    uftime= t2-t1 #unquantized model tot fit time\n",
        "    umodel.save(r\"drive/MyDrive/Tesi/models/unquantized\")  #save model: it creates these files -> assets  keras_metadata.pb  saved_model.pb  variables\n",
        "                                                           #architecture,training config(optimizer,losses,metrics) in saved_model.pb\n",
        "                                                           #weights in variables\n",
        "    umodel_total_energy = calculate_energy_cost(umodel,True,for_reference=True)\n",
        "    #save model summary to a file\n",
        "    model_summary_file(umodel,umodel_path,uftime,0,history,umodel_total_energy)\n"
      ]
    },
    {
      "cell_type": "markdown",
      "source": [
        "#AUTOQKERAS_ENERGY"
      ],
      "metadata": {
        "id": "xONzWpiC0fQx"
      }
    },
    {
      "cell_type": "code",
      "source": [
        "#quantization config and limit\n",
        "quantization_config = {\n",
        "        \"kernel\": {\n",
        "                \"quantized_bits(4,0,1,alpha=1.0)\":4,\n",
        "                \"quantized_bits(4,1,1,alpha=1.0)\":4,\n",
        "                \"quantized_bits(4,2,1,alpha=1.0)\":4,\n",
        "                \"quantized_bits(4,3,1,alpha=1.0)\":4,\n",
        "                \"quantized_bits(4,4,1,alpha=1.0)\":4,\n",
        "\n",
        "                \"quantized_bits(8,0,1,alpha=1.0)\":8,\n",
        "                \"quantized_bits(8,1,1,alpha=1.0)\":8,\n",
        "                \"quantized_bits(8,2,1,alpha=1.0)\":8,\n",
        "                \"quantized_bits(8,3,1,alpha=1.0)\":8,\n",
        "                \"quantized_bits(8,4,1,alpha=1.0)\":8,\n",
        "                \"quantized_bits(8,5,1,alpha=1.0)\":8,\n",
        "                \"quantized_bits(8,6,1,alpha=1.0)\":8,\n",
        "                \"quantized_bits(8,7,1,alpha=1.0)\":8,\n",
        "                \"quantized_bits(8,8,1,alpha=1.0)\":8,\n",
        "\n",
        "                \"quantized_bits(16,0,1,alpha=1.0)\":16,\n",
        "                \"quantized_bits(16,1,1,alpha=1.0)\":16,\n",
        "                \"quantized_bits(16,2,1,alpha=1.0)\":16,\n",
        "                \"quantized_bits(16,3,1,alpha=1.0)\":16,\n",
        "                \"quantized_bits(16,4,1,alpha=1.0)\":16,\n",
        "                \"quantized_bits(16,5,1,alpha=1.0)\":16,\n",
        "                \"quantized_bits(16,6,1,alpha=1.0)\":16,\n",
        "                \"quantized_bits(16,7,1,alpha=1.0)\":16,\n",
        "                \"quantized_bits(16,8,1,alpha=1.0)\":16,\n",
        "                \"quantized_bits(16,9,1,alpha=1.0)\":16,\n",
        "                \"quantized_bits(16,10,1,alpha=1.0)\":16,\n",
        "                \"quantized_bits(16,11,1,alpha=1.0)\":16,\n",
        "                \"quantized_bits(16,12,1,alpha=1.0)\":16,\n",
        "                \"quantized_bits(16,13,1,alpha=1.0)\":16,\n",
        "                \"quantized_bits(16,14,1,alpha=1.0)\":16,\n",
        "                \"quantized_bits(16,15,1,alpha=1.0)\":16,\n",
        "                \"quantized_bits(16,16,1,alpha=1.0)\":16        \n",
        "        },\n",
        "        \"bias\": {\n",
        "                \"quantized_bits(4,0,1,alpha=1.0)\":4,\n",
        "                \"quantized_bits(4,1,1,alpha=1.0)\":4,\n",
        "                \"quantized_bits(4,2,1,alpha=1.0)\":4,\n",
        "                \"quantized_bits(4,3,1,alpha=1.0)\":4,\n",
        "                \"quantized_bits(4,4,1,alpha=1.0)\":4,\n",
        "\n",
        "                \"quantized_bits(8,0,1,alpha=1.0)\":8,\n",
        "                \"quantized_bits(8,1,1,alpha=1.0)\":8,\n",
        "                \"quantized_bits(8,2,1,alpha=1.0)\":8,\n",
        "                \"quantized_bits(8,3,1,alpha=1.0)\":8,\n",
        "                \"quantized_bits(8,4,1,alpha=1.0)\":8,\n",
        "                \"quantized_bits(8,5,1,alpha=1.0)\":8,\n",
        "                \"quantized_bits(8,6,1,alpha=1.0)\":8,\n",
        "                \"quantized_bits(8,7,1,alpha=1.0)\":8,\n",
        "                \"quantized_bits(8,8,1,alpha=1.0)\":8,\n",
        "\n",
        "                \"quantized_bits(16,0,1,alpha=1.0)\":16,\n",
        "                \"quantized_bits(16,1,1,alpha=1.0)\":16,\n",
        "                \"quantized_bits(16,2,1,alpha=1.0)\":16,\n",
        "                \"quantized_bits(16,3,1,alpha=1.0)\":16,\n",
        "                \"quantized_bits(16,4,1,alpha=1.0)\":16,\n",
        "                \"quantized_bits(16,5,1,alpha=1.0)\":16,\n",
        "                \"quantized_bits(16,6,1,alpha=1.0)\":16,\n",
        "                \"quantized_bits(16,7,1,alpha=1.0)\":16,\n",
        "                \"quantized_bits(16,8,1,alpha=1.0)\":16,\n",
        "                \"quantized_bits(16,9,1,alpha=1.0)\":16,\n",
        "                \"quantized_bits(16,10,1,alpha=1.0)\":16,\n",
        "                \"quantized_bits(16,11,1,alpha=1.0)\":16,\n",
        "                \"quantized_bits(16,12,1,alpha=1.0)\":16,\n",
        "                \"quantized_bits(16,13,1,alpha=1.0)\":16,\n",
        "                \"quantized_bits(16,14,1,alpha=1.0)\":16,\n",
        "                \"quantized_bits(16,15,1,alpha=1.0)\":16,\n",
        "                \"quantized_bits(16,16,1,alpha=1.0)\":16\n",
        "        },\n",
        "        \"activation\": {\n",
        "                \"quantized_relu(4,0)\": 4,\n",
        "                \"quantized_relu(4,1)\":4,\n",
        "                \"quantized_relu(4,2)\":4,\n",
        "                \"quantized_relu(4,3)\":4,\n",
        "                \"quantized_relu(4,4)\":4,\n",
        "\n",
        "                \"quantized_relu(8,0)\":8,\n",
        "                \"quantized_relu(8,1)\":8,\n",
        "                \"quantized_relu(8,2)\":8,\n",
        "                \"quantized_relu(8,3)\":8,\n",
        "                \"quantized_relu(8,4)\":8,\n",
        "                \"quantized_relu(8,5)\":8,\n",
        "                \"quantized_relu(8,6)\":8,\n",
        "                \"quantized_relu(8,7)\":8,\n",
        "                \"quantized_relu(8,8)\":8,\n",
        "\n",
        "                \"quantized_relu(16,0)\":16,\n",
        "                \"quantized_relu(16,1)\":16,\n",
        "                \"quantized_relu(16,2)\":16,\n",
        "                \"quantized_relu(16,3)\":16,\n",
        "                \"quantized_relu(16,4)\":16,\n",
        "                \"quantized_relu(16,5)\":16,\n",
        "                \"quantized_relu(16,6)\":16,\n",
        "                \"quantized_relu(16,7)\":16,\n",
        "                \"quantized_relu(16,8)\":16,\n",
        "                \"quantized_relu(16,9)\":16,\n",
        "                \"quantized_relu(16,10)\":16,\n",
        "                \"quantized_relu(16,11)\":16,\n",
        "                \"quantized_relu(16,12)\":16,\n",
        "                \"quantized_relu(16,13)\":16,\n",
        "                \"quantized_relu(16,14)\":16,\n",
        "                \"quantized_relu(16,15)\":16,\n",
        "                \"quantized_relu(16,16)\":16\n",
        "        },\n",
        "        \"linear\": {\n",
        "                \"quantized_bits(4,0,1,alpha=1.0)\":4,\n",
        "                \"quantized_bits(4,1,1,alpha=1.0)\":4,\n",
        "                \"quantized_bits(4,2,1,alpha=1.0)\":4,\n",
        "                \"quantized_bits(4,3,1,alpha=1.0)\":4,\n",
        "                \"quantized_bits(4,4,1,alpha=1.0)\":4,\n",
        "\n",
        "                \"quantized_bits(8,0,1,alpha=1.0)\":8,\n",
        "                \"quantized_bits(8,1,1,alpha=1.0)\":8,\n",
        "                \"quantized_bits(8,2,1,alpha=1.0)\":8,\n",
        "                \"quantized_bits(8,3,1,alpha=1.0)\":8,\n",
        "                \"quantized_bits(8,4,1,alpha=1.0)\":8,\n",
        "                \"quantized_bits(8,5,1,alpha=1.0)\":8,\n",
        "                \"quantized_bits(8,6,1,alpha=1.0)\":8,\n",
        "                \"quantized_bits(8,7,1,alpha=1.0)\":8,\n",
        "                \"quantized_bits(8,8,1,alpha=1.0)\":8,\n",
        "\n",
        "                \"quantized_bits(16,0,1,alpha=1.0)\":16,\n",
        "                \"quantized_bits(16,1,1,alpha=1.0)\":16,\n",
        "                \"quantized_bits(16,2,1,alpha=1.0)\":16,\n",
        "                \"quantized_bits(16,3,1,alpha=1.0)\":16,\n",
        "                \"quantized_bits(16,4,1,alpha=1.0)\":16,\n",
        "                \"quantized_bits(16,5,1,alpha=1.0)\":16,\n",
        "                \"quantized_bits(16,6,1,alpha=1.0)\":16,\n",
        "                \"quantized_bits(16,7,1,alpha=1.0)\":16,\n",
        "                \"quantized_bits(16,8,1,alpha=1.0)\":16,\n",
        "                \"quantized_bits(16,9,1,alpha=1.0)\":16,\n",
        "                \"quantized_bits(16,10,1,alpha=1.0)\":16,\n",
        "                \"quantized_bits(16,11,1,alpha=1.0)\":16,\n",
        "                \"quantized_bits(16,12,1,alpha=1.0)\":16,\n",
        "                \"quantized_bits(16,13,1,alpha=1.0)\":16,\n",
        "                \"quantized_bits(16,14,1,alpha=1.0)\":16,\n",
        "                \"quantized_bits(16,15,1,alpha=1.0)\":16,\n",
        "                \"quantized_bits(16,16,1,alpha=1.0)\":16\n",
        "        }\n",
        "}\n",
        "\n",
        "\n",
        "limit = {\n",
        "    \"Dense\": [16, 16, 16],\n",
        "    \"Conv2D\": [16, 16, 16],\n",
        "    \"DepthwiseConv2D\": [16, 16, 16],\n",
        "    \"Activation\": [16],\n",
        "    \"BatchNormalization\": []\n",
        "}"
      ],
      "metadata": {
        "id": "w9DyPuzMsmH7"
      },
      "execution_count": null,
      "outputs": []
    },
    {
      "cell_type": "code",
      "execution_count": null,
      "metadata": {
        "id": "vSsEwDr_yRG4",
        "colab": {
          "base_uri": "https://localhost:8080/"
        },
        "outputId": "917d6fb2-09ce-4189-99df-634b594a9c72"
      },
      "outputs": [
        {
          "output_type": "stream",
          "name": "stdout",
          "text": [
            "quantizing layers: ['conv2d_0', 'bn_0', 'act_0', 'drop_0', 'conv2d_1', 'bn_1', 'act_1', 'drop_1', 'conv2d_2', 'bn_2', 'act_2', 'drop_2', 'conv2d_3', 'bn_3', 'act_3', 'drop_3', 'conv2d_4', 'bn_4', 'act_4', 'drop_4', 'flatten', 'dense']\n",
            "quantizing layers: ['conv2d_0', 'bn_0', 'act_0', 'drop_0', 'conv2d_1', 'bn_1', 'act_1', 'drop_1', 'conv2d_2', 'bn_2', 'act_2', 'drop_2', 'conv2d_3', 'bn_3', 'act_3', 'drop_3', 'conv2d_4', 'bn_4', 'act_4', 'drop_4', 'flatten', 'dense']\n",
            "quantizing layers: ['conv2d_0', 'bn_0', 'act_0', 'drop_0', 'conv2d_1', 'bn_1', 'act_1', 'drop_1', 'conv2d_2', 'bn_2', 'act_2', 'drop_2', 'conv2d_3', 'bn_3', 'act_3', 'drop_3', 'conv2d_4', 'bn_4', 'act_4', 'drop_4', 'flatten', 'dense']\n"
          ]
        }
      ],
      "source": [
        "#Optimization goal and autoqkeras search parameters\n",
        "\n",
        "goal = {\n",
        "    \"type\": \"energy\",\n",
        "    \"params\": {\n",
        "              \"delta_p\": 5.0,\n",
        "              \"delta_n\": 5.0,\n",
        "              \"rate\": 2.0,\n",
        "              \"stress\": 1.0,\n",
        "              \"process\": 'horowitz',\n",
        "              \"parameters_on_memory\": ['sram','sram'],\n",
        "              \"activations_on_memory\": ['sram','sram'],\n",
        "              \"rd_wr_on_io\": [False,False],\n",
        "              \"min_sram_size\": [0,0],\n",
        "              \"source_quantizers\": ['int8'],\n",
        "              \"reference_internal\": 'fp16',  \n",
        "              \"reference_accumulator\": 'fp16' \n",
        "              }\n",
        "}\n",
        "\n",
        "\n",
        "#random keras tuner search\n",
        "energy_random_filepath = 'drive/MyDrive/Tesi/models/QE/Random/Autoqkeras_trials'\n",
        "run_config_random = {\n",
        "  \"output_dir\": energy_random_filepath, \n",
        "  \"goal\": goal,                               \n",
        "  \"quantization_config\": quantization_config,\n",
        "  \"learning_rate_optimizer\": False,                 \n",
        "  \"transfer_weights\": False,\n",
        "  \"mode\": \"random\", #can be random,bayesian,hyperband\n",
        "  \"seed\": 42,   \n",
        "  \"limit\": limit,\n",
        "  \"tune_filters\": \"none\", #layer,block or none\n",
        "  \"tune_filters_exceptions\": \"^dense\",\n",
        "  \"distribution_strategy\": cur_strategy,  #tpu,gpu etc\n",
        "  # first layer is input, layer two layers are softmax and flatten\n",
        "  \"layer_indexes\": range(1, len(umodel.layers) - 1), #layers where we want to perform quantization\n",
        "  \"max_trials\": 20\n",
        "}\n",
        "\n",
        "#bayesian keras tuner search\n",
        "energy_bayesian_filepath = 'drive/MyDrive/Tesi/models/QE/Bayesian/Autoqkeras_trials'\n",
        "run_config_bayesian = {\n",
        "  \"output_dir\": energy_bayesian_filepath,  \n",
        "  \"goal\": goal,                               \n",
        "  \"quantization_config\": quantization_config,\n",
        "  \"learning_rate_optimizer\": False,                  \n",
        "  \"transfer_weights\": False,\n",
        "  \"mode\": \"bayesian\", #can be random,bayesian,hyperband\n",
        "  \"seed\": 42,   \n",
        "  \"limit\": limit,\n",
        "  \"tune_filters\": \"none\", #layer,block or none\n",
        "  \"tune_filters_exceptions\": \"^dense\",\n",
        "  \"distribution_strategy\": cur_strategy,  #tpu,gpu etc\n",
        "  # first layer is input, layer two layers are softmax and flatten\n",
        "  \"layer_indexes\": range(1, len(umodel.layers) - 1), #layers where we want to perform quantization\n",
        "  \"max_trials\": 20\n",
        "\n",
        "}\n",
        "\n",
        "\n",
        "#hyperband keras tuner search\n",
        "energy_hyperband_filepath = 'drive/MyDrive/Tesi/models/QE/Hyperband/Autoqkeras_trials'\n",
        "run_config_hyper = {\n",
        "  \"output_dir\": energy_hyperband_filepath, \n",
        "  \"goal\": goal,                               \n",
        "  \"quantization_config\": quantization_config,\n",
        "  \"learning_rate_optimizer\": False,             \n",
        "  \"transfer_weights\": False,\n",
        "  \"mode\": \"hyperband\", #can be random,bayesian,hyperband\n",
        "  \"seed\": 42,   \n",
        "  \"limit\": limit,\n",
        "  \"tune_filters\": \"none\", #layer,block or none\n",
        "  \"tune_filters_exceptions\": \"^dense\",\n",
        "  \"distribution_strategy\": cur_strategy,  #tpu,gpu etc\n",
        "  \"layer_indexes\": range(1, len(umodel.layers) - 1), #layers where we want to perform quantization.   first layer is input, layer two layers are softmax and flatten\n",
        "  \"max_epochs\": 50,\n",
        "  \"factor\": 7,        #the reduction factor for the number of epochs and number of models for each bracket\n",
        "  \"hyperband_iterations\": 1 # the number of times to iterate over the full Hyperband algorithm, one iteration = max_epochs * (math.log(max_epochs, factor) ** 2)\n",
        "}\n",
        "\n",
        "#debug, checks which layers we are quantizing\n",
        "print(\"quantizing layers:\", [umodel.layers[i].name for i in run_config_random[\"layer_indexes\"]])\n",
        "print(\"quantizing layers:\", [umodel.layers[i].name for i in run_config_bayesian[\"layer_indexes\"]])\n",
        "print(\"quantizing layers:\", [umodel.layers[i].name for i in run_config_hyper[\"layer_indexes\"]])"
      ]
    },
    {
      "cell_type": "code",
      "source": [
        "#model list (3 elements: random,bayesian,hyperband) + path list for weights\n",
        "QEmodel = [0,0,0]\n",
        "\n",
        "random_model_tmp_path = './drive/MyDrive/Tesi/models/QE/Random/tmp/weights.h5'\n",
        "bayesian_model_tmp_path = './drive/MyDrive/Tesi/models/QE/Bayesian/tmp/weights.h5'\n",
        "hyperband_model_tmp_path = './drive/MyDrive/Tesi/models/QE/Hyperband/tmp/weights.h5'\n",
        "\n",
        "weight_path = [random_model_tmp_path, bayesian_model_tmp_path, hyperband_model_tmp_path]\n",
        "\n",
        "\n",
        "#final model path\n",
        "random_model_path = './drive/MyDrive/Tesi/models/QE/Random'\n",
        "bayesian_model_path = './drive/MyDrive/Tesi/models/QE/Bayesian'\n",
        "hyperband_model_path = './drive/MyDrive/Tesi/models/QE/Hyperband'\n",
        "\n",
        "model_path = [random_model_path, bayesian_model_path, hyperband_model_path]\n",
        "\n",
        "#checkpoint path\n",
        "c_random = './drive/MyDrive/Tesi/models/QE/Random/tmp/checkpoint'\n",
        "b_random = './drive/MyDrive/Tesi/models/QE/Bayesian/tmp/checkpoint'\n",
        "h_random = './drive/MyDrive/Tesi/models/QE/Hyperband/tmp/checkpoint'\n",
        "checkpoint_filepath = [c_random, b_random, h_random]\n",
        "\n",
        "#tot search time list\n",
        "tot_time_energy = [0,0,0]\n"
      ],
      "metadata": {
        "id": "Oj2XpRDmNeLx"
      },
      "execution_count": null,
      "outputs": []
    },
    {
      "cell_type": "code",
      "execution_count": null,
      "metadata": {
        "id": "MxlZFpa3fBv2"
      },
      "outputs": [],
      "source": [
        "#QE RANDOM\n",
        "\n",
        "#autoqkeras treats quantization as a hyperparameter search in Keras Tuner\n",
        "\n",
        "QE_R = AutoQKeras(umodel, metrics=[\"acc\"], custom_objects=custom_objects, **run_config_random,overwrite=False)  #by setting overwrite=False Keras Tuner resumes search from last iteration\n",
        "\n",
        "t_start_energy = time.time()\n",
        "QE_R.fit(x_train, y_train, validation_data=(x_test, y_test), batch_size=1024, epochs=20)   \n",
        "t_end_energy = time.time()\n",
        "tot_time_energy[0] = t_end_energy - t_start_energy #total autoqkeras search time\n",
        "\n",
        "\n",
        "#save weights of the best model for training \n",
        "QEmodel[0] = QE_R.get_best_model() #this builds an actual quantized model from the best hyperparameter(quantization) search\n",
        "QEmodel[0].save_weights(weight_path[0])"
      ]
    },
    {
      "cell_type": "code",
      "execution_count": null,
      "metadata": {
        "id": "Lj81MTvMCaYC"
      },
      "outputs": [],
      "source": [
        "#QE BAYESIAN\n",
        "\n",
        "QE_B = AutoQKeras(umodel, metrics=[\"acc\"], custom_objects=custom_objects, **run_config_bayesian, overwrite=False)\n",
        "\n",
        "t_start_energy = time.time()\n",
        "QE_B.fit(x_train, y_train, validation_data=(x_test, y_test), batch_size=1024, epochs=20) \n",
        "t_end_energy = time.time()\n",
        "tot_time_energy[1] = t_end_energy - t_start_energy\n",
        "\n",
        "#save data\n",
        "QEmodel[1] = QE_B.get_best_model()\n",
        "QEmodel[1].save_weights(weight_path[1]) "
      ]
    },
    {
      "cell_type": "code",
      "execution_count": null,
      "metadata": {
        "id": "17HeiXCiCbM6"
      },
      "outputs": [],
      "source": [
        "#QE HYPER\n",
        "\n",
        "callback = tf.keras.callbacks.EarlyStopping(monitor='loss', patience=3) #stop if no improvement after 3 epochs\n",
        "\n",
        "QE_H = AutoQKeras(umodel, metrics=[\"acc\"], custom_objects=custom_objects, **run_config_hyper, overwrite=False)\n",
        "\n",
        "t_start_energy = time.time()\n",
        "QE_H.fit(x_train, y_train, validation_data=(x_test, y_test), batch_size=1024, epochs=20, callbacks = [callback]) \n",
        "t_end_energy = time.time()\n",
        "tot_time_energy[2] = t_end_energy - t_start_energy\n",
        "\n",
        "#save data and model \n",
        "QEmodel[2] = QE_H.get_best_model()\n",
        "QEmodel[2].save_weights(weight_path[2]) "
      ]
    },
    {
      "cell_type": "code",
      "execution_count": null,
      "metadata": {
        "id": "_ipZSEfgoGdb"
      },
      "outputs": [],
      "source": [
        "#Train Autoqkeras model\n",
        "n_batch = 4096\n",
        "n_epoch = 200\n",
        "\n",
        "for x in range(3):\n",
        "  model_checkpoint_callback = tf.keras.callbacks.ModelCheckpoint(\n",
        "    filepath=checkpoint_filepath[x],\n",
        "    save_weights_only=False,\n",
        "    monitor='val_accuracy',\n",
        "    mode='max',\n",
        "    save_freq = n_batch*5, \n",
        "    save_best_only=True)\n",
        "  \n",
        "  QEmodel[x].load_weights(weight_path[x])\n",
        "  path = model_path[x]\n",
        "  with cur_strategy.scope():\n",
        "    optimizer = Adam(lr=0.02)\n",
        "    QEmodel[x].compile(optimizer=optimizer, loss=\"categorical_crossentropy\", metrics=[\"acc\"])\n",
        "    start = time.time()\n",
        "    QE_history = QEmodel[x].fit(x_train, y_train, epochs=n_epoch, batch_size=n_batch, validation_data=(x_test, y_test), validation_freq= 5, callbacks=[model_checkpoint_callback])\n",
        "    end = time.time()\n",
        "    ftimeE = end-start\n",
        "    #save best QE model and save summary file\n",
        "    QEmodel[x].save(path)\n",
        "    energy= calculate_energy_cost(QEmodel[x])\n",
        "    model_summary_file(QEmodel[x],path,ftimeE,tot_time_energy[x],QE_history,energy)\n",
        "  "
      ]
    },
    {
      "cell_type": "markdown",
      "source": [
        "#AUTOQKERAS_BIT\n"
      ],
      "metadata": {
        "id": "f2TbRtYdM8_M"
      }
    },
    {
      "cell_type": "code",
      "source": [
        "#Optimization goal and autoqkeras search parameters\n",
        "\n",
        "goalB = {\n",
        "          \"type\": \"bits\",\n",
        "          \"params\": {\n",
        "              \"delta_p\": 5.0,\n",
        "              \"delta_n\": 5.0,\n",
        "              \"rate\": 2.0,\n",
        "              \"stress\": 1.0,\n",
        "              \"input_bits\": 8,\n",
        "              \"output_bits\": 8,\n",
        "              \"ref_bits\": 16,\n",
        "              \"config\": {\n",
        "                  \"default\": [\"parameters\", \"activations\"]\n",
        "              }\n",
        "          }\n",
        "      }\n",
        "\n",
        "\n",
        "#random keras tuner search\n",
        "bit_random_filepath = 'drive/MyDrive/Tesi/models/QB/Random/Autoqkeras_trials'\n",
        "run_config_randomB = {\n",
        "  \"output_dir\": bit_random_filepath, \n",
        "  \"goal\": goalB,                               \n",
        "  \"quantization_config\": quantization_config,\n",
        "  \"learning_rate_optimizer\": False,                 \n",
        "  \"transfer_weights\": False,\n",
        "  \"mode\": \"random\", #can be random,bayesian,hyperband\n",
        "  \"seed\": 42,   \n",
        "  \"limit\": limit,\n",
        "  \"tune_filters\": \"none\", #layer,block or none\n",
        "  \"tune_filters_exceptions\": \"^dense\",\n",
        "  \"distribution_strategy\": cur_strategy,  #tpu,gpu etc\n",
        "  # first layer is input, layer two layers are softmax and flatten\n",
        "  \"layer_indexes\": range(1, len(umodel.layers) - 1), #layers where we want to perform quantization\n",
        "  \"max_trials\": 20\n",
        "}\n",
        "\n",
        "#bayesian keras tuner search\n",
        "bit_bayesian_filepath = 'drive/MyDrive/Tesi/models/QB/Bayesian/Autoqkeras_trials'\n",
        "run_config_bayesianB = {\n",
        "  \"output_dir\": bit_bayesian_filepath,  \n",
        "  \"goal\": goalB,                               \n",
        "  \"quantization_config\": quantization_config,\n",
        "  \"learning_rate_optimizer\": False,                  \n",
        "  \"transfer_weights\": False,\n",
        "  \"mode\": \"bayesian\", #can be random,bayesian,hyperband\n",
        "  \"seed\": 42,   \n",
        "  \"limit\": limit,\n",
        "  \"tune_filters\": \"none\", #layer,block or none\n",
        "  \"tune_filters_exceptions\": \"^dense\",\n",
        "  \"distribution_strategy\": cur_strategy,  #tpu,gpu etc\n",
        "  # first layer is input, layer two layers are softmax and flatten\n",
        "  \"layer_indexes\": range(1, len(umodel.layers) - 1), #layers where we want to perform quantization\n",
        "  \"max_trials\": 20\n",
        "}\n",
        "\n",
        "#hyperband keras tuner search\n",
        "bit_hyperband_filepath = 'drive/MyDrive/Tesi/models/QB/Hyperband/Autoqkeras_trials'\n",
        "run_config_hyperB = {\n",
        "  \"output_dir\": bit_hyperband_filepath, \n",
        "  \"goal\": goalB,                               \n",
        "  \"quantization_config\": quantization_config,\n",
        "  \"learning_rate_optimizer\": False,             \n",
        "  \"transfer_weights\": False,\n",
        "  \"mode\": \"hyperband\", #can be random,bayesian,hyperband\n",
        "  \"seed\": 42,   \n",
        "  \"limit\": limit,\n",
        "  \"tune_filters\": \"none\", #layer,block or none\n",
        "  \"tune_filters_exceptions\": \"^dense\",\n",
        "  \"distribution_strategy\": cur_strategy,  #tpu,gpu etc\n",
        "  \"layer_indexes\": range(1, len(umodel.layers) - 1), #layers where we want to perform quantization.   first layer is input, layer two layers are softmax and flatten\n",
        "  \"max_epochs\": 50,\n",
        "  \"factor\": 3,             #the reduction factor for the number of epochs and number of models for each bracket\n",
        "  \"hyperband_iterations\": 1 # the number of times to iterate over the full Hyperband algorithm, one iteration = max_epochs * (math.log(max_epochs, factor) ** 2)\n",
        "}\n",
        "\n",
        "#debug, checks which layers we are quantizing\n",
        "print(\"quantizing layers:\", [umodel.layers[i].name for i in run_config_randomB[\"layer_indexes\"]])\n",
        "print(\"quantizing layers:\", [umodel.layers[i].name for i in run_config_bayesianB[\"layer_indexes\"]])\n",
        "print(\"quantizing layers:\", [umodel.layers[i].name for i in run_config_hyperB[\"layer_indexes\"]])"
      ],
      "metadata": {
        "id": "z_Z85UiPCAZk",
        "colab": {
          "base_uri": "https://localhost:8080/"
        },
        "outputId": "85f13bfe-2775-4653-bff2-77477a324d23"
      },
      "execution_count": null,
      "outputs": [
        {
          "output_type": "stream",
          "name": "stdout",
          "text": [
            "quantizing layers: ['conv2d_0', 'bn_0', 'act_0', 'drop_0', 'conv2d_1', 'bn_1', 'act_1', 'drop_1', 'conv2d_2', 'bn_2', 'act_2', 'drop_2', 'conv2d_3', 'bn_3', 'act_3', 'drop_3', 'conv2d_4', 'bn_4', 'act_4', 'drop_4', 'flatten', 'dense']\n",
            "quantizing layers: ['conv2d_0', 'bn_0', 'act_0', 'drop_0', 'conv2d_1', 'bn_1', 'act_1', 'drop_1', 'conv2d_2', 'bn_2', 'act_2', 'drop_2', 'conv2d_3', 'bn_3', 'act_3', 'drop_3', 'conv2d_4', 'bn_4', 'act_4', 'drop_4', 'flatten', 'dense']\n",
            "quantizing layers: ['conv2d_0', 'bn_0', 'act_0', 'drop_0', 'conv2d_1', 'bn_1', 'act_1', 'drop_1', 'conv2d_2', 'bn_2', 'act_2', 'drop_2', 'conv2d_3', 'bn_3', 'act_3', 'drop_3', 'conv2d_4', 'bn_4', 'act_4', 'drop_4', 'flatten', 'dense']\n"
          ]
        }
      ]
    },
    {
      "cell_type": "code",
      "source": [
        "#model list (3 elements: random,bayesian,hyperband) + path list for weights\n",
        "QBmodel = [0,0,0]\n",
        "\n",
        "random_model_tmp_pathB = './drive/MyDrive/Tesi/models/QB/Random/tmp/weights.h5'\n",
        "bayesian_model_tmp_pathB = './drive/MyDrive/Tesi/models/QB/Bayesian/tmp/weights.h5'\n",
        "hyperband_model_tmp_pathB = './drive/MyDrive/Tesi/models/QB/Hyperband/tmp/weights.h5'\n",
        "\n",
        "weight_pathB = [random_model_tmp_pathB, bayesian_model_tmp_pathB, hyperband_model_tmp_pathB]\n",
        "\n",
        "\n",
        "#final model path\n",
        "random_model_pathB = './drive/MyDrive/Tesi/models/QB/Random'\n",
        "bayesian_model_pathB = './drive/MyDrive/Tesi/models/QB/Bayesian'\n",
        "hyperband_model_pathB = './drive/MyDrive/Tesi/models/QB/Hyperband'\n",
        "\n",
        "model_pathB = [random_model_pathB, bayesian_model_pathB, hyperband_model_pathB]\n",
        "\n",
        "#checkpoint path\n",
        "checkpoint_filepathB = ['./drive/MyDrive/Tesi/tmp/checkpointB_R','./drive/MyDrive/Tesi/tmp/checkpointB_B','./drive/MyDrive/Tesi/tmp/checkpointB_H']\n",
        "\n",
        "\n",
        "#search time list\n",
        "tot_time_bit = [0,0,0]\n"
      ],
      "metadata": {
        "id": "0qcu9VrnEqLX"
      },
      "execution_count": null,
      "outputs": []
    },
    {
      "cell_type": "code",
      "execution_count": null,
      "metadata": {
        "id": "-VnpO_3BE_qG",
        "colab": {
          "base_uri": "https://localhost:8080/",
          "height": 449
        },
        "outputId": "82dcde52-8302-4273-f724-740b0b52041f"
      },
      "outputs": [
        {
          "output_type": "stream",
          "name": "stdout",
          "text": [
            "Limit configuration:{\"Dense\": [16, 16, 16], \"Conv2D\": [16, 16, 16], \"DepthwiseConv2D\": [16, 16, 16], \"Activation\": [16], \"BatchNormalization\": []}\n"
          ]
        },
        {
          "output_type": "error",
          "ename": "KeyboardInterrupt",
          "evalue": "ignored",
          "traceback": [
            "\u001b[0;31m---------------------------------------------------------------------------\u001b[0m",
            "\u001b[0;31mNotImplementedError\u001b[0m                       Traceback (most recent call last)",
            "\u001b[0;32m/usr/local/lib/python3.7/dist-packages/keras_tuner/engine/base_tuner.py\u001b[0m in \u001b[0;36m_populate_initial_space\u001b[0;34m(self)\u001b[0m\n\u001b[1;32m    127\u001b[0m         \u001b[0;32mtry\u001b[0m\u001b[0;34m:\u001b[0m\u001b[0;34m\u001b[0m\u001b[0;34m\u001b[0m\u001b[0m\n\u001b[0;32m--> 128\u001b[0;31m             \u001b[0mself\u001b[0m\u001b[0;34m.\u001b[0m\u001b[0mhypermodel\u001b[0m\u001b[0;34m.\u001b[0m\u001b[0mdeclare_hyperparameters\u001b[0m\u001b[0;34m(\u001b[0m\u001b[0mhp\u001b[0m\u001b[0;34m)\u001b[0m\u001b[0;34m\u001b[0m\u001b[0;34m\u001b[0m\u001b[0m\n\u001b[0m\u001b[1;32m    129\u001b[0m         \u001b[0;32mexcept\u001b[0m \u001b[0mNotImplementedError\u001b[0m\u001b[0;34m:\u001b[0m\u001b[0;34m\u001b[0m\u001b[0;34m\u001b[0m\u001b[0m\n",
            "\u001b[0;32m/usr/local/lib/python3.7/dist-packages/keras_tuner/engine/hypermodel.py\u001b[0m in \u001b[0;36mdeclare_hyperparameters\u001b[0;34m(self, hp)\u001b[0m\n\u001b[1;32m    113\u001b[0m     \u001b[0;32mdef\u001b[0m \u001b[0mdeclare_hyperparameters\u001b[0m\u001b[0;34m(\u001b[0m\u001b[0mself\u001b[0m\u001b[0;34m,\u001b[0m \u001b[0mhp\u001b[0m\u001b[0;34m)\u001b[0m\u001b[0;34m:\u001b[0m\u001b[0;34m\u001b[0m\u001b[0;34m\u001b[0m\u001b[0m\n\u001b[0;32m--> 114\u001b[0;31m         \u001b[0;32mraise\u001b[0m \u001b[0mNotImplementedError\u001b[0m\u001b[0;34m\u001b[0m\u001b[0;34m\u001b[0m\u001b[0m\n\u001b[0m\u001b[1;32m    115\u001b[0m \u001b[0;34m\u001b[0m\u001b[0m\n",
            "\u001b[0;31mNotImplementedError\u001b[0m: ",
            "\nDuring handling of the above exception, another exception occurred:\n",
            "\u001b[0;31mKeyboardInterrupt\u001b[0m                         Traceback (most recent call last)",
            "\u001b[0;32m<ipython-input-19-4ef5576f2a98>\u001b[0m in \u001b[0;36m<module>\u001b[0;34m\u001b[0m\n\u001b[1;32m      2\u001b[0m \u001b[0;34m\u001b[0m\u001b[0m\n\u001b[1;32m      3\u001b[0m \u001b[0mcallback\u001b[0m \u001b[0;34m=\u001b[0m \u001b[0mtf\u001b[0m\u001b[0;34m.\u001b[0m\u001b[0mkeras\u001b[0m\u001b[0;34m.\u001b[0m\u001b[0mcallbacks\u001b[0m\u001b[0;34m.\u001b[0m\u001b[0mEarlyStopping\u001b[0m\u001b[0;34m(\u001b[0m\u001b[0mmonitor\u001b[0m\u001b[0;34m=\u001b[0m\u001b[0;34m'val_acc'\u001b[0m\u001b[0;34m,\u001b[0m \u001b[0mpatience\u001b[0m\u001b[0;34m=\u001b[0m\u001b[0;36m3\u001b[0m\u001b[0;34m,\u001b[0m\u001b[0mmin_delta\u001b[0m\u001b[0;34m=\u001b[0m\u001b[0;36m0.02\u001b[0m\u001b[0;34m,\u001b[0m\u001b[0mverbose\u001b[0m\u001b[0;34m=\u001b[0m\u001b[0;36m1\u001b[0m\u001b[0;34m)\u001b[0m\u001b[0;34m\u001b[0m\u001b[0;34m\u001b[0m\u001b[0m\n\u001b[0;32m----> 4\u001b[0;31m \u001b[0mQB_R\u001b[0m \u001b[0;34m=\u001b[0m \u001b[0mAutoQKeras\u001b[0m\u001b[0;34m(\u001b[0m\u001b[0mumodel\u001b[0m\u001b[0;34m,\u001b[0m \u001b[0mmetrics\u001b[0m\u001b[0;34m=\u001b[0m\u001b[0;34m[\u001b[0m\u001b[0;34m\"acc\"\u001b[0m\u001b[0;34m]\u001b[0m\u001b[0;34m,\u001b[0m \u001b[0mcustom_objects\u001b[0m\u001b[0;34m=\u001b[0m\u001b[0mcustom_objects\u001b[0m\u001b[0;34m,\u001b[0m \u001b[0;34m**\u001b[0m\u001b[0mrun_config_randomB\u001b[0m\u001b[0;34m,\u001b[0m\u001b[0moverwrite\u001b[0m\u001b[0;34m=\u001b[0m\u001b[0;32mFalse\u001b[0m\u001b[0;34m)\u001b[0m  \u001b[0;31m#by setting overwrite=False Keras Tuner resumes search from last iteration\u001b[0m\u001b[0;34m\u001b[0m\u001b[0;34m\u001b[0m\u001b[0m\n\u001b[0m\u001b[1;32m      5\u001b[0m \u001b[0;34m\u001b[0m\u001b[0m\n\u001b[1;32m      6\u001b[0m \u001b[0mt_start_bit\u001b[0m \u001b[0;34m=\u001b[0m \u001b[0mtime\u001b[0m\u001b[0;34m.\u001b[0m\u001b[0mtime\u001b[0m\u001b[0;34m(\u001b[0m\u001b[0;34m)\u001b[0m\u001b[0;34m\u001b[0m\u001b[0;34m\u001b[0m\u001b[0m\n",
            "\u001b[0;32m/usr/local/lib/python3.7/dist-packages/qkeras/autoqkeras/autoqkeras_internal.py\u001b[0m in \u001b[0;36m__init__\u001b[0;34m(self, model, metrics, custom_objects, goal, output_dir, mode, custom_tuner, transfer_weights, frozen_layers, activation_bits, limit, tune_filters, tune_filters_exceptions, learning_rate_optimizer, layer_indexes, quantization_config, overwrite, head_name, score_metric, **tuner_kwargs)\u001b[0m\n\u001b[1;32m    871\u001b[0m           \u001b[0mobjective\u001b[0m\u001b[0;34m=\u001b[0m\u001b[0mkt\u001b[0m\u001b[0;34m.\u001b[0m\u001b[0mObjective\u001b[0m\u001b[0;34m(\u001b[0m\u001b[0mscore_metric\u001b[0m\u001b[0;34m,\u001b[0m \u001b[0;34m\"max\"\u001b[0m\u001b[0;34m)\u001b[0m\u001b[0;34m,\u001b[0m\u001b[0;34m\u001b[0m\u001b[0;34m\u001b[0m\u001b[0m\n\u001b[1;32m    872\u001b[0m           \u001b[0mproject_name\u001b[0m\u001b[0;34m=\u001b[0m\u001b[0moutput_dir\u001b[0m\u001b[0;34m,\u001b[0m\u001b[0;34m\u001b[0m\u001b[0;34m\u001b[0m\u001b[0m\n\u001b[0;32m--> 873\u001b[0;31m           **tuner_kwargs)\n\u001b[0m\u001b[1;32m    874\u001b[0m     \u001b[0;32melif\u001b[0m \u001b[0mmode\u001b[0m \u001b[0;34m==\u001b[0m \u001b[0;34m\"bayesian\"\u001b[0m\u001b[0;34m:\u001b[0m\u001b[0;34m\u001b[0m\u001b[0;34m\u001b[0m\u001b[0m\n\u001b[1;32m    875\u001b[0m       self.tuner = BayesianOptimization(\n",
            "\u001b[0;32m/usr/local/lib/python3.7/dist-packages/keras_tuner/tuners/randomsearch.py\u001b[0m in \u001b[0;36m__init__\u001b[0;34m(self, hypermodel, objective, max_trials, seed, hyperparameters, tune_new_entries, allow_new_entries, **kwargs)\u001b[0m\n\u001b[1;32m    143\u001b[0m             \u001b[0mallow_new_entries\u001b[0m\u001b[0;34m=\u001b[0m\u001b[0mallow_new_entries\u001b[0m\u001b[0;34m,\u001b[0m\u001b[0;34m\u001b[0m\u001b[0;34m\u001b[0m\u001b[0m\n\u001b[1;32m    144\u001b[0m         )\n\u001b[0;32m--> 145\u001b[0;31m         \u001b[0msuper\u001b[0m\u001b[0;34m(\u001b[0m\u001b[0mRandomSearch\u001b[0m\u001b[0;34m,\u001b[0m \u001b[0mself\u001b[0m\u001b[0;34m)\u001b[0m\u001b[0;34m.\u001b[0m\u001b[0m__init__\u001b[0m\u001b[0;34m(\u001b[0m\u001b[0moracle\u001b[0m\u001b[0;34m,\u001b[0m \u001b[0mhypermodel\u001b[0m\u001b[0;34m,\u001b[0m \u001b[0;34m**\u001b[0m\u001b[0mkwargs\u001b[0m\u001b[0;34m)\u001b[0m\u001b[0;34m\u001b[0m\u001b[0;34m\u001b[0m\u001b[0m\n\u001b[0m",
            "\u001b[0;32m/usr/local/lib/python3.7/dist-packages/keras_tuner/engine/tuner.py\u001b[0m in \u001b[0;36m__init__\u001b[0;34m(self, oracle, hypermodel, max_model_size, optimizer, loss, metrics, distribution_strategy, directory, project_name, logger, tuner_id, overwrite, executions_per_trial)\u001b[0m\n\u001b[1;32m    114\u001b[0m             \u001b[0mproject_name\u001b[0m\u001b[0;34m=\u001b[0m\u001b[0mproject_name\u001b[0m\u001b[0;34m,\u001b[0m\u001b[0;34m\u001b[0m\u001b[0;34m\u001b[0m\u001b[0m\n\u001b[1;32m    115\u001b[0m             \u001b[0mlogger\u001b[0m\u001b[0;34m=\u001b[0m\u001b[0mlogger\u001b[0m\u001b[0;34m,\u001b[0m\u001b[0;34m\u001b[0m\u001b[0;34m\u001b[0m\u001b[0m\n\u001b[0;32m--> 116\u001b[0;31m             \u001b[0moverwrite\u001b[0m\u001b[0;34m=\u001b[0m\u001b[0moverwrite\u001b[0m\u001b[0;34m,\u001b[0m\u001b[0;34m\u001b[0m\u001b[0;34m\u001b[0m\u001b[0m\n\u001b[0m\u001b[1;32m    117\u001b[0m         )\n\u001b[1;32m    118\u001b[0m \u001b[0;34m\u001b[0m\u001b[0m\n",
            "\u001b[0;32m/usr/local/lib/python3.7/dist-packages/keras_tuner/engine/base_tuner.py\u001b[0m in \u001b[0;36m__init__\u001b[0;34m(self, oracle, hypermodel, directory, project_name, logger, overwrite)\u001b[0m\n\u001b[1;32m    101\u001b[0m         \u001b[0mself\u001b[0m\u001b[0;34m.\u001b[0m\u001b[0m_display\u001b[0m \u001b[0;34m=\u001b[0m \u001b[0mtuner_utils\u001b[0m\u001b[0;34m.\u001b[0m\u001b[0mDisplay\u001b[0m\u001b[0;34m(\u001b[0m\u001b[0moracle\u001b[0m\u001b[0;34m=\u001b[0m\u001b[0mself\u001b[0m\u001b[0;34m.\u001b[0m\u001b[0moracle\u001b[0m\u001b[0;34m)\u001b[0m\u001b[0;34m\u001b[0m\u001b[0;34m\u001b[0m\u001b[0m\n\u001b[1;32m    102\u001b[0m \u001b[0;34m\u001b[0m\u001b[0m\n\u001b[0;32m--> 103\u001b[0;31m         \u001b[0mself\u001b[0m\u001b[0;34m.\u001b[0m\u001b[0m_populate_initial_space\u001b[0m\u001b[0;34m(\u001b[0m\u001b[0;34m)\u001b[0m\u001b[0;34m\u001b[0m\u001b[0;34m\u001b[0m\u001b[0m\n\u001b[0m\u001b[1;32m    104\u001b[0m \u001b[0;34m\u001b[0m\u001b[0m\n\u001b[1;32m    105\u001b[0m         \u001b[0;32mif\u001b[0m \u001b[0;32mnot\u001b[0m \u001b[0moverwrite\u001b[0m \u001b[0;32mand\u001b[0m \u001b[0mtf\u001b[0m\u001b[0;34m.\u001b[0m\u001b[0mio\u001b[0m\u001b[0;34m.\u001b[0m\u001b[0mgfile\u001b[0m\u001b[0;34m.\u001b[0m\u001b[0mexists\u001b[0m\u001b[0;34m(\u001b[0m\u001b[0mself\u001b[0m\u001b[0;34m.\u001b[0m\u001b[0m_get_tuner_fname\u001b[0m\u001b[0;34m(\u001b[0m\u001b[0;34m)\u001b[0m\u001b[0;34m)\u001b[0m\u001b[0;34m:\u001b[0m\u001b[0;34m\u001b[0m\u001b[0;34m\u001b[0m\u001b[0m\n",
            "\u001b[0;32m/usr/local/lib/python3.7/dist-packages/keras_tuner/engine/base_tuner.py\u001b[0m in \u001b[0;36m_populate_initial_space\u001b[0;34m(self)\u001b[0m\n\u001b[1;32m    133\u001b[0m \u001b[0;34m\u001b[0m\u001b[0m\n\u001b[1;32m    134\u001b[0m             \u001b[0;32mwhile\u001b[0m \u001b[0;32mTrue\u001b[0m\u001b[0;34m:\u001b[0m\u001b[0;34m\u001b[0m\u001b[0;34m\u001b[0m\u001b[0m\n\u001b[0;32m--> 135\u001b[0;31m                 \u001b[0mself\u001b[0m\u001b[0;34m.\u001b[0m\u001b[0mhypermodel\u001b[0m\u001b[0;34m.\u001b[0m\u001b[0mbuild\u001b[0m\u001b[0;34m(\u001b[0m\u001b[0mhp\u001b[0m\u001b[0;34m)\u001b[0m\u001b[0;34m\u001b[0m\u001b[0;34m\u001b[0m\u001b[0m\n\u001b[0m\u001b[1;32m    136\u001b[0m \u001b[0;34m\u001b[0m\u001b[0m\n\u001b[1;32m    137\u001b[0m                 \u001b[0;31m# Update the recored scopes.\u001b[0m\u001b[0;34m\u001b[0m\u001b[0;34m\u001b[0m\u001b[0;34m\u001b[0m\u001b[0m\n",
            "\u001b[0;32m/usr/local/lib/python3.7/dist-packages/qkeras/autoqkeras/autoqkeras_internal.py\u001b[0m in \u001b[0;36mbuild\u001b[0;34m(self, hp)\u001b[0m\n\u001b[1;32m    568\u001b[0m     \u001b[0;31m# we are not using the fanin right now.\u001b[0m\u001b[0;34m\u001b[0m\u001b[0;34m\u001b[0m\u001b[0;34m\u001b[0m\u001b[0m\n\u001b[1;32m    569\u001b[0m \u001b[0;34m\u001b[0m\u001b[0m\n\u001b[0;32m--> 570\u001b[0;31m     \u001b[0mq_model\u001b[0m\u001b[0;34m,\u001b[0m \u001b[0m_\u001b[0m \u001b[0;34m=\u001b[0m \u001b[0mself\u001b[0m\u001b[0;34m.\u001b[0m\u001b[0mquantize_model\u001b[0m\u001b[0;34m(\u001b[0m\u001b[0mhp\u001b[0m\u001b[0;34m)\u001b[0m\u001b[0;34m\u001b[0m\u001b[0;34m\u001b[0m\u001b[0m\n\u001b[0m\u001b[1;32m    571\u001b[0m \u001b[0;34m\u001b[0m\u001b[0m\n\u001b[1;32m    572\u001b[0m     \u001b[0;31m# transfer weights from previous run as we know we will not\u001b[0m\u001b[0;34m\u001b[0m\u001b[0;34m\u001b[0m\u001b[0;34m\u001b[0m\u001b[0m\n",
            "\u001b[0;32m/usr/local/lib/python3.7/dist-packages/qkeras/autoqkeras/autoqkeras_internal.py\u001b[0m in \u001b[0;36mquantize_model\u001b[0;34m(self, hp)\u001b[0m\n\u001b[1;32m    557\u001b[0m         \u001b[0mmodel\u001b[0m\u001b[0;34m,\u001b[0m \u001b[0mq_dict\u001b[0m\u001b[0;34m,\u001b[0m \u001b[0mself\u001b[0m\u001b[0;34m.\u001b[0m\u001b[0mactivation_bits\u001b[0m\u001b[0;34m,\u001b[0m\u001b[0;34m\u001b[0m\u001b[0;34m\u001b[0m\u001b[0m\n\u001b[1;32m    558\u001b[0m         \u001b[0mcustom_objects\u001b[0m\u001b[0;34m=\u001b[0m\u001b[0mself\u001b[0m\u001b[0;34m.\u001b[0m\u001b[0mcustom_objects\u001b[0m\u001b[0;34m,\u001b[0m\u001b[0;34m\u001b[0m\u001b[0;34m\u001b[0m\u001b[0m\n\u001b[0;32m--> 559\u001b[0;31m         transfer_weights=self.transfer_weights)\n\u001b[0m\u001b[1;32m    560\u001b[0m \u001b[0;34m\u001b[0m\u001b[0m\n\u001b[1;32m    561\u001b[0m     \u001b[0;32mreturn\u001b[0m \u001b[0mq_model\u001b[0m\u001b[0;34m,\u001b[0m \u001b[0mfanin\u001b[0m\u001b[0;34m\u001b[0m\u001b[0;34m\u001b[0m\u001b[0m\n",
            "\u001b[0;32m/usr/local/lib/python3.7/dist-packages/qkeras/utils.py\u001b[0m in \u001b[0;36mmodel_quantize\u001b[0;34m(model, quantizer_config, activation_bits, custom_objects, transfer_weights, prefer_qadaptiveactivation, enable_bn_folding)\u001b[0m\n\u001b[1;32m   1001\u001b[0m   \u001b[0;31m# is not recognized by keras.\u001b[0m\u001b[0;34m\u001b[0m\u001b[0;34m\u001b[0m\u001b[0;34m\u001b[0m\u001b[0m\n\u001b[1;32m   1002\u001b[0m \u001b[0;34m\u001b[0m\u001b[0m\n\u001b[0;32m-> 1003\u001b[0;31m   \u001b[0mqmodel\u001b[0m \u001b[0;34m=\u001b[0m \u001b[0mquantized_model_from_json\u001b[0m\u001b[0;34m(\u001b[0m\u001b[0mjson\u001b[0m\u001b[0;34m.\u001b[0m\u001b[0mdumps\u001b[0m\u001b[0;34m(\u001b[0m\u001b[0mjm\u001b[0m\u001b[0;34m)\u001b[0m\u001b[0;34m,\u001b[0m \u001b[0mcustom_objects\u001b[0m\u001b[0;34m)\u001b[0m\u001b[0;34m\u001b[0m\u001b[0;34m\u001b[0m\u001b[0m\n\u001b[0m\u001b[1;32m   1004\u001b[0m \u001b[0;34m\u001b[0m\u001b[0m\n\u001b[1;32m   1005\u001b[0m   \u001b[0;31m# If transfer_weights is true, we load the weights from model to qmodel.\u001b[0m\u001b[0;34m\u001b[0m\u001b[0;34m\u001b[0m\u001b[0;34m\u001b[0m\u001b[0m\n",
            "\u001b[0;32m/usr/local/lib/python3.7/dist-packages/qkeras/utils.py\u001b[0m in \u001b[0;36mquantized_model_from_json\u001b[0;34m(json_string, custom_objects)\u001b[0m\n\u001b[1;32m   1090\u001b[0m   \u001b[0m_add_supported_quantized_objects\u001b[0m\u001b[0;34m(\u001b[0m\u001b[0mcustom_objects\u001b[0m\u001b[0;34m)\u001b[0m\u001b[0;34m\u001b[0m\u001b[0;34m\u001b[0m\u001b[0m\n\u001b[1;32m   1091\u001b[0m \u001b[0;34m\u001b[0m\u001b[0m\n\u001b[0;32m-> 1092\u001b[0;31m   \u001b[0mqmodel\u001b[0m \u001b[0;34m=\u001b[0m \u001b[0mmodel_from_json\u001b[0m\u001b[0;34m(\u001b[0m\u001b[0mjson_string\u001b[0m\u001b[0;34m,\u001b[0m \u001b[0mcustom_objects\u001b[0m\u001b[0;34m=\u001b[0m\u001b[0mcustom_objects\u001b[0m\u001b[0;34m)\u001b[0m\u001b[0;34m\u001b[0m\u001b[0;34m\u001b[0m\u001b[0m\n\u001b[0m\u001b[1;32m   1093\u001b[0m \u001b[0;34m\u001b[0m\u001b[0m\n\u001b[1;32m   1094\u001b[0m   \u001b[0;32mreturn\u001b[0m \u001b[0mqmodel\u001b[0m\u001b[0;34m\u001b[0m\u001b[0;34m\u001b[0m\u001b[0m\n",
            "\u001b[0;32m/usr/local/lib/python3.7/dist-packages/keras/saving/model_config.py\u001b[0m in \u001b[0;36mmodel_from_json\u001b[0;34m(json_string, custom_objects)\u001b[0m\n\u001b[1;32m    100\u001b[0m   \"\"\"\n\u001b[1;32m    101\u001b[0m   \u001b[0;32mfrom\u001b[0m \u001b[0mkeras\u001b[0m\u001b[0;34m.\u001b[0m\u001b[0mlayers\u001b[0m \u001b[0;32mimport\u001b[0m \u001b[0mdeserialize_from_json\u001b[0m  \u001b[0;31m# pylint: disable=g-import-not-at-top\u001b[0m\u001b[0;34m\u001b[0m\u001b[0;34m\u001b[0m\u001b[0m\n\u001b[0;32m--> 102\u001b[0;31m   \u001b[0;32mreturn\u001b[0m \u001b[0mdeserialize_from_json\u001b[0m\u001b[0;34m(\u001b[0m\u001b[0mjson_string\u001b[0m\u001b[0;34m,\u001b[0m \u001b[0mcustom_objects\u001b[0m\u001b[0;34m=\u001b[0m\u001b[0mcustom_objects\u001b[0m\u001b[0;34m)\u001b[0m\u001b[0;34m\u001b[0m\u001b[0;34m\u001b[0m\u001b[0m\n\u001b[0m",
            "\u001b[0;32m/usr/local/lib/python3.7/dist-packages/keras/layers/serialization.py\u001b[0m in \u001b[0;36mdeserialize_from_json\u001b[0;34m(json_string, custom_objects)\u001b[0m\n\u001b[1;32m    224\u001b[0m       \u001b[0mmodule_objects\u001b[0m\u001b[0;34m=\u001b[0m\u001b[0mLOCAL\u001b[0m\u001b[0;34m.\u001b[0m\u001b[0mALL_OBJECTS\u001b[0m\u001b[0;34m,\u001b[0m\u001b[0;34m\u001b[0m\u001b[0;34m\u001b[0m\u001b[0m\n\u001b[1;32m    225\u001b[0m       custom_objects=custom_objects)\n\u001b[0;32m--> 226\u001b[0;31m   \u001b[0;32mreturn\u001b[0m \u001b[0mdeserialize\u001b[0m\u001b[0;34m(\u001b[0m\u001b[0mconfig\u001b[0m\u001b[0;34m,\u001b[0m \u001b[0mcustom_objects\u001b[0m\u001b[0;34m)\u001b[0m\u001b[0;34m\u001b[0m\u001b[0;34m\u001b[0m\u001b[0m\n\u001b[0m",
            "\u001b[0;32m/usr/local/lib/python3.7/dist-packages/keras/layers/serialization.py\u001b[0m in \u001b[0;36mdeserialize\u001b[0;34m(config, custom_objects)\u001b[0m\n\u001b[1;32m    207\u001b[0m       \u001b[0mmodule_objects\u001b[0m\u001b[0;34m=\u001b[0m\u001b[0mLOCAL\u001b[0m\u001b[0;34m.\u001b[0m\u001b[0mALL_OBJECTS\u001b[0m\u001b[0;34m,\u001b[0m\u001b[0;34m\u001b[0m\u001b[0;34m\u001b[0m\u001b[0m\n\u001b[1;32m    208\u001b[0m       \u001b[0mcustom_objects\u001b[0m\u001b[0;34m=\u001b[0m\u001b[0mcustom_objects\u001b[0m\u001b[0;34m,\u001b[0m\u001b[0;34m\u001b[0m\u001b[0;34m\u001b[0m\u001b[0m\n\u001b[0;32m--> 209\u001b[0;31m       printable_module_name='layer')\n\u001b[0m\u001b[1;32m    210\u001b[0m \u001b[0;34m\u001b[0m\u001b[0m\n\u001b[1;32m    211\u001b[0m \u001b[0;34m\u001b[0m\u001b[0m\n",
            "\u001b[0;32m/usr/local/lib/python3.7/dist-packages/keras/utils/generic_utils.py\u001b[0m in \u001b[0;36mdeserialize_keras_object\u001b[0;34m(identifier, module_objects, custom_objects, printable_module_name)\u001b[0m\n\u001b[1;32m    681\u001b[0m             custom_objects=dict(\n\u001b[1;32m    682\u001b[0m                 \u001b[0mlist\u001b[0m\u001b[0;34m(\u001b[0m\u001b[0m_GLOBAL_CUSTOM_OBJECTS\u001b[0m\u001b[0;34m.\u001b[0m\u001b[0mitems\u001b[0m\u001b[0;34m(\u001b[0m\u001b[0;34m)\u001b[0m\u001b[0;34m)\u001b[0m \u001b[0;34m+\u001b[0m\u001b[0;34m\u001b[0m\u001b[0;34m\u001b[0m\u001b[0m\n\u001b[0;32m--> 683\u001b[0;31m                 list(custom_objects.items())))\n\u001b[0m\u001b[1;32m    684\u001b[0m       \u001b[0;32melse\u001b[0m\u001b[0;34m:\u001b[0m\u001b[0;34m\u001b[0m\u001b[0;34m\u001b[0m\u001b[0m\n\u001b[1;32m    685\u001b[0m         \u001b[0;32mwith\u001b[0m \u001b[0mCustomObjectScope\u001b[0m\u001b[0;34m(\u001b[0m\u001b[0mcustom_objects\u001b[0m\u001b[0;34m)\u001b[0m\u001b[0;34m:\u001b[0m\u001b[0;34m\u001b[0m\u001b[0;34m\u001b[0m\u001b[0m\n",
            "\u001b[0;32m/usr/local/lib/python3.7/dist-packages/keras/engine/training.py\u001b[0m in \u001b[0;36mfrom_config\u001b[0;34m(cls, config, custom_objects)\u001b[0m\n\u001b[1;32m   2719\u001b[0m       \u001b[0;32mif\u001b[0m \u001b[0mall\u001b[0m\u001b[0;34m(\u001b[0m\u001b[0mkey\u001b[0m \u001b[0;32min\u001b[0m \u001b[0mconfig\u001b[0m \u001b[0;32mfor\u001b[0m \u001b[0mkey\u001b[0m \u001b[0;32min\u001b[0m \u001b[0mfunctional_model_keys\u001b[0m\u001b[0;34m)\u001b[0m\u001b[0;34m:\u001b[0m\u001b[0;34m\u001b[0m\u001b[0;34m\u001b[0m\u001b[0m\n\u001b[1;32m   2720\u001b[0m         inputs, outputs, layers = functional.reconstruct_from_config(\n\u001b[0;32m-> 2721\u001b[0;31m             config, custom_objects)\n\u001b[0m\u001b[1;32m   2722\u001b[0m         \u001b[0mmodel\u001b[0m \u001b[0;34m=\u001b[0m \u001b[0mcls\u001b[0m\u001b[0;34m(\u001b[0m\u001b[0minputs\u001b[0m\u001b[0;34m=\u001b[0m\u001b[0minputs\u001b[0m\u001b[0;34m,\u001b[0m \u001b[0moutputs\u001b[0m\u001b[0;34m=\u001b[0m\u001b[0moutputs\u001b[0m\u001b[0;34m,\u001b[0m \u001b[0mname\u001b[0m\u001b[0;34m=\u001b[0m\u001b[0mconfig\u001b[0m\u001b[0;34m.\u001b[0m\u001b[0mget\u001b[0m\u001b[0;34m(\u001b[0m\u001b[0;34m'name'\u001b[0m\u001b[0;34m)\u001b[0m\u001b[0;34m)\u001b[0m\u001b[0;34m\u001b[0m\u001b[0;34m\u001b[0m\u001b[0m\n\u001b[1;32m   2723\u001b[0m         \u001b[0mfunctional\u001b[0m\u001b[0;34m.\u001b[0m\u001b[0mconnect_ancillary_layers\u001b[0m\u001b[0;34m(\u001b[0m\u001b[0mmodel\u001b[0m\u001b[0;34m,\u001b[0m \u001b[0mlayers\u001b[0m\u001b[0;34m)\u001b[0m\u001b[0;34m\u001b[0m\u001b[0;34m\u001b[0m\u001b[0m\n",
            "\u001b[0;32m/usr/local/lib/python3.7/dist-packages/keras/engine/functional.py\u001b[0m in \u001b[0;36mreconstruct_from_config\u001b[0;34m(config, custom_objects, created_layers)\u001b[0m\n\u001b[1;32m   1310\u001b[0m         \u001b[0;32mwhile\u001b[0m \u001b[0mlayer_nodes\u001b[0m\u001b[0;34m:\u001b[0m\u001b[0;34m\u001b[0m\u001b[0;34m\u001b[0m\u001b[0m\n\u001b[1;32m   1311\u001b[0m           \u001b[0mnode_data\u001b[0m \u001b[0;34m=\u001b[0m \u001b[0mlayer_nodes\u001b[0m\u001b[0;34m[\u001b[0m\u001b[0;36m0\u001b[0m\u001b[0;34m]\u001b[0m\u001b[0;34m\u001b[0m\u001b[0;34m\u001b[0m\u001b[0m\n\u001b[0;32m-> 1312\u001b[0;31m           \u001b[0;32mif\u001b[0m \u001b[0mprocess_node\u001b[0m\u001b[0;34m(\u001b[0m\u001b[0mlayer\u001b[0m\u001b[0;34m,\u001b[0m \u001b[0mnode_data\u001b[0m\u001b[0;34m)\u001b[0m\u001b[0;34m:\u001b[0m\u001b[0;34m\u001b[0m\u001b[0;34m\u001b[0m\u001b[0m\n\u001b[0m\u001b[1;32m   1313\u001b[0m             \u001b[0mlayer_nodes\u001b[0m\u001b[0;34m.\u001b[0m\u001b[0mpop\u001b[0m\u001b[0;34m(\u001b[0m\u001b[0;36m0\u001b[0m\u001b[0;34m)\u001b[0m\u001b[0;34m\u001b[0m\u001b[0;34m\u001b[0m\u001b[0m\n\u001b[1;32m   1314\u001b[0m           \u001b[0;32melse\u001b[0m\u001b[0;34m:\u001b[0m\u001b[0;34m\u001b[0m\u001b[0;34m\u001b[0m\u001b[0m\n",
            "\u001b[0;32m/usr/local/lib/python3.7/dist-packages/keras/engine/functional.py\u001b[0m in \u001b[0;36mprocess_node\u001b[0;34m(layer, node_data)\u001b[0m\n\u001b[1;32m   1254\u001b[0m         input_tensors = (\n\u001b[1;32m   1255\u001b[0m             base_layer_utils.unnest_if_single_tensor(input_tensors))\n\u001b[0;32m-> 1256\u001b[0;31m       \u001b[0moutput_tensors\u001b[0m \u001b[0;34m=\u001b[0m \u001b[0mlayer\u001b[0m\u001b[0;34m(\u001b[0m\u001b[0minput_tensors\u001b[0m\u001b[0;34m,\u001b[0m \u001b[0;34m**\u001b[0m\u001b[0mkwargs\u001b[0m\u001b[0;34m)\u001b[0m\u001b[0;34m\u001b[0m\u001b[0;34m\u001b[0m\u001b[0m\n\u001b[0m\u001b[1;32m   1257\u001b[0m \u001b[0;34m\u001b[0m\u001b[0m\n\u001b[1;32m   1258\u001b[0m       \u001b[0;31m# Update node index map.\u001b[0m\u001b[0;34m\u001b[0m\u001b[0;34m\u001b[0m\u001b[0;34m\u001b[0m\u001b[0m\n",
            "\u001b[0;32m/usr/local/lib/python3.7/dist-packages/keras/utils/traceback_utils.py\u001b[0m in \u001b[0;36merror_handler\u001b[0;34m(*args, **kwargs)\u001b[0m\n\u001b[1;32m     62\u001b[0m     \u001b[0mfiltered_tb\u001b[0m \u001b[0;34m=\u001b[0m \u001b[0;32mNone\u001b[0m\u001b[0;34m\u001b[0m\u001b[0;34m\u001b[0m\u001b[0m\n\u001b[1;32m     63\u001b[0m     \u001b[0;32mtry\u001b[0m\u001b[0;34m:\u001b[0m\u001b[0;34m\u001b[0m\u001b[0;34m\u001b[0m\u001b[0m\n\u001b[0;32m---> 64\u001b[0;31m       \u001b[0;32mreturn\u001b[0m \u001b[0mfn\u001b[0m\u001b[0;34m(\u001b[0m\u001b[0;34m*\u001b[0m\u001b[0margs\u001b[0m\u001b[0;34m,\u001b[0m \u001b[0;34m**\u001b[0m\u001b[0mkwargs\u001b[0m\u001b[0;34m)\u001b[0m\u001b[0;34m\u001b[0m\u001b[0;34m\u001b[0m\u001b[0m\n\u001b[0m\u001b[1;32m     65\u001b[0m     \u001b[0;32mexcept\u001b[0m \u001b[0mException\u001b[0m \u001b[0;32mas\u001b[0m \u001b[0me\u001b[0m\u001b[0;34m:\u001b[0m  \u001b[0;31m# pylint: disable=broad-except\u001b[0m\u001b[0;34m\u001b[0m\u001b[0;34m\u001b[0m\u001b[0m\n\u001b[1;32m     66\u001b[0m       \u001b[0mfiltered_tb\u001b[0m \u001b[0;34m=\u001b[0m \u001b[0m_process_traceback_frames\u001b[0m\u001b[0;34m(\u001b[0m\u001b[0me\u001b[0m\u001b[0;34m.\u001b[0m\u001b[0m__traceback__\u001b[0m\u001b[0;34m)\u001b[0m\u001b[0;34m\u001b[0m\u001b[0;34m\u001b[0m\u001b[0m\n",
            "\u001b[0;32m/usr/local/lib/python3.7/dist-packages/keras/engine/base_layer.py\u001b[0m in \u001b[0;36m__call__\u001b[0;34m(self, *args, **kwargs)\u001b[0m\n\u001b[1;32m    943\u001b[0m     \u001b[0;32mif\u001b[0m \u001b[0m_in_functional_construction_mode\u001b[0m\u001b[0;34m(\u001b[0m\u001b[0mself\u001b[0m\u001b[0;34m,\u001b[0m \u001b[0minputs\u001b[0m\u001b[0;34m,\u001b[0m \u001b[0margs\u001b[0m\u001b[0;34m,\u001b[0m \u001b[0mkwargs\u001b[0m\u001b[0;34m,\u001b[0m \u001b[0minput_list\u001b[0m\u001b[0;34m)\u001b[0m\u001b[0;34m:\u001b[0m\u001b[0;34m\u001b[0m\u001b[0;34m\u001b[0m\u001b[0m\n\u001b[1;32m    944\u001b[0m       return self._functional_construction_call(inputs, args, kwargs,\n\u001b[0;32m--> 945\u001b[0;31m                                                 input_list)\n\u001b[0m\u001b[1;32m    946\u001b[0m \u001b[0;34m\u001b[0m\u001b[0m\n\u001b[1;32m    947\u001b[0m     \u001b[0;31m# Maintains info about the `Layer.call` stack.\u001b[0m\u001b[0;34m\u001b[0m\u001b[0;34m\u001b[0m\u001b[0;34m\u001b[0m\u001b[0m\n",
            "\u001b[0;32m/usr/local/lib/python3.7/dist-packages/keras/engine/base_layer.py\u001b[0m in \u001b[0;36m_functional_construction_call\u001b[0;34m(self, inputs, args, kwargs, input_list)\u001b[0m\n\u001b[1;32m   2314\u001b[0m       \u001b[0;31m# Check input assumptions set after layer building, e.g. input shape.\u001b[0m\u001b[0;34m\u001b[0m\u001b[0;34m\u001b[0m\u001b[0;34m\u001b[0m\u001b[0m\n\u001b[1;32m   2315\u001b[0m       outputs = self._keras_tensor_symbolic_call(\n\u001b[0;32m-> 2316\u001b[0;31m           inputs, input_masks, args, kwargs)\n\u001b[0m\u001b[1;32m   2317\u001b[0m \u001b[0;34m\u001b[0m\u001b[0m\n\u001b[1;32m   2318\u001b[0m       \u001b[0;32mif\u001b[0m \u001b[0moutputs\u001b[0m \u001b[0;32mis\u001b[0m \u001b[0;32mNone\u001b[0m\u001b[0;34m:\u001b[0m\u001b[0;34m\u001b[0m\u001b[0;34m\u001b[0m\u001b[0m\n",
            "\u001b[0;32m/usr/local/lib/python3.7/dist-packages/keras/engine/base_layer.py\u001b[0m in \u001b[0;36m_keras_tensor_symbolic_call\u001b[0;34m(self, inputs, input_masks, args, kwargs)\u001b[0m\n\u001b[1;32m   2184\u001b[0m       \u001b[0;32mreturn\u001b[0m \u001b[0mtf\u001b[0m\u001b[0;34m.\u001b[0m\u001b[0mnest\u001b[0m\u001b[0;34m.\u001b[0m\u001b[0mmap_structure\u001b[0m\u001b[0;34m(\u001b[0m\u001b[0mkeras_tensor\u001b[0m\u001b[0;34m.\u001b[0m\u001b[0mKerasTensor\u001b[0m\u001b[0;34m,\u001b[0m \u001b[0moutput_signature\u001b[0m\u001b[0;34m)\u001b[0m\u001b[0;34m\u001b[0m\u001b[0;34m\u001b[0m\u001b[0m\n\u001b[1;32m   2185\u001b[0m     \u001b[0;32melse\u001b[0m\u001b[0;34m:\u001b[0m\u001b[0;34m\u001b[0m\u001b[0;34m\u001b[0m\u001b[0m\n\u001b[0;32m-> 2186\u001b[0;31m       \u001b[0;32mreturn\u001b[0m \u001b[0mself\u001b[0m\u001b[0;34m.\u001b[0m\u001b[0m_infer_output_signature\u001b[0m\u001b[0;34m(\u001b[0m\u001b[0minputs\u001b[0m\u001b[0;34m,\u001b[0m \u001b[0margs\u001b[0m\u001b[0;34m,\u001b[0m \u001b[0mkwargs\u001b[0m\u001b[0;34m,\u001b[0m \u001b[0minput_masks\u001b[0m\u001b[0;34m)\u001b[0m\u001b[0;34m\u001b[0m\u001b[0;34m\u001b[0m\u001b[0m\n\u001b[0m\u001b[1;32m   2187\u001b[0m \u001b[0;34m\u001b[0m\u001b[0m\n\u001b[1;32m   2188\u001b[0m   \u001b[0;32mdef\u001b[0m \u001b[0m_infer_output_signature\u001b[0m\u001b[0;34m(\u001b[0m\u001b[0mself\u001b[0m\u001b[0;34m,\u001b[0m \u001b[0minputs\u001b[0m\u001b[0;34m,\u001b[0m \u001b[0margs\u001b[0m\u001b[0;34m,\u001b[0m \u001b[0mkwargs\u001b[0m\u001b[0;34m,\u001b[0m \u001b[0minput_masks\u001b[0m\u001b[0;34m)\u001b[0m\u001b[0;34m:\u001b[0m\u001b[0;34m\u001b[0m\u001b[0;34m\u001b[0m\u001b[0m\n",
            "\u001b[0;32m/usr/local/lib/python3.7/dist-packages/keras/engine/base_layer.py\u001b[0m in \u001b[0;36m_infer_output_signature\u001b[0;34m(self, inputs, args, kwargs, input_masks)\u001b[0m\n\u001b[1;32m   2230\u001b[0m           \u001b[0mself\u001b[0m\u001b[0;34m.\u001b[0m\u001b[0m_maybe_build\u001b[0m\u001b[0;34m(\u001b[0m\u001b[0minputs\u001b[0m\u001b[0;34m)\u001b[0m\u001b[0;34m\u001b[0m\u001b[0;34m\u001b[0m\u001b[0m\n\u001b[1;32m   2231\u001b[0m           \u001b[0minputs\u001b[0m \u001b[0;34m=\u001b[0m \u001b[0mself\u001b[0m\u001b[0;34m.\u001b[0m\u001b[0m_maybe_cast_inputs\u001b[0m\u001b[0;34m(\u001b[0m\u001b[0minputs\u001b[0m\u001b[0;34m)\u001b[0m\u001b[0;34m\u001b[0m\u001b[0;34m\u001b[0m\u001b[0m\n\u001b[0;32m-> 2232\u001b[0;31m           \u001b[0moutputs\u001b[0m \u001b[0;34m=\u001b[0m \u001b[0mcall_fn\u001b[0m\u001b[0;34m(\u001b[0m\u001b[0minputs\u001b[0m\u001b[0;34m,\u001b[0m \u001b[0;34m*\u001b[0m\u001b[0margs\u001b[0m\u001b[0;34m,\u001b[0m \u001b[0;34m**\u001b[0m\u001b[0mkwargs\u001b[0m\u001b[0;34m)\u001b[0m\u001b[0;34m\u001b[0m\u001b[0;34m\u001b[0m\u001b[0m\n\u001b[0m\u001b[1;32m   2233\u001b[0m \u001b[0;34m\u001b[0m\u001b[0m\n\u001b[1;32m   2234\u001b[0m         \u001b[0mself\u001b[0m\u001b[0;34m.\u001b[0m\u001b[0m_handle_activity_regularization\u001b[0m\u001b[0;34m(\u001b[0m\u001b[0minputs\u001b[0m\u001b[0;34m,\u001b[0m \u001b[0moutputs\u001b[0m\u001b[0;34m)\u001b[0m\u001b[0;34m\u001b[0m\u001b[0;34m\u001b[0m\u001b[0m\n",
            "\u001b[0;32m/usr/local/lib/python3.7/dist-packages/keras/utils/traceback_utils.py\u001b[0m in \u001b[0;36merror_handler\u001b[0;34m(*args, **kwargs)\u001b[0m\n\u001b[1;32m     90\u001b[0m     \u001b[0mbound_signature\u001b[0m \u001b[0;34m=\u001b[0m \u001b[0;32mNone\u001b[0m\u001b[0;34m\u001b[0m\u001b[0;34m\u001b[0m\u001b[0m\n\u001b[1;32m     91\u001b[0m     \u001b[0;32mtry\u001b[0m\u001b[0;34m:\u001b[0m\u001b[0;34m\u001b[0m\u001b[0;34m\u001b[0m\u001b[0m\n\u001b[0;32m---> 92\u001b[0;31m       \u001b[0;32mreturn\u001b[0m \u001b[0mfn\u001b[0m\u001b[0;34m(\u001b[0m\u001b[0;34m*\u001b[0m\u001b[0margs\u001b[0m\u001b[0;34m,\u001b[0m \u001b[0;34m**\u001b[0m\u001b[0mkwargs\u001b[0m\u001b[0;34m)\u001b[0m\u001b[0;34m\u001b[0m\u001b[0;34m\u001b[0m\u001b[0m\n\u001b[0m\u001b[1;32m     93\u001b[0m     \u001b[0;32mexcept\u001b[0m \u001b[0mException\u001b[0m \u001b[0;32mas\u001b[0m \u001b[0me\u001b[0m\u001b[0;34m:\u001b[0m  \u001b[0;31m# pylint: disable=broad-except\u001b[0m\u001b[0;34m\u001b[0m\u001b[0;34m\u001b[0m\u001b[0m\n\u001b[1;32m     94\u001b[0m       \u001b[0;32mif\u001b[0m \u001b[0mhasattr\u001b[0m\u001b[0;34m(\u001b[0m\u001b[0me\u001b[0m\u001b[0;34m,\u001b[0m \u001b[0;34m'_keras_call_info_injected'\u001b[0m\u001b[0;34m)\u001b[0m\u001b[0;34m:\u001b[0m\u001b[0;34m\u001b[0m\u001b[0;34m\u001b[0m\u001b[0m\n",
            "\u001b[0;32m/usr/local/lib/python3.7/dist-packages/tensorflow/python/autograph/impl/api.py\u001b[0m in \u001b[0;36mwrapper\u001b[0;34m(*args, **kwargs)\u001b[0m\n\u001b[1;32m    687\u001b[0m       \u001b[0;32mtry\u001b[0m\u001b[0;34m:\u001b[0m\u001b[0;34m\u001b[0m\u001b[0;34m\u001b[0m\u001b[0m\n\u001b[1;32m    688\u001b[0m         \u001b[0;32mwith\u001b[0m \u001b[0mconversion_ctx\u001b[0m\u001b[0;34m:\u001b[0m\u001b[0;34m\u001b[0m\u001b[0;34m\u001b[0m\u001b[0m\n\u001b[0;32m--> 689\u001b[0;31m           \u001b[0;32mreturn\u001b[0m \u001b[0mconverted_call\u001b[0m\u001b[0;34m(\u001b[0m\u001b[0mf\u001b[0m\u001b[0;34m,\u001b[0m \u001b[0margs\u001b[0m\u001b[0;34m,\u001b[0m \u001b[0mkwargs\u001b[0m\u001b[0;34m,\u001b[0m \u001b[0moptions\u001b[0m\u001b[0;34m=\u001b[0m\u001b[0moptions\u001b[0m\u001b[0;34m)\u001b[0m\u001b[0;34m\u001b[0m\u001b[0;34m\u001b[0m\u001b[0m\n\u001b[0m\u001b[1;32m    690\u001b[0m       \u001b[0;32mexcept\u001b[0m \u001b[0mException\u001b[0m \u001b[0;32mas\u001b[0m \u001b[0me\u001b[0m\u001b[0;34m:\u001b[0m  \u001b[0;31m# pylint:disable=broad-except\u001b[0m\u001b[0;34m\u001b[0m\u001b[0;34m\u001b[0m\u001b[0m\n\u001b[1;32m    691\u001b[0m         \u001b[0;32mif\u001b[0m \u001b[0mhasattr\u001b[0m\u001b[0;34m(\u001b[0m\u001b[0me\u001b[0m\u001b[0;34m,\u001b[0m \u001b[0;34m'ag_error_metadata'\u001b[0m\u001b[0;34m)\u001b[0m\u001b[0;34m:\u001b[0m\u001b[0;34m\u001b[0m\u001b[0;34m\u001b[0m\u001b[0m\n",
            "\u001b[0;32m/usr/local/lib/python3.7/dist-packages/tensorflow/python/autograph/impl/api.py\u001b[0m in \u001b[0;36mconverted_call\u001b[0;34m(f, args, kwargs, caller_fn_scope, options)\u001b[0m\n\u001b[1;32m    425\u001b[0m   \u001b[0;32mtry\u001b[0m\u001b[0;34m:\u001b[0m\u001b[0;34m\u001b[0m\u001b[0;34m\u001b[0m\u001b[0m\n\u001b[1;32m    426\u001b[0m     \u001b[0mprogram_ctx\u001b[0m \u001b[0;34m=\u001b[0m \u001b[0mconverter\u001b[0m\u001b[0;34m.\u001b[0m\u001b[0mProgramContext\u001b[0m\u001b[0;34m(\u001b[0m\u001b[0moptions\u001b[0m\u001b[0;34m=\u001b[0m\u001b[0moptions\u001b[0m\u001b[0;34m)\u001b[0m\u001b[0;34m\u001b[0m\u001b[0;34m\u001b[0m\u001b[0m\n\u001b[0;32m--> 427\u001b[0;31m     \u001b[0mconverted_f\u001b[0m \u001b[0;34m=\u001b[0m \u001b[0m_convert_actual\u001b[0m\u001b[0;34m(\u001b[0m\u001b[0mtarget_entity\u001b[0m\u001b[0;34m,\u001b[0m \u001b[0mprogram_ctx\u001b[0m\u001b[0;34m)\u001b[0m\u001b[0;34m\u001b[0m\u001b[0;34m\u001b[0m\u001b[0m\n\u001b[0m\u001b[1;32m    428\u001b[0m     \u001b[0;32mif\u001b[0m \u001b[0mlogging\u001b[0m\u001b[0;34m.\u001b[0m\u001b[0mhas_verbosity\u001b[0m\u001b[0;34m(\u001b[0m\u001b[0;36m2\u001b[0m\u001b[0;34m)\u001b[0m\u001b[0;34m:\u001b[0m\u001b[0;34m\u001b[0m\u001b[0;34m\u001b[0m\u001b[0m\n\u001b[1;32m    429\u001b[0m       \u001b[0m_log_callargs\u001b[0m\u001b[0;34m(\u001b[0m\u001b[0mconverted_f\u001b[0m\u001b[0;34m,\u001b[0m \u001b[0meffective_args\u001b[0m\u001b[0;34m,\u001b[0m \u001b[0mkwargs\u001b[0m\u001b[0;34m)\u001b[0m\u001b[0;34m\u001b[0m\u001b[0;34m\u001b[0m\u001b[0m\n",
            "\u001b[0;32m/usr/local/lib/python3.7/dist-packages/tensorflow/python/autograph/impl/api.py\u001b[0m in \u001b[0;36m_convert_actual\u001b[0;34m(entity, program_ctx)\u001b[0m\n\u001b[1;32m    267\u001b[0m                      ' try passing f.python_function instead.')\n\u001b[1;32m    268\u001b[0m \u001b[0;34m\u001b[0m\u001b[0m\n\u001b[0;32m--> 269\u001b[0;31m   \u001b[0mtransformed\u001b[0m\u001b[0;34m,\u001b[0m \u001b[0mmodule\u001b[0m\u001b[0;34m,\u001b[0m \u001b[0msource_map\u001b[0m \u001b[0;34m=\u001b[0m \u001b[0m_TRANSPILER\u001b[0m\u001b[0;34m.\u001b[0m\u001b[0mtransform\u001b[0m\u001b[0;34m(\u001b[0m\u001b[0mentity\u001b[0m\u001b[0;34m,\u001b[0m \u001b[0mprogram_ctx\u001b[0m\u001b[0;34m)\u001b[0m\u001b[0;34m\u001b[0m\u001b[0;34m\u001b[0m\u001b[0m\n\u001b[0m\u001b[1;32m    270\u001b[0m \u001b[0;34m\u001b[0m\u001b[0m\n\u001b[1;32m    271\u001b[0m   \u001b[0;32massert\u001b[0m \u001b[0;32mnot\u001b[0m \u001b[0mhasattr\u001b[0m\u001b[0;34m(\u001b[0m\u001b[0mtransformed\u001b[0m\u001b[0;34m,\u001b[0m \u001b[0;34m'ag_module'\u001b[0m\u001b[0;34m)\u001b[0m\u001b[0;34m\u001b[0m\u001b[0;34m\u001b[0m\u001b[0m\n",
            "\u001b[0;32m/usr/local/lib/python3.7/dist-packages/tensorflow/python/autograph/pyct/transpiler.py\u001b[0m in \u001b[0;36mtransform\u001b[0;34m(self, obj, user_context)\u001b[0m\n\u001b[1;32m    280\u001b[0m     \"\"\"\n\u001b[1;32m    281\u001b[0m     \u001b[0;32mif\u001b[0m \u001b[0minspect\u001b[0m\u001b[0;34m.\u001b[0m\u001b[0misfunction\u001b[0m\u001b[0;34m(\u001b[0m\u001b[0mobj\u001b[0m\u001b[0;34m)\u001b[0m \u001b[0;32mor\u001b[0m \u001b[0minspect\u001b[0m\u001b[0;34m.\u001b[0m\u001b[0mismethod\u001b[0m\u001b[0;34m(\u001b[0m\u001b[0mobj\u001b[0m\u001b[0;34m)\u001b[0m\u001b[0;34m:\u001b[0m\u001b[0;34m\u001b[0m\u001b[0;34m\u001b[0m\u001b[0m\n\u001b[0;32m--> 282\u001b[0;31m       \u001b[0;32mreturn\u001b[0m \u001b[0mself\u001b[0m\u001b[0;34m.\u001b[0m\u001b[0mtransform_function\u001b[0m\u001b[0;34m(\u001b[0m\u001b[0mobj\u001b[0m\u001b[0;34m,\u001b[0m \u001b[0muser_context\u001b[0m\u001b[0;34m)\u001b[0m\u001b[0;34m\u001b[0m\u001b[0;34m\u001b[0m\u001b[0m\n\u001b[0m\u001b[1;32m    283\u001b[0m \u001b[0;34m\u001b[0m\u001b[0m\n\u001b[1;32m    284\u001b[0m     \u001b[0;32mraise\u001b[0m \u001b[0mNotImplementedError\u001b[0m\u001b[0;34m(\u001b[0m\u001b[0;34m'Non-function: {}'\u001b[0m\u001b[0;34m.\u001b[0m\u001b[0mformat\u001b[0m\u001b[0;34m(\u001b[0m\u001b[0mtype\u001b[0m\u001b[0;34m(\u001b[0m\u001b[0mobj\u001b[0m\u001b[0;34m)\u001b[0m\u001b[0;34m)\u001b[0m\u001b[0;34m)\u001b[0m\u001b[0;34m\u001b[0m\u001b[0;34m\u001b[0m\u001b[0m\n",
            "\u001b[0;32m/usr/local/lib/python3.7/dist-packages/tensorflow/python/autograph/pyct/transpiler.py\u001b[0m in \u001b[0;36mtransform_function\u001b[0;34m(self, fn, user_context)\u001b[0m\n\u001b[1;32m    464\u001b[0m           \u001b[0mlogging\u001b[0m\u001b[0;34m.\u001b[0m\u001b[0mlog\u001b[0m\u001b[0;34m(\u001b[0m\u001b[0;36m1\u001b[0m\u001b[0;34m,\u001b[0m \u001b[0;34m'%s is not cached for subkey %s'\u001b[0m\u001b[0;34m,\u001b[0m \u001b[0mfn\u001b[0m\u001b[0;34m,\u001b[0m \u001b[0mcache_subkey\u001b[0m\u001b[0;34m)\u001b[0m\u001b[0;34m\u001b[0m\u001b[0;34m\u001b[0m\u001b[0m\n\u001b[1;32m    465\u001b[0m           \u001b[0;31m# TODO(mdan): Confusing overloading pattern. Fix.\u001b[0m\u001b[0;34m\u001b[0m\u001b[0;34m\u001b[0m\u001b[0;34m\u001b[0m\u001b[0m\n\u001b[0;32m--> 466\u001b[0;31m           \u001b[0mnodes\u001b[0m\u001b[0;34m,\u001b[0m \u001b[0mctx\u001b[0m \u001b[0;34m=\u001b[0m \u001b[0msuper\u001b[0m\u001b[0;34m(\u001b[0m\u001b[0mPyToPy\u001b[0m\u001b[0;34m,\u001b[0m \u001b[0mself\u001b[0m\u001b[0;34m)\u001b[0m\u001b[0;34m.\u001b[0m\u001b[0mtransform_function\u001b[0m\u001b[0;34m(\u001b[0m\u001b[0mfn\u001b[0m\u001b[0;34m,\u001b[0m \u001b[0muser_context\u001b[0m\u001b[0;34m)\u001b[0m\u001b[0;34m\u001b[0m\u001b[0;34m\u001b[0m\u001b[0m\n\u001b[0m\u001b[1;32m    467\u001b[0m \u001b[0;34m\u001b[0m\u001b[0m\n\u001b[1;32m    468\u001b[0m           \u001b[0;32mif\u001b[0m \u001b[0misinstance\u001b[0m\u001b[0;34m(\u001b[0m\u001b[0mnodes\u001b[0m\u001b[0;34m,\u001b[0m \u001b[0mgast\u001b[0m\u001b[0;34m.\u001b[0m\u001b[0mLambda\u001b[0m\u001b[0;34m)\u001b[0m\u001b[0;34m:\u001b[0m\u001b[0;34m\u001b[0m\u001b[0;34m\u001b[0m\u001b[0m\n",
            "\u001b[0;32m/usr/local/lib/python3.7/dist-packages/tensorflow/python/autograph/pyct/transpiler.py\u001b[0m in \u001b[0;36mtransform_function\u001b[0;34m(self, fn, user_context)\u001b[0m\n\u001b[1;32m    357\u001b[0m \u001b[0;34m\u001b[0m\u001b[0m\n\u001b[1;32m    358\u001b[0m     \u001b[0mnode\u001b[0m \u001b[0;34m=\u001b[0m \u001b[0mself\u001b[0m\u001b[0;34m.\u001b[0m\u001b[0m_erase_arg_defaults\u001b[0m\u001b[0;34m(\u001b[0m\u001b[0mnode\u001b[0m\u001b[0;34m)\u001b[0m\u001b[0;34m\u001b[0m\u001b[0;34m\u001b[0m\u001b[0m\n\u001b[0;32m--> 359\u001b[0;31m     \u001b[0mresult\u001b[0m \u001b[0;34m=\u001b[0m \u001b[0mself\u001b[0m\u001b[0;34m.\u001b[0m\u001b[0mtransform_ast\u001b[0m\u001b[0;34m(\u001b[0m\u001b[0mnode\u001b[0m\u001b[0;34m,\u001b[0m \u001b[0mcontext\u001b[0m\u001b[0;34m)\u001b[0m\u001b[0;34m\u001b[0m\u001b[0;34m\u001b[0m\u001b[0m\n\u001b[0m\u001b[1;32m    360\u001b[0m \u001b[0;34m\u001b[0m\u001b[0m\n\u001b[1;32m    361\u001b[0m     \u001b[0;32mreturn\u001b[0m \u001b[0mresult\u001b[0m\u001b[0;34m,\u001b[0m \u001b[0mcontext\u001b[0m\u001b[0;34m\u001b[0m\u001b[0;34m\u001b[0m\u001b[0m\n",
            "\u001b[0;32m/usr/local/lib/python3.7/dist-packages/tensorflow/python/autograph/impl/api.py\u001b[0m in \u001b[0;36mtransform_ast\u001b[0;34m(self, node, ctx)\u001b[0m\n\u001b[1;32m    238\u001b[0m \u001b[0;34m\u001b[0m\u001b[0m\n\u001b[1;32m    239\u001b[0m     \u001b[0mnode\u001b[0m \u001b[0;34m=\u001b[0m \u001b[0mfunctions\u001b[0m\u001b[0;34m.\u001b[0m\u001b[0mtransform\u001b[0m\u001b[0;34m(\u001b[0m\u001b[0mnode\u001b[0m\u001b[0;34m,\u001b[0m \u001b[0mctx\u001b[0m\u001b[0;34m)\u001b[0m\u001b[0;34m\u001b[0m\u001b[0;34m\u001b[0m\u001b[0m\n\u001b[0;32m--> 240\u001b[0;31m     \u001b[0mnode\u001b[0m \u001b[0;34m=\u001b[0m \u001b[0mdirectives\u001b[0m\u001b[0;34m.\u001b[0m\u001b[0mtransform\u001b[0m\u001b[0;34m(\u001b[0m\u001b[0mnode\u001b[0m\u001b[0;34m,\u001b[0m \u001b[0mctx\u001b[0m\u001b[0;34m)\u001b[0m\u001b[0;34m\u001b[0m\u001b[0;34m\u001b[0m\u001b[0m\n\u001b[0m\u001b[1;32m    241\u001b[0m     \u001b[0mnode\u001b[0m \u001b[0;34m=\u001b[0m \u001b[0mbreak_statements\u001b[0m\u001b[0;34m.\u001b[0m\u001b[0mtransform\u001b[0m\u001b[0;34m(\u001b[0m\u001b[0mnode\u001b[0m\u001b[0;34m,\u001b[0m \u001b[0mctx\u001b[0m\u001b[0;34m)\u001b[0m\u001b[0;34m\u001b[0m\u001b[0;34m\u001b[0m\u001b[0m\n\u001b[1;32m    242\u001b[0m     \u001b[0;32mif\u001b[0m \u001b[0mctx\u001b[0m\u001b[0;34m.\u001b[0m\u001b[0muser\u001b[0m\u001b[0;34m.\u001b[0m\u001b[0moptions\u001b[0m\u001b[0;34m.\u001b[0m\u001b[0muses\u001b[0m\u001b[0;34m(\u001b[0m\u001b[0mconverter\u001b[0m\u001b[0;34m.\u001b[0m\u001b[0mFeature\u001b[0m\u001b[0;34m.\u001b[0m\u001b[0mASSERT_STATEMENTS\u001b[0m\u001b[0;34m)\u001b[0m\u001b[0;34m:\u001b[0m\u001b[0;34m\u001b[0m\u001b[0;34m\u001b[0m\u001b[0m\n",
            "\u001b[0;32m/usr/local/lib/python3.7/dist-packages/tensorflow/python/autograph/converters/directives.py\u001b[0m in \u001b[0;36mtransform\u001b[0;34m(node, ctx)\u001b[0m\n\u001b[1;32m    175\u001b[0m \u001b[0;34m\u001b[0m\u001b[0m\n\u001b[1;32m    176\u001b[0m \u001b[0;32mdef\u001b[0m \u001b[0mtransform\u001b[0m\u001b[0;34m(\u001b[0m\u001b[0mnode\u001b[0m\u001b[0;34m,\u001b[0m \u001b[0mctx\u001b[0m\u001b[0;34m)\u001b[0m\u001b[0;34m:\u001b[0m\u001b[0;34m\u001b[0m\u001b[0;34m\u001b[0m\u001b[0m\n\u001b[0;32m--> 177\u001b[0;31m   \u001b[0;32mreturn\u001b[0m \u001b[0mDirectivesTransformer\u001b[0m\u001b[0;34m(\u001b[0m\u001b[0mctx\u001b[0m\u001b[0;34m)\u001b[0m\u001b[0;34m.\u001b[0m\u001b[0mvisit\u001b[0m\u001b[0;34m(\u001b[0m\u001b[0mnode\u001b[0m\u001b[0;34m)\u001b[0m\u001b[0;34m\u001b[0m\u001b[0;34m\u001b[0m\u001b[0m\n\u001b[0m",
            "\u001b[0;32m/usr/local/lib/python3.7/dist-packages/tensorflow/python/autograph/core/converter.py\u001b[0m in \u001b[0;36mvisit\u001b[0;34m(self, node)\u001b[0m\n\u001b[1;32m    313\u001b[0m     \u001b[0mself\u001b[0m\u001b[0;34m.\u001b[0m\u001b[0m_ast_depth\u001b[0m \u001b[0;34m+=\u001b[0m \u001b[0;36m1\u001b[0m\u001b[0;34m\u001b[0m\u001b[0;34m\u001b[0m\u001b[0m\n\u001b[1;32m    314\u001b[0m     \u001b[0;32mtry\u001b[0m\u001b[0;34m:\u001b[0m\u001b[0;34m\u001b[0m\u001b[0;34m\u001b[0m\u001b[0m\n\u001b[0;32m--> 315\u001b[0;31m       \u001b[0;32mreturn\u001b[0m \u001b[0msuper\u001b[0m\u001b[0;34m(\u001b[0m\u001b[0mBase\u001b[0m\u001b[0;34m,\u001b[0m \u001b[0mself\u001b[0m\u001b[0;34m)\u001b[0m\u001b[0;34m.\u001b[0m\u001b[0mvisit\u001b[0m\u001b[0;34m(\u001b[0m\u001b[0mnode\u001b[0m\u001b[0;34m)\u001b[0m\u001b[0;34m\u001b[0m\u001b[0;34m\u001b[0m\u001b[0m\n\u001b[0m\u001b[1;32m    316\u001b[0m     \u001b[0;32mfinally\u001b[0m\u001b[0;34m:\u001b[0m\u001b[0;34m\u001b[0m\u001b[0;34m\u001b[0m\u001b[0m\n\u001b[1;32m    317\u001b[0m       \u001b[0mself\u001b[0m\u001b[0;34m.\u001b[0m\u001b[0m_ast_depth\u001b[0m \u001b[0;34m-=\u001b[0m \u001b[0;36m1\u001b[0m\u001b[0;34m\u001b[0m\u001b[0;34m\u001b[0m\u001b[0m\n",
            "\u001b[0;32m/usr/local/lib/python3.7/dist-packages/tensorflow/python/autograph/pyct/transformer.py\u001b[0m in \u001b[0;36mvisit\u001b[0;34m(self, node)\u001b[0m\n\u001b[1;32m    439\u001b[0m         \u001b[0mentry_expr_value\u001b[0m \u001b[0;34m=\u001b[0m \u001b[0mnode\u001b[0m\u001b[0;34m.\u001b[0m\u001b[0mvalue\u001b[0m\u001b[0;34m\u001b[0m\u001b[0;34m\u001b[0m\u001b[0m\n\u001b[1;32m    440\u001b[0m \u001b[0;34m\u001b[0m\u001b[0m\n\u001b[0;32m--> 441\u001b[0;31m       \u001b[0mresult\u001b[0m \u001b[0;34m=\u001b[0m \u001b[0msuper\u001b[0m\u001b[0;34m(\u001b[0m\u001b[0mBase\u001b[0m\u001b[0;34m,\u001b[0m \u001b[0mself\u001b[0m\u001b[0;34m)\u001b[0m\u001b[0;34m.\u001b[0m\u001b[0mvisit\u001b[0m\u001b[0;34m(\u001b[0m\u001b[0mnode\u001b[0m\u001b[0;34m)\u001b[0m\u001b[0;34m\u001b[0m\u001b[0;34m\u001b[0m\u001b[0m\n\u001b[0m\u001b[1;32m    442\u001b[0m \u001b[0;34m\u001b[0m\u001b[0m\n\u001b[1;32m    443\u001b[0m       \u001b[0;31m# Adjust for consistency: replacing the value of an Expr with\u001b[0m\u001b[0;34m\u001b[0m\u001b[0;34m\u001b[0m\u001b[0;34m\u001b[0m\u001b[0m\n",
            "\u001b[0;32m/usr/lib/python3.7/ast.py\u001b[0m in \u001b[0;36mvisit\u001b[0;34m(self, node)\u001b[0m\n\u001b[1;32m    269\u001b[0m         \u001b[0mmethod\u001b[0m \u001b[0;34m=\u001b[0m \u001b[0;34m'visit_'\u001b[0m \u001b[0;34m+\u001b[0m \u001b[0mnode\u001b[0m\u001b[0;34m.\u001b[0m\u001b[0m__class__\u001b[0m\u001b[0;34m.\u001b[0m\u001b[0m__name__\u001b[0m\u001b[0;34m\u001b[0m\u001b[0;34m\u001b[0m\u001b[0m\n\u001b[1;32m    270\u001b[0m         \u001b[0mvisitor\u001b[0m \u001b[0;34m=\u001b[0m \u001b[0mgetattr\u001b[0m\u001b[0;34m(\u001b[0m\u001b[0mself\u001b[0m\u001b[0;34m,\u001b[0m \u001b[0mmethod\u001b[0m\u001b[0;34m,\u001b[0m \u001b[0mself\u001b[0m\u001b[0;34m.\u001b[0m\u001b[0mgeneric_visit\u001b[0m\u001b[0;34m)\u001b[0m\u001b[0;34m\u001b[0m\u001b[0;34m\u001b[0m\u001b[0m\n\u001b[0;32m--> 271\u001b[0;31m         \u001b[0;32mreturn\u001b[0m \u001b[0mvisitor\u001b[0m\u001b[0;34m(\u001b[0m\u001b[0mnode\u001b[0m\u001b[0;34m)\u001b[0m\u001b[0;34m\u001b[0m\u001b[0;34m\u001b[0m\u001b[0m\n\u001b[0m\u001b[1;32m    272\u001b[0m \u001b[0;34m\u001b[0m\u001b[0m\n\u001b[1;32m    273\u001b[0m     \u001b[0;32mdef\u001b[0m \u001b[0mgeneric_visit\u001b[0m\u001b[0;34m(\u001b[0m\u001b[0mself\u001b[0m\u001b[0;34m,\u001b[0m \u001b[0mnode\u001b[0m\u001b[0;34m)\u001b[0m\u001b[0;34m:\u001b[0m\u001b[0;34m\u001b[0m\u001b[0;34m\u001b[0m\u001b[0m\n",
            "\u001b[0;32m/usr/lib/python3.7/ast.py\u001b[0m in \u001b[0;36mgeneric_visit\u001b[0;34m(self, node)\u001b[0m\n\u001b[1;32m    324\u001b[0m                 \u001b[0;32mfor\u001b[0m \u001b[0mvalue\u001b[0m \u001b[0;32min\u001b[0m \u001b[0mold_value\u001b[0m\u001b[0;34m:\u001b[0m\u001b[0;34m\u001b[0m\u001b[0;34m\u001b[0m\u001b[0m\n\u001b[1;32m    325\u001b[0m                     \u001b[0;32mif\u001b[0m \u001b[0misinstance\u001b[0m\u001b[0;34m(\u001b[0m\u001b[0mvalue\u001b[0m\u001b[0;34m,\u001b[0m \u001b[0mAST\u001b[0m\u001b[0;34m)\u001b[0m\u001b[0;34m:\u001b[0m\u001b[0;34m\u001b[0m\u001b[0;34m\u001b[0m\u001b[0m\n\u001b[0;32m--> 326\u001b[0;31m                         \u001b[0mvalue\u001b[0m \u001b[0;34m=\u001b[0m \u001b[0mself\u001b[0m\u001b[0;34m.\u001b[0m\u001b[0mvisit\u001b[0m\u001b[0;34m(\u001b[0m\u001b[0mvalue\u001b[0m\u001b[0;34m)\u001b[0m\u001b[0;34m\u001b[0m\u001b[0;34m\u001b[0m\u001b[0m\n\u001b[0m\u001b[1;32m    327\u001b[0m                         \u001b[0;32mif\u001b[0m \u001b[0mvalue\u001b[0m \u001b[0;32mis\u001b[0m \u001b[0;32mNone\u001b[0m\u001b[0;34m:\u001b[0m\u001b[0;34m\u001b[0m\u001b[0;34m\u001b[0m\u001b[0m\n\u001b[1;32m    328\u001b[0m                             \u001b[0;32mcontinue\u001b[0m\u001b[0;34m\u001b[0m\u001b[0;34m\u001b[0m\u001b[0m\n",
            "\u001b[0;32m/usr/local/lib/python3.7/dist-packages/tensorflow/python/autograph/core/converter.py\u001b[0m in \u001b[0;36mvisit\u001b[0;34m(self, node)\u001b[0m\n\u001b[1;32m    313\u001b[0m     \u001b[0mself\u001b[0m\u001b[0;34m.\u001b[0m\u001b[0m_ast_depth\u001b[0m \u001b[0;34m+=\u001b[0m \u001b[0;36m1\u001b[0m\u001b[0;34m\u001b[0m\u001b[0;34m\u001b[0m\u001b[0m\n\u001b[1;32m    314\u001b[0m     \u001b[0;32mtry\u001b[0m\u001b[0;34m:\u001b[0m\u001b[0;34m\u001b[0m\u001b[0;34m\u001b[0m\u001b[0m\n\u001b[0;32m--> 315\u001b[0;31m       \u001b[0;32mreturn\u001b[0m \u001b[0msuper\u001b[0m\u001b[0;34m(\u001b[0m\u001b[0mBase\u001b[0m\u001b[0;34m,\u001b[0m \u001b[0mself\u001b[0m\u001b[0;34m)\u001b[0m\u001b[0;34m.\u001b[0m\u001b[0mvisit\u001b[0m\u001b[0;34m(\u001b[0m\u001b[0mnode\u001b[0m\u001b[0;34m)\u001b[0m\u001b[0;34m\u001b[0m\u001b[0;34m\u001b[0m\u001b[0m\n\u001b[0m\u001b[1;32m    316\u001b[0m     \u001b[0;32mfinally\u001b[0m\u001b[0;34m:\u001b[0m\u001b[0;34m\u001b[0m\u001b[0;34m\u001b[0m\u001b[0m\n\u001b[1;32m    317\u001b[0m       \u001b[0mself\u001b[0m\u001b[0;34m.\u001b[0m\u001b[0m_ast_depth\u001b[0m \u001b[0;34m-=\u001b[0m \u001b[0;36m1\u001b[0m\u001b[0;34m\u001b[0m\u001b[0;34m\u001b[0m\u001b[0m\n",
            "\u001b[0;32m/usr/local/lib/python3.7/dist-packages/tensorflow/python/autograph/pyct/transformer.py\u001b[0m in \u001b[0;36mvisit\u001b[0;34m(self, node)\u001b[0m\n\u001b[1;32m    439\u001b[0m         \u001b[0mentry_expr_value\u001b[0m \u001b[0;34m=\u001b[0m \u001b[0mnode\u001b[0m\u001b[0;34m.\u001b[0m\u001b[0mvalue\u001b[0m\u001b[0;34m\u001b[0m\u001b[0;34m\u001b[0m\u001b[0m\n\u001b[1;32m    440\u001b[0m \u001b[0;34m\u001b[0m\u001b[0m\n\u001b[0;32m--> 441\u001b[0;31m       \u001b[0mresult\u001b[0m \u001b[0;34m=\u001b[0m \u001b[0msuper\u001b[0m\u001b[0;34m(\u001b[0m\u001b[0mBase\u001b[0m\u001b[0;34m,\u001b[0m \u001b[0mself\u001b[0m\u001b[0;34m)\u001b[0m\u001b[0;34m.\u001b[0m\u001b[0mvisit\u001b[0m\u001b[0;34m(\u001b[0m\u001b[0mnode\u001b[0m\u001b[0;34m)\u001b[0m\u001b[0;34m\u001b[0m\u001b[0;34m\u001b[0m\u001b[0m\n\u001b[0m\u001b[1;32m    442\u001b[0m \u001b[0;34m\u001b[0m\u001b[0m\n\u001b[1;32m    443\u001b[0m       \u001b[0;31m# Adjust for consistency: replacing the value of an Expr with\u001b[0m\u001b[0;34m\u001b[0m\u001b[0;34m\u001b[0m\u001b[0;34m\u001b[0m\u001b[0m\n",
            "\u001b[0;32m/usr/lib/python3.7/ast.py\u001b[0m in \u001b[0;36mvisit\u001b[0;34m(self, node)\u001b[0m\n\u001b[1;32m    269\u001b[0m         \u001b[0mmethod\u001b[0m \u001b[0;34m=\u001b[0m \u001b[0;34m'visit_'\u001b[0m \u001b[0;34m+\u001b[0m \u001b[0mnode\u001b[0m\u001b[0;34m.\u001b[0m\u001b[0m__class__\u001b[0m\u001b[0;34m.\u001b[0m\u001b[0m__name__\u001b[0m\u001b[0;34m\u001b[0m\u001b[0;34m\u001b[0m\u001b[0m\n\u001b[1;32m    270\u001b[0m         \u001b[0mvisitor\u001b[0m \u001b[0;34m=\u001b[0m \u001b[0mgetattr\u001b[0m\u001b[0;34m(\u001b[0m\u001b[0mself\u001b[0m\u001b[0;34m,\u001b[0m \u001b[0mmethod\u001b[0m\u001b[0;34m,\u001b[0m \u001b[0mself\u001b[0m\u001b[0;34m.\u001b[0m\u001b[0mgeneric_visit\u001b[0m\u001b[0;34m)\u001b[0m\u001b[0;34m\u001b[0m\u001b[0;34m\u001b[0m\u001b[0m\n\u001b[0;32m--> 271\u001b[0;31m         \u001b[0;32mreturn\u001b[0m \u001b[0mvisitor\u001b[0m\u001b[0;34m(\u001b[0m\u001b[0mnode\u001b[0m\u001b[0;34m)\u001b[0m\u001b[0;34m\u001b[0m\u001b[0;34m\u001b[0m\u001b[0m\n\u001b[0m\u001b[1;32m    272\u001b[0m \u001b[0;34m\u001b[0m\u001b[0m\n\u001b[1;32m    273\u001b[0m     \u001b[0;32mdef\u001b[0m \u001b[0mgeneric_visit\u001b[0m\u001b[0;34m(\u001b[0m\u001b[0mself\u001b[0m\u001b[0;34m,\u001b[0m \u001b[0mnode\u001b[0m\u001b[0;34m)\u001b[0m\u001b[0;34m:\u001b[0m\u001b[0;34m\u001b[0m\u001b[0;34m\u001b[0m\u001b[0m\n",
            "\u001b[0;32m/usr/lib/python3.7/ast.py\u001b[0m in \u001b[0;36mgeneric_visit\u001b[0;34m(self, node)\u001b[0m\n\u001b[1;32m    324\u001b[0m                 \u001b[0;32mfor\u001b[0m \u001b[0mvalue\u001b[0m \u001b[0;32min\u001b[0m \u001b[0mold_value\u001b[0m\u001b[0;34m:\u001b[0m\u001b[0;34m\u001b[0m\u001b[0;34m\u001b[0m\u001b[0m\n\u001b[1;32m    325\u001b[0m                     \u001b[0;32mif\u001b[0m \u001b[0misinstance\u001b[0m\u001b[0;34m(\u001b[0m\u001b[0mvalue\u001b[0m\u001b[0;34m,\u001b[0m \u001b[0mAST\u001b[0m\u001b[0;34m)\u001b[0m\u001b[0;34m:\u001b[0m\u001b[0;34m\u001b[0m\u001b[0;34m\u001b[0m\u001b[0m\n\u001b[0;32m--> 326\u001b[0;31m                         \u001b[0mvalue\u001b[0m \u001b[0;34m=\u001b[0m \u001b[0mself\u001b[0m\u001b[0;34m.\u001b[0m\u001b[0mvisit\u001b[0m\u001b[0;34m(\u001b[0m\u001b[0mvalue\u001b[0m\u001b[0;34m)\u001b[0m\u001b[0;34m\u001b[0m\u001b[0;34m\u001b[0m\u001b[0m\n\u001b[0m\u001b[1;32m    327\u001b[0m                         \u001b[0;32mif\u001b[0m \u001b[0mvalue\u001b[0m \u001b[0;32mis\u001b[0m \u001b[0;32mNone\u001b[0m\u001b[0;34m:\u001b[0m\u001b[0;34m\u001b[0m\u001b[0;34m\u001b[0m\u001b[0m\n\u001b[1;32m    328\u001b[0m                             \u001b[0;32mcontinue\u001b[0m\u001b[0;34m\u001b[0m\u001b[0;34m\u001b[0m\u001b[0m\n",
            "\u001b[0;32m/usr/local/lib/python3.7/dist-packages/tensorflow/python/autograph/core/converter.py\u001b[0m in \u001b[0;36mvisit\u001b[0;34m(self, node)\u001b[0m\n\u001b[1;32m    313\u001b[0m     \u001b[0mself\u001b[0m\u001b[0;34m.\u001b[0m\u001b[0m_ast_depth\u001b[0m \u001b[0;34m+=\u001b[0m \u001b[0;36m1\u001b[0m\u001b[0;34m\u001b[0m\u001b[0;34m\u001b[0m\u001b[0m\n\u001b[1;32m    314\u001b[0m     \u001b[0;32mtry\u001b[0m\u001b[0;34m:\u001b[0m\u001b[0;34m\u001b[0m\u001b[0;34m\u001b[0m\u001b[0m\n\u001b[0;32m--> 315\u001b[0;31m       \u001b[0;32mreturn\u001b[0m \u001b[0msuper\u001b[0m\u001b[0;34m(\u001b[0m\u001b[0mBase\u001b[0m\u001b[0;34m,\u001b[0m \u001b[0mself\u001b[0m\u001b[0;34m)\u001b[0m\u001b[0;34m.\u001b[0m\u001b[0mvisit\u001b[0m\u001b[0;34m(\u001b[0m\u001b[0mnode\u001b[0m\u001b[0;34m)\u001b[0m\u001b[0;34m\u001b[0m\u001b[0;34m\u001b[0m\u001b[0m\n\u001b[0m\u001b[1;32m    316\u001b[0m     \u001b[0;32mfinally\u001b[0m\u001b[0;34m:\u001b[0m\u001b[0;34m\u001b[0m\u001b[0;34m\u001b[0m\u001b[0m\n\u001b[1;32m    317\u001b[0m       \u001b[0mself\u001b[0m\u001b[0;34m.\u001b[0m\u001b[0m_ast_depth\u001b[0m \u001b[0;34m-=\u001b[0m \u001b[0;36m1\u001b[0m\u001b[0;34m\u001b[0m\u001b[0;34m\u001b[0m\u001b[0m\n",
            "\u001b[0;32m/usr/local/lib/python3.7/dist-packages/tensorflow/python/autograph/pyct/transformer.py\u001b[0m in \u001b[0;36mvisit\u001b[0;34m(self, node)\u001b[0m\n\u001b[1;32m    439\u001b[0m         \u001b[0mentry_expr_value\u001b[0m \u001b[0;34m=\u001b[0m \u001b[0mnode\u001b[0m\u001b[0;34m.\u001b[0m\u001b[0mvalue\u001b[0m\u001b[0;34m\u001b[0m\u001b[0;34m\u001b[0m\u001b[0m\n\u001b[1;32m    440\u001b[0m \u001b[0;34m\u001b[0m\u001b[0m\n\u001b[0;32m--> 441\u001b[0;31m       \u001b[0mresult\u001b[0m \u001b[0;34m=\u001b[0m \u001b[0msuper\u001b[0m\u001b[0;34m(\u001b[0m\u001b[0mBase\u001b[0m\u001b[0;34m,\u001b[0m \u001b[0mself\u001b[0m\u001b[0;34m)\u001b[0m\u001b[0;34m.\u001b[0m\u001b[0mvisit\u001b[0m\u001b[0;34m(\u001b[0m\u001b[0mnode\u001b[0m\u001b[0;34m)\u001b[0m\u001b[0;34m\u001b[0m\u001b[0;34m\u001b[0m\u001b[0m\n\u001b[0m\u001b[1;32m    442\u001b[0m \u001b[0;34m\u001b[0m\u001b[0m\n\u001b[1;32m    443\u001b[0m       \u001b[0;31m# Adjust for consistency: replacing the value of an Expr with\u001b[0m\u001b[0;34m\u001b[0m\u001b[0;34m\u001b[0m\u001b[0;34m\u001b[0m\u001b[0m\n",
            "\u001b[0;32m/usr/lib/python3.7/ast.py\u001b[0m in \u001b[0;36mvisit\u001b[0;34m(self, node)\u001b[0m\n\u001b[1;32m    269\u001b[0m         \u001b[0mmethod\u001b[0m \u001b[0;34m=\u001b[0m \u001b[0;34m'visit_'\u001b[0m \u001b[0;34m+\u001b[0m \u001b[0mnode\u001b[0m\u001b[0;34m.\u001b[0m\u001b[0m__class__\u001b[0m\u001b[0;34m.\u001b[0m\u001b[0m__name__\u001b[0m\u001b[0;34m\u001b[0m\u001b[0;34m\u001b[0m\u001b[0m\n\u001b[1;32m    270\u001b[0m         \u001b[0mvisitor\u001b[0m \u001b[0;34m=\u001b[0m \u001b[0mgetattr\u001b[0m\u001b[0;34m(\u001b[0m\u001b[0mself\u001b[0m\u001b[0;34m,\u001b[0m \u001b[0mmethod\u001b[0m\u001b[0;34m,\u001b[0m \u001b[0mself\u001b[0m\u001b[0;34m.\u001b[0m\u001b[0mgeneric_visit\u001b[0m\u001b[0;34m)\u001b[0m\u001b[0;34m\u001b[0m\u001b[0;34m\u001b[0m\u001b[0m\n\u001b[0;32m--> 271\u001b[0;31m         \u001b[0;32mreturn\u001b[0m \u001b[0mvisitor\u001b[0m\u001b[0;34m(\u001b[0m\u001b[0mnode\u001b[0m\u001b[0;34m)\u001b[0m\u001b[0;34m\u001b[0m\u001b[0;34m\u001b[0m\u001b[0m\n\u001b[0m\u001b[1;32m    272\u001b[0m \u001b[0;34m\u001b[0m\u001b[0m\n\u001b[1;32m    273\u001b[0m     \u001b[0;32mdef\u001b[0m \u001b[0mgeneric_visit\u001b[0m\u001b[0;34m(\u001b[0m\u001b[0mself\u001b[0m\u001b[0;34m,\u001b[0m \u001b[0mnode\u001b[0m\u001b[0;34m)\u001b[0m\u001b[0;34m:\u001b[0m\u001b[0;34m\u001b[0m\u001b[0;34m\u001b[0m\u001b[0m\n",
            "\u001b[0;32m/usr/lib/python3.7/ast.py\u001b[0m in \u001b[0;36mgeneric_visit\u001b[0;34m(self, node)\u001b[0m\n\u001b[1;32m    324\u001b[0m                 \u001b[0;32mfor\u001b[0m \u001b[0mvalue\u001b[0m \u001b[0;32min\u001b[0m \u001b[0mold_value\u001b[0m\u001b[0;34m:\u001b[0m\u001b[0;34m\u001b[0m\u001b[0;34m\u001b[0m\u001b[0m\n\u001b[1;32m    325\u001b[0m                     \u001b[0;32mif\u001b[0m \u001b[0misinstance\u001b[0m\u001b[0;34m(\u001b[0m\u001b[0mvalue\u001b[0m\u001b[0;34m,\u001b[0m \u001b[0mAST\u001b[0m\u001b[0;34m)\u001b[0m\u001b[0;34m:\u001b[0m\u001b[0;34m\u001b[0m\u001b[0;34m\u001b[0m\u001b[0m\n\u001b[0;32m--> 326\u001b[0;31m                         \u001b[0mvalue\u001b[0m \u001b[0;34m=\u001b[0m \u001b[0mself\u001b[0m\u001b[0;34m.\u001b[0m\u001b[0mvisit\u001b[0m\u001b[0;34m(\u001b[0m\u001b[0mvalue\u001b[0m\u001b[0;34m)\u001b[0m\u001b[0;34m\u001b[0m\u001b[0;34m\u001b[0m\u001b[0m\n\u001b[0m\u001b[1;32m    327\u001b[0m                         \u001b[0;32mif\u001b[0m \u001b[0mvalue\u001b[0m \u001b[0;32mis\u001b[0m \u001b[0;32mNone\u001b[0m\u001b[0;34m:\u001b[0m\u001b[0;34m\u001b[0m\u001b[0;34m\u001b[0m\u001b[0m\n\u001b[1;32m    328\u001b[0m                             \u001b[0;32mcontinue\u001b[0m\u001b[0;34m\u001b[0m\u001b[0;34m\u001b[0m\u001b[0m\n",
            "\u001b[0;32m/usr/local/lib/python3.7/dist-packages/tensorflow/python/autograph/core/converter.py\u001b[0m in \u001b[0;36mvisit\u001b[0;34m(self, node)\u001b[0m\n\u001b[1;32m    313\u001b[0m     \u001b[0mself\u001b[0m\u001b[0;34m.\u001b[0m\u001b[0m_ast_depth\u001b[0m \u001b[0;34m+=\u001b[0m \u001b[0;36m1\u001b[0m\u001b[0;34m\u001b[0m\u001b[0;34m\u001b[0m\u001b[0m\n\u001b[1;32m    314\u001b[0m     \u001b[0;32mtry\u001b[0m\u001b[0;34m:\u001b[0m\u001b[0;34m\u001b[0m\u001b[0;34m\u001b[0m\u001b[0m\n\u001b[0;32m--> 315\u001b[0;31m       \u001b[0;32mreturn\u001b[0m \u001b[0msuper\u001b[0m\u001b[0;34m(\u001b[0m\u001b[0mBase\u001b[0m\u001b[0;34m,\u001b[0m \u001b[0mself\u001b[0m\u001b[0;34m)\u001b[0m\u001b[0;34m.\u001b[0m\u001b[0mvisit\u001b[0m\u001b[0;34m(\u001b[0m\u001b[0mnode\u001b[0m\u001b[0;34m)\u001b[0m\u001b[0;34m\u001b[0m\u001b[0;34m\u001b[0m\u001b[0m\n\u001b[0m\u001b[1;32m    316\u001b[0m     \u001b[0;32mfinally\u001b[0m\u001b[0;34m:\u001b[0m\u001b[0;34m\u001b[0m\u001b[0;34m\u001b[0m\u001b[0m\n\u001b[1;32m    317\u001b[0m       \u001b[0mself\u001b[0m\u001b[0;34m.\u001b[0m\u001b[0m_ast_depth\u001b[0m \u001b[0;34m-=\u001b[0m \u001b[0;36m1\u001b[0m\u001b[0;34m\u001b[0m\u001b[0;34m\u001b[0m\u001b[0m\n",
            "\u001b[0;32m/usr/local/lib/python3.7/dist-packages/tensorflow/python/autograph/pyct/transformer.py\u001b[0m in \u001b[0;36mvisit\u001b[0;34m(self, node)\u001b[0m\n\u001b[1;32m    439\u001b[0m         \u001b[0mentry_expr_value\u001b[0m \u001b[0;34m=\u001b[0m \u001b[0mnode\u001b[0m\u001b[0;34m.\u001b[0m\u001b[0mvalue\u001b[0m\u001b[0;34m\u001b[0m\u001b[0;34m\u001b[0m\u001b[0m\n\u001b[1;32m    440\u001b[0m \u001b[0;34m\u001b[0m\u001b[0m\n\u001b[0;32m--> 441\u001b[0;31m       \u001b[0mresult\u001b[0m \u001b[0;34m=\u001b[0m \u001b[0msuper\u001b[0m\u001b[0;34m(\u001b[0m\u001b[0mBase\u001b[0m\u001b[0;34m,\u001b[0m \u001b[0mself\u001b[0m\u001b[0;34m)\u001b[0m\u001b[0;34m.\u001b[0m\u001b[0mvisit\u001b[0m\u001b[0;34m(\u001b[0m\u001b[0mnode\u001b[0m\u001b[0;34m)\u001b[0m\u001b[0;34m\u001b[0m\u001b[0;34m\u001b[0m\u001b[0m\n\u001b[0m\u001b[1;32m    442\u001b[0m \u001b[0;34m\u001b[0m\u001b[0m\n\u001b[1;32m    443\u001b[0m       \u001b[0;31m# Adjust for consistency: replacing the value of an Expr with\u001b[0m\u001b[0;34m\u001b[0m\u001b[0;34m\u001b[0m\u001b[0;34m\u001b[0m\u001b[0m\n",
            "\u001b[0;32m/usr/lib/python3.7/ast.py\u001b[0m in \u001b[0;36mvisit\u001b[0;34m(self, node)\u001b[0m\n\u001b[1;32m    269\u001b[0m         \u001b[0mmethod\u001b[0m \u001b[0;34m=\u001b[0m \u001b[0;34m'visit_'\u001b[0m \u001b[0;34m+\u001b[0m \u001b[0mnode\u001b[0m\u001b[0;34m.\u001b[0m\u001b[0m__class__\u001b[0m\u001b[0;34m.\u001b[0m\u001b[0m__name__\u001b[0m\u001b[0;34m\u001b[0m\u001b[0;34m\u001b[0m\u001b[0m\n\u001b[1;32m    270\u001b[0m         \u001b[0mvisitor\u001b[0m \u001b[0;34m=\u001b[0m \u001b[0mgetattr\u001b[0m\u001b[0;34m(\u001b[0m\u001b[0mself\u001b[0m\u001b[0;34m,\u001b[0m \u001b[0mmethod\u001b[0m\u001b[0;34m,\u001b[0m \u001b[0mself\u001b[0m\u001b[0;34m.\u001b[0m\u001b[0mgeneric_visit\u001b[0m\u001b[0;34m)\u001b[0m\u001b[0;34m\u001b[0m\u001b[0;34m\u001b[0m\u001b[0m\n\u001b[0;32m--> 271\u001b[0;31m         \u001b[0;32mreturn\u001b[0m \u001b[0mvisitor\u001b[0m\u001b[0;34m(\u001b[0m\u001b[0mnode\u001b[0m\u001b[0;34m)\u001b[0m\u001b[0;34m\u001b[0m\u001b[0;34m\u001b[0m\u001b[0m\n\u001b[0m\u001b[1;32m    272\u001b[0m \u001b[0;34m\u001b[0m\u001b[0m\n\u001b[1;32m    273\u001b[0m     \u001b[0;32mdef\u001b[0m \u001b[0mgeneric_visit\u001b[0m\u001b[0;34m(\u001b[0m\u001b[0mself\u001b[0m\u001b[0;34m,\u001b[0m \u001b[0mnode\u001b[0m\u001b[0;34m)\u001b[0m\u001b[0;34m:\u001b[0m\u001b[0;34m\u001b[0m\u001b[0;34m\u001b[0m\u001b[0m\n",
            "\u001b[0;32m/usr/local/lib/python3.7/dist-packages/tensorflow/python/autograph/converters/directives.py\u001b[0m in \u001b[0;36mvisit_Assign\u001b[0;34m(self, node)\u001b[0m\n\u001b[1;32m    130\u001b[0m   \u001b[0;32mdef\u001b[0m \u001b[0mvisit_Assign\u001b[0m\u001b[0;34m(\u001b[0m\u001b[0mself\u001b[0m\u001b[0;34m,\u001b[0m \u001b[0mnode\u001b[0m\u001b[0;34m)\u001b[0m\u001b[0;34m:\u001b[0m\u001b[0;34m\u001b[0m\u001b[0;34m\u001b[0m\u001b[0m\n\u001b[1;32m    131\u001b[0m     \u001b[0mself\u001b[0m\u001b[0;34m.\u001b[0m\u001b[0mstate\u001b[0m\u001b[0;34m[\u001b[0m\u001b[0m_LoopScope\u001b[0m\u001b[0;34m]\u001b[0m\u001b[0;34m.\u001b[0m\u001b[0mstatements_visited\u001b[0m \u001b[0;34m+=\u001b[0m \u001b[0;36m1\u001b[0m\u001b[0;34m\u001b[0m\u001b[0;34m\u001b[0m\u001b[0m\n\u001b[0;32m--> 132\u001b[0;31m     \u001b[0;32mreturn\u001b[0m \u001b[0mself\u001b[0m\u001b[0;34m.\u001b[0m\u001b[0mgeneric_visit\u001b[0m\u001b[0;34m(\u001b[0m\u001b[0mnode\u001b[0m\u001b[0;34m)\u001b[0m\u001b[0;34m\u001b[0m\u001b[0;34m\u001b[0m\u001b[0m\n\u001b[0m\u001b[1;32m    133\u001b[0m \u001b[0;34m\u001b[0m\u001b[0m\n\u001b[1;32m    134\u001b[0m   \u001b[0;32mdef\u001b[0m \u001b[0mvisit_AugAssign\u001b[0m\u001b[0;34m(\u001b[0m\u001b[0mself\u001b[0m\u001b[0;34m,\u001b[0m \u001b[0mnode\u001b[0m\u001b[0;34m)\u001b[0m\u001b[0;34m:\u001b[0m\u001b[0;34m\u001b[0m\u001b[0;34m\u001b[0m\u001b[0m\n",
            "\u001b[0;32m/usr/lib/python3.7/ast.py\u001b[0m in \u001b[0;36mgeneric_visit\u001b[0;34m(self, node)\u001b[0m\n\u001b[1;32m    333\u001b[0m                 \u001b[0mold_value\u001b[0m\u001b[0;34m[\u001b[0m\u001b[0;34m:\u001b[0m\u001b[0;34m]\u001b[0m \u001b[0;34m=\u001b[0m \u001b[0mnew_values\u001b[0m\u001b[0;34m\u001b[0m\u001b[0;34m\u001b[0m\u001b[0m\n\u001b[1;32m    334\u001b[0m             \u001b[0;32melif\u001b[0m \u001b[0misinstance\u001b[0m\u001b[0;34m(\u001b[0m\u001b[0mold_value\u001b[0m\u001b[0;34m,\u001b[0m \u001b[0mAST\u001b[0m\u001b[0;34m)\u001b[0m\u001b[0;34m:\u001b[0m\u001b[0;34m\u001b[0m\u001b[0;34m\u001b[0m\u001b[0m\n\u001b[0;32m--> 335\u001b[0;31m                 \u001b[0mnew_node\u001b[0m \u001b[0;34m=\u001b[0m \u001b[0mself\u001b[0m\u001b[0;34m.\u001b[0m\u001b[0mvisit\u001b[0m\u001b[0;34m(\u001b[0m\u001b[0mold_value\u001b[0m\u001b[0;34m)\u001b[0m\u001b[0;34m\u001b[0m\u001b[0;34m\u001b[0m\u001b[0m\n\u001b[0m\u001b[1;32m    336\u001b[0m                 \u001b[0;32mif\u001b[0m \u001b[0mnew_node\u001b[0m \u001b[0;32mis\u001b[0m \u001b[0;32mNone\u001b[0m\u001b[0;34m:\u001b[0m\u001b[0;34m\u001b[0m\u001b[0;34m\u001b[0m\u001b[0m\n\u001b[1;32m    337\u001b[0m                     \u001b[0mdelattr\u001b[0m\u001b[0;34m(\u001b[0m\u001b[0mnode\u001b[0m\u001b[0;34m,\u001b[0m \u001b[0mfield\u001b[0m\u001b[0;34m)\u001b[0m\u001b[0;34m\u001b[0m\u001b[0;34m\u001b[0m\u001b[0m\n",
            "\u001b[0;32m/usr/local/lib/python3.7/dist-packages/tensorflow/python/autograph/core/converter.py\u001b[0m in \u001b[0;36mvisit\u001b[0;34m(self, node)\u001b[0m\n\u001b[1;32m    313\u001b[0m     \u001b[0mself\u001b[0m\u001b[0;34m.\u001b[0m\u001b[0m_ast_depth\u001b[0m \u001b[0;34m+=\u001b[0m \u001b[0;36m1\u001b[0m\u001b[0;34m\u001b[0m\u001b[0;34m\u001b[0m\u001b[0m\n\u001b[1;32m    314\u001b[0m     \u001b[0;32mtry\u001b[0m\u001b[0;34m:\u001b[0m\u001b[0;34m\u001b[0m\u001b[0;34m\u001b[0m\u001b[0m\n\u001b[0;32m--> 315\u001b[0;31m       \u001b[0;32mreturn\u001b[0m \u001b[0msuper\u001b[0m\u001b[0;34m(\u001b[0m\u001b[0mBase\u001b[0m\u001b[0;34m,\u001b[0m \u001b[0mself\u001b[0m\u001b[0;34m)\u001b[0m\u001b[0;34m.\u001b[0m\u001b[0mvisit\u001b[0m\u001b[0;34m(\u001b[0m\u001b[0mnode\u001b[0m\u001b[0;34m)\u001b[0m\u001b[0;34m\u001b[0m\u001b[0;34m\u001b[0m\u001b[0m\n\u001b[0m\u001b[1;32m    316\u001b[0m     \u001b[0;32mfinally\u001b[0m\u001b[0;34m:\u001b[0m\u001b[0;34m\u001b[0m\u001b[0;34m\u001b[0m\u001b[0m\n\u001b[1;32m    317\u001b[0m       \u001b[0mself\u001b[0m\u001b[0;34m.\u001b[0m\u001b[0m_ast_depth\u001b[0m \u001b[0;34m-=\u001b[0m \u001b[0;36m1\u001b[0m\u001b[0;34m\u001b[0m\u001b[0;34m\u001b[0m\u001b[0m\n",
            "\u001b[0;32m/usr/local/lib/python3.7/dist-packages/tensorflow/python/autograph/pyct/transformer.py\u001b[0m in \u001b[0;36mvisit\u001b[0;34m(self, node)\u001b[0m\n\u001b[1;32m    439\u001b[0m         \u001b[0mentry_expr_value\u001b[0m \u001b[0;34m=\u001b[0m \u001b[0mnode\u001b[0m\u001b[0;34m.\u001b[0m\u001b[0mvalue\u001b[0m\u001b[0;34m\u001b[0m\u001b[0;34m\u001b[0m\u001b[0m\n\u001b[1;32m    440\u001b[0m \u001b[0;34m\u001b[0m\u001b[0m\n\u001b[0;32m--> 441\u001b[0;31m       \u001b[0mresult\u001b[0m \u001b[0;34m=\u001b[0m \u001b[0msuper\u001b[0m\u001b[0;34m(\u001b[0m\u001b[0mBase\u001b[0m\u001b[0;34m,\u001b[0m \u001b[0mself\u001b[0m\u001b[0;34m)\u001b[0m\u001b[0;34m.\u001b[0m\u001b[0mvisit\u001b[0m\u001b[0;34m(\u001b[0m\u001b[0mnode\u001b[0m\u001b[0;34m)\u001b[0m\u001b[0;34m\u001b[0m\u001b[0;34m\u001b[0m\u001b[0m\n\u001b[0m\u001b[1;32m    442\u001b[0m \u001b[0;34m\u001b[0m\u001b[0m\n\u001b[1;32m    443\u001b[0m       \u001b[0;31m# Adjust for consistency: replacing the value of an Expr with\u001b[0m\u001b[0;34m\u001b[0m\u001b[0;34m\u001b[0m\u001b[0;34m\u001b[0m\u001b[0m\n",
            "\u001b[0;32m/usr/lib/python3.7/ast.py\u001b[0m in \u001b[0;36mvisit\u001b[0;34m(self, node)\u001b[0m\n\u001b[1;32m    269\u001b[0m         \u001b[0mmethod\u001b[0m \u001b[0;34m=\u001b[0m \u001b[0;34m'visit_'\u001b[0m \u001b[0;34m+\u001b[0m \u001b[0mnode\u001b[0m\u001b[0;34m.\u001b[0m\u001b[0m__class__\u001b[0m\u001b[0;34m.\u001b[0m\u001b[0m__name__\u001b[0m\u001b[0;34m\u001b[0m\u001b[0;34m\u001b[0m\u001b[0m\n\u001b[1;32m    270\u001b[0m         \u001b[0mvisitor\u001b[0m \u001b[0;34m=\u001b[0m \u001b[0mgetattr\u001b[0m\u001b[0;34m(\u001b[0m\u001b[0mself\u001b[0m\u001b[0;34m,\u001b[0m \u001b[0mmethod\u001b[0m\u001b[0;34m,\u001b[0m \u001b[0mself\u001b[0m\u001b[0;34m.\u001b[0m\u001b[0mgeneric_visit\u001b[0m\u001b[0;34m)\u001b[0m\u001b[0;34m\u001b[0m\u001b[0;34m\u001b[0m\u001b[0m\n\u001b[0;32m--> 271\u001b[0;31m         \u001b[0;32mreturn\u001b[0m \u001b[0mvisitor\u001b[0m\u001b[0;34m(\u001b[0m\u001b[0mnode\u001b[0m\u001b[0;34m)\u001b[0m\u001b[0;34m\u001b[0m\u001b[0;34m\u001b[0m\u001b[0m\n\u001b[0m\u001b[1;32m    272\u001b[0m \u001b[0;34m\u001b[0m\u001b[0m\n\u001b[1;32m    273\u001b[0m     \u001b[0;32mdef\u001b[0m \u001b[0mgeneric_visit\u001b[0m\u001b[0;34m(\u001b[0m\u001b[0mself\u001b[0m\u001b[0;34m,\u001b[0m \u001b[0mnode\u001b[0m\u001b[0;34m)\u001b[0m\u001b[0;34m:\u001b[0m\u001b[0;34m\u001b[0m\u001b[0;34m\u001b[0m\u001b[0m\n",
            "\u001b[0;32m/usr/lib/python3.7/ast.py\u001b[0m in \u001b[0;36mgeneric_visit\u001b[0;34m(self, node)\u001b[0m\n\u001b[1;32m    333\u001b[0m                 \u001b[0mold_value\u001b[0m\u001b[0;34m[\u001b[0m\u001b[0;34m:\u001b[0m\u001b[0;34m]\u001b[0m \u001b[0;34m=\u001b[0m \u001b[0mnew_values\u001b[0m\u001b[0;34m\u001b[0m\u001b[0;34m\u001b[0m\u001b[0m\n\u001b[1;32m    334\u001b[0m             \u001b[0;32melif\u001b[0m \u001b[0misinstance\u001b[0m\u001b[0;34m(\u001b[0m\u001b[0mold_value\u001b[0m\u001b[0;34m,\u001b[0m \u001b[0mAST\u001b[0m\u001b[0;34m)\u001b[0m\u001b[0;34m:\u001b[0m\u001b[0;34m\u001b[0m\u001b[0;34m\u001b[0m\u001b[0m\n\u001b[0;32m--> 335\u001b[0;31m                 \u001b[0mnew_node\u001b[0m \u001b[0;34m=\u001b[0m \u001b[0mself\u001b[0m\u001b[0;34m.\u001b[0m\u001b[0mvisit\u001b[0m\u001b[0;34m(\u001b[0m\u001b[0mold_value\u001b[0m\u001b[0;34m)\u001b[0m\u001b[0;34m\u001b[0m\u001b[0;34m\u001b[0m\u001b[0m\n\u001b[0m\u001b[1;32m    336\u001b[0m                 \u001b[0;32mif\u001b[0m \u001b[0mnew_node\u001b[0m \u001b[0;32mis\u001b[0m \u001b[0;32mNone\u001b[0m\u001b[0;34m:\u001b[0m\u001b[0;34m\u001b[0m\u001b[0;34m\u001b[0m\u001b[0m\n\u001b[1;32m    337\u001b[0m                     \u001b[0mdelattr\u001b[0m\u001b[0;34m(\u001b[0m\u001b[0mnode\u001b[0m\u001b[0;34m,\u001b[0m \u001b[0mfield\u001b[0m\u001b[0;34m)\u001b[0m\u001b[0;34m\u001b[0m\u001b[0;34m\u001b[0m\u001b[0m\n",
            "\u001b[0;32m/usr/local/lib/python3.7/dist-packages/tensorflow/python/autograph/core/converter.py\u001b[0m in \u001b[0;36mvisit\u001b[0;34m(self, node)\u001b[0m\n\u001b[1;32m    313\u001b[0m     \u001b[0mself\u001b[0m\u001b[0;34m.\u001b[0m\u001b[0m_ast_depth\u001b[0m \u001b[0;34m+=\u001b[0m \u001b[0;36m1\u001b[0m\u001b[0;34m\u001b[0m\u001b[0;34m\u001b[0m\u001b[0m\n\u001b[1;32m    314\u001b[0m     \u001b[0;32mtry\u001b[0m\u001b[0;34m:\u001b[0m\u001b[0;34m\u001b[0m\u001b[0;34m\u001b[0m\u001b[0m\n\u001b[0;32m--> 315\u001b[0;31m       \u001b[0;32mreturn\u001b[0m \u001b[0msuper\u001b[0m\u001b[0;34m(\u001b[0m\u001b[0mBase\u001b[0m\u001b[0;34m,\u001b[0m \u001b[0mself\u001b[0m\u001b[0;34m)\u001b[0m\u001b[0;34m.\u001b[0m\u001b[0mvisit\u001b[0m\u001b[0;34m(\u001b[0m\u001b[0mnode\u001b[0m\u001b[0;34m)\u001b[0m\u001b[0;34m\u001b[0m\u001b[0;34m\u001b[0m\u001b[0m\n\u001b[0m\u001b[1;32m    316\u001b[0m     \u001b[0;32mfinally\u001b[0m\u001b[0;34m:\u001b[0m\u001b[0;34m\u001b[0m\u001b[0;34m\u001b[0m\u001b[0m\n\u001b[1;32m    317\u001b[0m       \u001b[0mself\u001b[0m\u001b[0;34m.\u001b[0m\u001b[0m_ast_depth\u001b[0m \u001b[0;34m-=\u001b[0m \u001b[0;36m1\u001b[0m\u001b[0;34m\u001b[0m\u001b[0;34m\u001b[0m\u001b[0m\n",
            "\u001b[0;32m/usr/local/lib/python3.7/dist-packages/tensorflow/python/autograph/pyct/transformer.py\u001b[0m in \u001b[0;36mvisit\u001b[0;34m(self, node)\u001b[0m\n\u001b[1;32m    439\u001b[0m         \u001b[0mentry_expr_value\u001b[0m \u001b[0;34m=\u001b[0m \u001b[0mnode\u001b[0m\u001b[0;34m.\u001b[0m\u001b[0mvalue\u001b[0m\u001b[0;34m\u001b[0m\u001b[0;34m\u001b[0m\u001b[0m\n\u001b[1;32m    440\u001b[0m \u001b[0;34m\u001b[0m\u001b[0m\n\u001b[0;32m--> 441\u001b[0;31m       \u001b[0mresult\u001b[0m \u001b[0;34m=\u001b[0m \u001b[0msuper\u001b[0m\u001b[0;34m(\u001b[0m\u001b[0mBase\u001b[0m\u001b[0;34m,\u001b[0m \u001b[0mself\u001b[0m\u001b[0;34m)\u001b[0m\u001b[0;34m.\u001b[0m\u001b[0mvisit\u001b[0m\u001b[0;34m(\u001b[0m\u001b[0mnode\u001b[0m\u001b[0;34m)\u001b[0m\u001b[0;34m\u001b[0m\u001b[0;34m\u001b[0m\u001b[0m\n\u001b[0m\u001b[1;32m    442\u001b[0m \u001b[0;34m\u001b[0m\u001b[0m\n\u001b[1;32m    443\u001b[0m       \u001b[0;31m# Adjust for consistency: replacing the value of an Expr with\u001b[0m\u001b[0;34m\u001b[0m\u001b[0;34m\u001b[0m\u001b[0;34m\u001b[0m\u001b[0m\n",
            "\u001b[0;32m/usr/lib/python3.7/ast.py\u001b[0m in \u001b[0;36mvisit\u001b[0;34m(self, node)\u001b[0m\n\u001b[1;32m    269\u001b[0m         \u001b[0mmethod\u001b[0m \u001b[0;34m=\u001b[0m \u001b[0;34m'visit_'\u001b[0m \u001b[0;34m+\u001b[0m \u001b[0mnode\u001b[0m\u001b[0;34m.\u001b[0m\u001b[0m__class__\u001b[0m\u001b[0;34m.\u001b[0m\u001b[0m__name__\u001b[0m\u001b[0;34m\u001b[0m\u001b[0;34m\u001b[0m\u001b[0m\n\u001b[1;32m    270\u001b[0m         \u001b[0mvisitor\u001b[0m \u001b[0;34m=\u001b[0m \u001b[0mgetattr\u001b[0m\u001b[0;34m(\u001b[0m\u001b[0mself\u001b[0m\u001b[0;34m,\u001b[0m \u001b[0mmethod\u001b[0m\u001b[0;34m,\u001b[0m \u001b[0mself\u001b[0m\u001b[0;34m.\u001b[0m\u001b[0mgeneric_visit\u001b[0m\u001b[0;34m)\u001b[0m\u001b[0;34m\u001b[0m\u001b[0;34m\u001b[0m\u001b[0m\n\u001b[0;32m--> 271\u001b[0;31m         \u001b[0;32mreturn\u001b[0m \u001b[0mvisitor\u001b[0m\u001b[0;34m(\u001b[0m\u001b[0mnode\u001b[0m\u001b[0;34m)\u001b[0m\u001b[0;34m\u001b[0m\u001b[0;34m\u001b[0m\u001b[0m\n\u001b[0m\u001b[1;32m    272\u001b[0m \u001b[0;34m\u001b[0m\u001b[0m\n\u001b[1;32m    273\u001b[0m     \u001b[0;32mdef\u001b[0m \u001b[0mgeneric_visit\u001b[0m\u001b[0;34m(\u001b[0m\u001b[0mself\u001b[0m\u001b[0;34m,\u001b[0m \u001b[0mnode\u001b[0m\u001b[0;34m)\u001b[0m\u001b[0;34m:\u001b[0m\u001b[0;34m\u001b[0m\u001b[0;34m\u001b[0m\u001b[0m\n",
            "\u001b[0;32m/usr/lib/python3.7/ast.py\u001b[0m in \u001b[0;36mgeneric_visit\u001b[0;34m(self, node)\u001b[0m\n\u001b[1;32m    324\u001b[0m                 \u001b[0;32mfor\u001b[0m \u001b[0mvalue\u001b[0m \u001b[0;32min\u001b[0m \u001b[0mold_value\u001b[0m\u001b[0;34m:\u001b[0m\u001b[0;34m\u001b[0m\u001b[0;34m\u001b[0m\u001b[0m\n\u001b[1;32m    325\u001b[0m                     \u001b[0;32mif\u001b[0m \u001b[0misinstance\u001b[0m\u001b[0;34m(\u001b[0m\u001b[0mvalue\u001b[0m\u001b[0;34m,\u001b[0m \u001b[0mAST\u001b[0m\u001b[0;34m)\u001b[0m\u001b[0;34m:\u001b[0m\u001b[0;34m\u001b[0m\u001b[0;34m\u001b[0m\u001b[0m\n\u001b[0;32m--> 326\u001b[0;31m                         \u001b[0mvalue\u001b[0m \u001b[0;34m=\u001b[0m \u001b[0mself\u001b[0m\u001b[0;34m.\u001b[0m\u001b[0mvisit\u001b[0m\u001b[0;34m(\u001b[0m\u001b[0mvalue\u001b[0m\u001b[0;34m)\u001b[0m\u001b[0;34m\u001b[0m\u001b[0;34m\u001b[0m\u001b[0m\n\u001b[0m\u001b[1;32m    327\u001b[0m                         \u001b[0;32mif\u001b[0m \u001b[0mvalue\u001b[0m \u001b[0;32mis\u001b[0m \u001b[0;32mNone\u001b[0m\u001b[0;34m:\u001b[0m\u001b[0;34m\u001b[0m\u001b[0;34m\u001b[0m\u001b[0m\n\u001b[1;32m    328\u001b[0m                             \u001b[0;32mcontinue\u001b[0m\u001b[0;34m\u001b[0m\u001b[0;34m\u001b[0m\u001b[0m\n",
            "\u001b[0;32m/usr/local/lib/python3.7/dist-packages/tensorflow/python/autograph/core/converter.py\u001b[0m in \u001b[0;36mvisit\u001b[0;34m(self, node)\u001b[0m\n\u001b[1;32m    313\u001b[0m     \u001b[0mself\u001b[0m\u001b[0;34m.\u001b[0m\u001b[0m_ast_depth\u001b[0m \u001b[0;34m+=\u001b[0m \u001b[0;36m1\u001b[0m\u001b[0;34m\u001b[0m\u001b[0;34m\u001b[0m\u001b[0m\n\u001b[1;32m    314\u001b[0m     \u001b[0;32mtry\u001b[0m\u001b[0;34m:\u001b[0m\u001b[0;34m\u001b[0m\u001b[0;34m\u001b[0m\u001b[0m\n\u001b[0;32m--> 315\u001b[0;31m       \u001b[0;32mreturn\u001b[0m \u001b[0msuper\u001b[0m\u001b[0;34m(\u001b[0m\u001b[0mBase\u001b[0m\u001b[0;34m,\u001b[0m \u001b[0mself\u001b[0m\u001b[0;34m)\u001b[0m\u001b[0;34m.\u001b[0m\u001b[0mvisit\u001b[0m\u001b[0;34m(\u001b[0m\u001b[0mnode\u001b[0m\u001b[0;34m)\u001b[0m\u001b[0;34m\u001b[0m\u001b[0;34m\u001b[0m\u001b[0m\n\u001b[0m\u001b[1;32m    316\u001b[0m     \u001b[0;32mfinally\u001b[0m\u001b[0;34m:\u001b[0m\u001b[0;34m\u001b[0m\u001b[0;34m\u001b[0m\u001b[0m\n\u001b[1;32m    317\u001b[0m       \u001b[0mself\u001b[0m\u001b[0;34m.\u001b[0m\u001b[0m_ast_depth\u001b[0m \u001b[0;34m-=\u001b[0m \u001b[0;36m1\u001b[0m\u001b[0;34m\u001b[0m\u001b[0;34m\u001b[0m\u001b[0m\n",
            "\u001b[0;32m/usr/local/lib/python3.7/dist-packages/tensorflow/python/autograph/pyct/transformer.py\u001b[0m in \u001b[0;36mvisit\u001b[0;34m(self, node)\u001b[0m\n\u001b[1;32m    439\u001b[0m         \u001b[0mentry_expr_value\u001b[0m \u001b[0;34m=\u001b[0m \u001b[0mnode\u001b[0m\u001b[0;34m.\u001b[0m\u001b[0mvalue\u001b[0m\u001b[0;34m\u001b[0m\u001b[0;34m\u001b[0m\u001b[0m\n\u001b[1;32m    440\u001b[0m \u001b[0;34m\u001b[0m\u001b[0m\n\u001b[0;32m--> 441\u001b[0;31m       \u001b[0mresult\u001b[0m \u001b[0;34m=\u001b[0m \u001b[0msuper\u001b[0m\u001b[0;34m(\u001b[0m\u001b[0mBase\u001b[0m\u001b[0;34m,\u001b[0m \u001b[0mself\u001b[0m\u001b[0;34m)\u001b[0m\u001b[0;34m.\u001b[0m\u001b[0mvisit\u001b[0m\u001b[0;34m(\u001b[0m\u001b[0mnode\u001b[0m\u001b[0;34m)\u001b[0m\u001b[0;34m\u001b[0m\u001b[0;34m\u001b[0m\u001b[0m\n\u001b[0m\u001b[1;32m    442\u001b[0m \u001b[0;34m\u001b[0m\u001b[0m\n\u001b[1;32m    443\u001b[0m       \u001b[0;31m# Adjust for consistency: replacing the value of an Expr with\u001b[0m\u001b[0;34m\u001b[0m\u001b[0;34m\u001b[0m\u001b[0;34m\u001b[0m\u001b[0m\n",
            "\u001b[0;32m/usr/lib/python3.7/ast.py\u001b[0m in \u001b[0;36mvisit\u001b[0;34m(self, node)\u001b[0m\n\u001b[1;32m    269\u001b[0m         \u001b[0mmethod\u001b[0m \u001b[0;34m=\u001b[0m \u001b[0;34m'visit_'\u001b[0m \u001b[0;34m+\u001b[0m \u001b[0mnode\u001b[0m\u001b[0;34m.\u001b[0m\u001b[0m__class__\u001b[0m\u001b[0;34m.\u001b[0m\u001b[0m__name__\u001b[0m\u001b[0;34m\u001b[0m\u001b[0;34m\u001b[0m\u001b[0m\n\u001b[1;32m    270\u001b[0m         \u001b[0mvisitor\u001b[0m \u001b[0;34m=\u001b[0m \u001b[0mgetattr\u001b[0m\u001b[0;34m(\u001b[0m\u001b[0mself\u001b[0m\u001b[0;34m,\u001b[0m \u001b[0mmethod\u001b[0m\u001b[0;34m,\u001b[0m \u001b[0mself\u001b[0m\u001b[0;34m.\u001b[0m\u001b[0mgeneric_visit\u001b[0m\u001b[0;34m)\u001b[0m\u001b[0;34m\u001b[0m\u001b[0;34m\u001b[0m\u001b[0m\n\u001b[0;32m--> 271\u001b[0;31m         \u001b[0;32mreturn\u001b[0m \u001b[0mvisitor\u001b[0m\u001b[0;34m(\u001b[0m\u001b[0mnode\u001b[0m\u001b[0;34m)\u001b[0m\u001b[0;34m\u001b[0m\u001b[0;34m\u001b[0m\u001b[0m\n\u001b[0m\u001b[1;32m    272\u001b[0m \u001b[0;34m\u001b[0m\u001b[0m\n\u001b[1;32m    273\u001b[0m     \u001b[0;32mdef\u001b[0m \u001b[0mgeneric_visit\u001b[0m\u001b[0;34m(\u001b[0m\u001b[0mself\u001b[0m\u001b[0;34m,\u001b[0m \u001b[0mnode\u001b[0m\u001b[0;34m)\u001b[0m\u001b[0;34m:\u001b[0m\u001b[0;34m\u001b[0m\u001b[0;34m\u001b[0m\u001b[0m\n",
            "\u001b[0;32m/usr/local/lib/python3.7/dist-packages/tensorflow/python/autograph/converters/directives.py\u001b[0m in \u001b[0;36mvisit_Attribute\u001b[0;34m(self, node)\u001b[0m\n\u001b[1;32m    121\u001b[0m \u001b[0;34m\u001b[0m\u001b[0m\n\u001b[1;32m    122\u001b[0m   \u001b[0;32mdef\u001b[0m \u001b[0mvisit_Attribute\u001b[0m\u001b[0;34m(\u001b[0m\u001b[0mself\u001b[0m\u001b[0;34m,\u001b[0m \u001b[0mnode\u001b[0m\u001b[0;34m)\u001b[0m\u001b[0;34m:\u001b[0m\u001b[0;34m\u001b[0m\u001b[0;34m\u001b[0m\u001b[0m\n\u001b[0;32m--> 123\u001b[0;31m     \u001b[0mnode\u001b[0m \u001b[0;34m=\u001b[0m \u001b[0mself\u001b[0m\u001b[0;34m.\u001b[0m\u001b[0mgeneric_visit\u001b[0m\u001b[0;34m(\u001b[0m\u001b[0mnode\u001b[0m\u001b[0;34m)\u001b[0m\u001b[0;34m\u001b[0m\u001b[0;34m\u001b[0m\u001b[0m\n\u001b[0m\u001b[1;32m    124\u001b[0m     \u001b[0mparent_val\u001b[0m \u001b[0;34m=\u001b[0m \u001b[0manno\u001b[0m\u001b[0;34m.\u001b[0m\u001b[0mgetanno\u001b[0m\u001b[0;34m(\u001b[0m\u001b[0mnode\u001b[0m\u001b[0;34m.\u001b[0m\u001b[0mvalue\u001b[0m\u001b[0;34m,\u001b[0m \u001b[0mSTATIC_VALUE\u001b[0m\u001b[0;34m,\u001b[0m \u001b[0mdefault\u001b[0m\u001b[0;34m=\u001b[0m\u001b[0;32mNone\u001b[0m\u001b[0;34m)\u001b[0m\u001b[0;34m\u001b[0m\u001b[0;34m\u001b[0m\u001b[0m\n\u001b[1;32m    125\u001b[0m     \u001b[0;32mif\u001b[0m \u001b[0mparent_val\u001b[0m \u001b[0;32mis\u001b[0m \u001b[0;32mnot\u001b[0m \u001b[0;32mNone\u001b[0m \u001b[0;32mand\u001b[0m \u001b[0minspect\u001b[0m\u001b[0;34m.\u001b[0m\u001b[0mismodule\u001b[0m\u001b[0;34m(\u001b[0m\u001b[0mparent_val\u001b[0m\u001b[0;34m)\u001b[0m\u001b[0;34m:\u001b[0m\u001b[0;34m\u001b[0m\u001b[0;34m\u001b[0m\u001b[0m\n",
            "\u001b[0;32m/usr/lib/python3.7/ast.py\u001b[0m in \u001b[0;36mgeneric_visit\u001b[0;34m(self, node)\u001b[0m\n\u001b[1;32m    333\u001b[0m                 \u001b[0mold_value\u001b[0m\u001b[0;34m[\u001b[0m\u001b[0;34m:\u001b[0m\u001b[0;34m]\u001b[0m \u001b[0;34m=\u001b[0m \u001b[0mnew_values\u001b[0m\u001b[0;34m\u001b[0m\u001b[0;34m\u001b[0m\u001b[0m\n\u001b[1;32m    334\u001b[0m             \u001b[0;32melif\u001b[0m \u001b[0misinstance\u001b[0m\u001b[0;34m(\u001b[0m\u001b[0mold_value\u001b[0m\u001b[0;34m,\u001b[0m \u001b[0mAST\u001b[0m\u001b[0;34m)\u001b[0m\u001b[0;34m:\u001b[0m\u001b[0;34m\u001b[0m\u001b[0;34m\u001b[0m\u001b[0m\n\u001b[0;32m--> 335\u001b[0;31m                 \u001b[0mnew_node\u001b[0m \u001b[0;34m=\u001b[0m \u001b[0mself\u001b[0m\u001b[0;34m.\u001b[0m\u001b[0mvisit\u001b[0m\u001b[0;34m(\u001b[0m\u001b[0mold_value\u001b[0m\u001b[0;34m)\u001b[0m\u001b[0;34m\u001b[0m\u001b[0;34m\u001b[0m\u001b[0m\n\u001b[0m\u001b[1;32m    336\u001b[0m                 \u001b[0;32mif\u001b[0m \u001b[0mnew_node\u001b[0m \u001b[0;32mis\u001b[0m \u001b[0;32mNone\u001b[0m\u001b[0;34m:\u001b[0m\u001b[0;34m\u001b[0m\u001b[0;34m\u001b[0m\u001b[0m\n\u001b[1;32m    337\u001b[0m                     \u001b[0mdelattr\u001b[0m\u001b[0;34m(\u001b[0m\u001b[0mnode\u001b[0m\u001b[0;34m,\u001b[0m \u001b[0mfield\u001b[0m\u001b[0;34m)\u001b[0m\u001b[0;34m\u001b[0m\u001b[0;34m\u001b[0m\u001b[0m\n",
            "\u001b[0;32m/usr/local/lib/python3.7/dist-packages/tensorflow/python/autograph/core/converter.py\u001b[0m in \u001b[0;36mvisit\u001b[0;34m(self, node)\u001b[0m\n\u001b[1;32m    313\u001b[0m     \u001b[0mself\u001b[0m\u001b[0;34m.\u001b[0m\u001b[0m_ast_depth\u001b[0m \u001b[0;34m+=\u001b[0m \u001b[0;36m1\u001b[0m\u001b[0;34m\u001b[0m\u001b[0;34m\u001b[0m\u001b[0m\n\u001b[1;32m    314\u001b[0m     \u001b[0;32mtry\u001b[0m\u001b[0;34m:\u001b[0m\u001b[0;34m\u001b[0m\u001b[0;34m\u001b[0m\u001b[0m\n\u001b[0;32m--> 315\u001b[0;31m       \u001b[0;32mreturn\u001b[0m \u001b[0msuper\u001b[0m\u001b[0;34m(\u001b[0m\u001b[0mBase\u001b[0m\u001b[0;34m,\u001b[0m \u001b[0mself\u001b[0m\u001b[0;34m)\u001b[0m\u001b[0;34m.\u001b[0m\u001b[0mvisit\u001b[0m\u001b[0;34m(\u001b[0m\u001b[0mnode\u001b[0m\u001b[0;34m)\u001b[0m\u001b[0;34m\u001b[0m\u001b[0;34m\u001b[0m\u001b[0m\n\u001b[0m\u001b[1;32m    316\u001b[0m     \u001b[0;32mfinally\u001b[0m\u001b[0;34m:\u001b[0m\u001b[0;34m\u001b[0m\u001b[0;34m\u001b[0m\u001b[0m\n\u001b[1;32m    317\u001b[0m       \u001b[0mself\u001b[0m\u001b[0;34m.\u001b[0m\u001b[0m_ast_depth\u001b[0m \u001b[0;34m-=\u001b[0m \u001b[0;36m1\u001b[0m\u001b[0;34m\u001b[0m\u001b[0;34m\u001b[0m\u001b[0m\n",
            "\u001b[0;32m/usr/local/lib/python3.7/dist-packages/tensorflow/python/autograph/pyct/transformer.py\u001b[0m in \u001b[0;36mvisit\u001b[0;34m(self, node)\u001b[0m\n\u001b[1;32m    439\u001b[0m         \u001b[0mentry_expr_value\u001b[0m \u001b[0;34m=\u001b[0m \u001b[0mnode\u001b[0m\u001b[0;34m.\u001b[0m\u001b[0mvalue\u001b[0m\u001b[0;34m\u001b[0m\u001b[0;34m\u001b[0m\u001b[0m\n\u001b[1;32m    440\u001b[0m \u001b[0;34m\u001b[0m\u001b[0m\n\u001b[0;32m--> 441\u001b[0;31m       \u001b[0mresult\u001b[0m \u001b[0;34m=\u001b[0m \u001b[0msuper\u001b[0m\u001b[0;34m(\u001b[0m\u001b[0mBase\u001b[0m\u001b[0;34m,\u001b[0m \u001b[0mself\u001b[0m\u001b[0;34m)\u001b[0m\u001b[0;34m.\u001b[0m\u001b[0mvisit\u001b[0m\u001b[0;34m(\u001b[0m\u001b[0mnode\u001b[0m\u001b[0;34m)\u001b[0m\u001b[0;34m\u001b[0m\u001b[0;34m\u001b[0m\u001b[0m\n\u001b[0m\u001b[1;32m    442\u001b[0m \u001b[0;34m\u001b[0m\u001b[0m\n\u001b[1;32m    443\u001b[0m       \u001b[0;31m# Adjust for consistency: replacing the value of an Expr with\u001b[0m\u001b[0;34m\u001b[0m\u001b[0;34m\u001b[0m\u001b[0;34m\u001b[0m\u001b[0m\n",
            "\u001b[0;32m/usr/lib/python3.7/ast.py\u001b[0m in \u001b[0;36mvisit\u001b[0;34m(self, node)\u001b[0m\n\u001b[1;32m    269\u001b[0m         \u001b[0mmethod\u001b[0m \u001b[0;34m=\u001b[0m \u001b[0;34m'visit_'\u001b[0m \u001b[0;34m+\u001b[0m \u001b[0mnode\u001b[0m\u001b[0;34m.\u001b[0m\u001b[0m__class__\u001b[0m\u001b[0;34m.\u001b[0m\u001b[0m__name__\u001b[0m\u001b[0;34m\u001b[0m\u001b[0;34m\u001b[0m\u001b[0m\n\u001b[1;32m    270\u001b[0m         \u001b[0mvisitor\u001b[0m \u001b[0;34m=\u001b[0m \u001b[0mgetattr\u001b[0m\u001b[0;34m(\u001b[0m\u001b[0mself\u001b[0m\u001b[0;34m,\u001b[0m \u001b[0mmethod\u001b[0m\u001b[0;34m,\u001b[0m \u001b[0mself\u001b[0m\u001b[0;34m.\u001b[0m\u001b[0mgeneric_visit\u001b[0m\u001b[0;34m)\u001b[0m\u001b[0;34m\u001b[0m\u001b[0;34m\u001b[0m\u001b[0m\n\u001b[0;32m--> 271\u001b[0;31m         \u001b[0;32mreturn\u001b[0m \u001b[0mvisitor\u001b[0m\u001b[0;34m(\u001b[0m\u001b[0mnode\u001b[0m\u001b[0;34m)\u001b[0m\u001b[0;34m\u001b[0m\u001b[0;34m\u001b[0m\u001b[0m\n\u001b[0m\u001b[1;32m    272\u001b[0m \u001b[0;34m\u001b[0m\u001b[0m\n\u001b[1;32m    273\u001b[0m     \u001b[0;32mdef\u001b[0m \u001b[0mgeneric_visit\u001b[0m\u001b[0;34m(\u001b[0m\u001b[0mself\u001b[0m\u001b[0;34m,\u001b[0m \u001b[0mnode\u001b[0m\u001b[0;34m)\u001b[0m\u001b[0;34m:\u001b[0m\u001b[0;34m\u001b[0m\u001b[0;34m\u001b[0m\u001b[0m\n",
            "\u001b[0;32m/usr/local/lib/python3.7/dist-packages/tensorflow/python/autograph/converters/directives.py\u001b[0m in \u001b[0;36mvisit_Name\u001b[0;34m(self, node)\u001b[0m\n\u001b[1;32m    112\u001b[0m \u001b[0;34m\u001b[0m\u001b[0m\n\u001b[1;32m    113\u001b[0m   \u001b[0;32mdef\u001b[0m \u001b[0mvisit_Name\u001b[0m\u001b[0;34m(\u001b[0m\u001b[0mself\u001b[0m\u001b[0;34m,\u001b[0m \u001b[0mnode\u001b[0m\u001b[0;34m)\u001b[0m\u001b[0;34m:\u001b[0m\u001b[0;34m\u001b[0m\u001b[0;34m\u001b[0m\u001b[0m\n\u001b[0;32m--> 114\u001b[0;31m     \u001b[0mnode\u001b[0m \u001b[0;34m=\u001b[0m \u001b[0mself\u001b[0m\u001b[0;34m.\u001b[0m\u001b[0mgeneric_visit\u001b[0m\u001b[0;34m(\u001b[0m\u001b[0mnode\u001b[0m\u001b[0;34m)\u001b[0m\u001b[0;34m\u001b[0m\u001b[0;34m\u001b[0m\u001b[0m\n\u001b[0m\u001b[1;32m    115\u001b[0m     \u001b[0;32mif\u001b[0m \u001b[0misinstance\u001b[0m\u001b[0;34m(\u001b[0m\u001b[0mnode\u001b[0m\u001b[0;34m.\u001b[0m\u001b[0mctx\u001b[0m\u001b[0;34m,\u001b[0m \u001b[0mgast\u001b[0m\u001b[0;34m.\u001b[0m\u001b[0mLoad\u001b[0m\u001b[0;34m)\u001b[0m\u001b[0;34m:\u001b[0m\u001b[0;34m\u001b[0m\u001b[0;34m\u001b[0m\u001b[0m\n\u001b[1;32m    116\u001b[0m       \u001b[0mdefs\u001b[0m \u001b[0;34m=\u001b[0m \u001b[0manno\u001b[0m\u001b[0;34m.\u001b[0m\u001b[0mgetanno\u001b[0m\u001b[0;34m(\u001b[0m\u001b[0mnode\u001b[0m\u001b[0;34m,\u001b[0m \u001b[0manno\u001b[0m\u001b[0;34m.\u001b[0m\u001b[0mStatic\u001b[0m\u001b[0;34m.\u001b[0m\u001b[0mDEFINITIONS\u001b[0m\u001b[0;34m,\u001b[0m \u001b[0;34m(\u001b[0m\u001b[0;34m)\u001b[0m\u001b[0;34m)\u001b[0m\u001b[0;34m\u001b[0m\u001b[0;34m\u001b[0m\u001b[0m\n",
            "\u001b[0;32m/usr/lib/python3.7/ast.py\u001b[0m in \u001b[0;36mgeneric_visit\u001b[0;34m(self, node)\u001b[0m\n\u001b[1;32m    319\u001b[0m \u001b[0;34m\u001b[0m\u001b[0m\n\u001b[1;32m    320\u001b[0m     \u001b[0;32mdef\u001b[0m \u001b[0mgeneric_visit\u001b[0m\u001b[0;34m(\u001b[0m\u001b[0mself\u001b[0m\u001b[0;34m,\u001b[0m \u001b[0mnode\u001b[0m\u001b[0;34m)\u001b[0m\u001b[0;34m:\u001b[0m\u001b[0;34m\u001b[0m\u001b[0;34m\u001b[0m\u001b[0m\n\u001b[0;32m--> 321\u001b[0;31m         \u001b[0;32mfor\u001b[0m \u001b[0mfield\u001b[0m\u001b[0;34m,\u001b[0m \u001b[0mold_value\u001b[0m \u001b[0;32min\u001b[0m \u001b[0miter_fields\u001b[0m\u001b[0;34m(\u001b[0m\u001b[0mnode\u001b[0m\u001b[0;34m)\u001b[0m\u001b[0;34m:\u001b[0m\u001b[0;34m\u001b[0m\u001b[0;34m\u001b[0m\u001b[0m\n\u001b[0m\u001b[1;32m    322\u001b[0m             \u001b[0;32mif\u001b[0m \u001b[0misinstance\u001b[0m\u001b[0;34m(\u001b[0m\u001b[0mold_value\u001b[0m\u001b[0;34m,\u001b[0m \u001b[0mlist\u001b[0m\u001b[0;34m)\u001b[0m\u001b[0;34m:\u001b[0m\u001b[0;34m\u001b[0m\u001b[0;34m\u001b[0m\u001b[0m\n\u001b[1;32m    323\u001b[0m                 \u001b[0mnew_values\u001b[0m \u001b[0;34m=\u001b[0m \u001b[0;34m[\u001b[0m\u001b[0;34m]\u001b[0m\u001b[0;34m\u001b[0m\u001b[0;34m\u001b[0m\u001b[0m\n",
            "\u001b[0;32m/usr/lib/python3.7/ast.py\u001b[0m in \u001b[0;36miter_fields\u001b[0;34m(node)\u001b[0m\n\u001b[1;32m    186\u001b[0m     \u001b[0;32mfor\u001b[0m \u001b[0mfield\u001b[0m \u001b[0;32min\u001b[0m \u001b[0mnode\u001b[0m\u001b[0;34m.\u001b[0m\u001b[0m_fields\u001b[0m\u001b[0;34m:\u001b[0m\u001b[0;34m\u001b[0m\u001b[0;34m\u001b[0m\u001b[0m\n\u001b[1;32m    187\u001b[0m         \u001b[0;32mtry\u001b[0m\u001b[0;34m:\u001b[0m\u001b[0;34m\u001b[0m\u001b[0;34m\u001b[0m\u001b[0m\n\u001b[0;32m--> 188\u001b[0;31m             \u001b[0;32myield\u001b[0m \u001b[0mfield\u001b[0m\u001b[0;34m,\u001b[0m \u001b[0mgetattr\u001b[0m\u001b[0;34m(\u001b[0m\u001b[0mnode\u001b[0m\u001b[0;34m,\u001b[0m \u001b[0mfield\u001b[0m\u001b[0;34m)\u001b[0m\u001b[0;34m\u001b[0m\u001b[0;34m\u001b[0m\u001b[0m\n\u001b[0m\u001b[1;32m    189\u001b[0m         \u001b[0;32mexcept\u001b[0m \u001b[0mAttributeError\u001b[0m\u001b[0;34m:\u001b[0m\u001b[0;34m\u001b[0m\u001b[0;34m\u001b[0m\u001b[0m\n\u001b[1;32m    190\u001b[0m             \u001b[0;32mpass\u001b[0m\u001b[0;34m\u001b[0m\u001b[0;34m\u001b[0m\u001b[0m\n",
            "\u001b[0;31mKeyboardInterrupt\u001b[0m: "
          ]
        }
      ],
      "source": [
        "#QB RANDOM\n",
        "\n",
        "callback = tf.keras.callbacks.EarlyStopping(monitor='val_acc', patience=3,min_delta=0.02,verbose=1)\n",
        "QB_R = AutoQKeras(umodel, metrics=[\"acc\"], custom_objects=custom_objects, **run_config_randomB,overwrite=False)  #by setting overwrite=False Keras Tuner resumes search from last iteration\n",
        "\n",
        "t_start_bit = time.time()\n",
        "QB_R.fit(x_train, y_train, validation_data=(x_test, y_test), batch_size=1024, epochs=20, callbacks=[callback])   \n",
        "t_end_bit = time.time()\n",
        "tot_time_bit[0] = t_end_bit - t_start_bit #total autoqkeras search time\n",
        "\n",
        "\n",
        "#save weights of the best model for training \n",
        "QBmodel[0] = QB_R.get_best_model() #this builds an actual quantized model from the best hyperparameter(quantization) search\n",
        "QBmodel[0].save_weights(weight_pathB[0])"
      ]
    },
    {
      "cell_type": "code",
      "execution_count": null,
      "metadata": {
        "id": "YTvMamxQFZRe",
        "colab": {
          "base_uri": "https://localhost:8080/"
        },
        "outputId": "742f6e24-257f-4792-c335-1c9bb0aff984"
      },
      "outputs": [
        {
          "output_type": "stream",
          "name": "stdout",
          "text": [
            "Trial 20 Complete [00h 00m 13s]\n",
            "val_score: 1.076310634613037\n",
            "\n",
            "Best val_score So Far: 1.077683925628662\n",
            "Total elapsed time: 00h 07m 53s\n",
            "learning_rate: 0.019999999552965164\n",
            "Model: \"model\"\n",
            "_________________________________________________________________\n",
            " Layer (type)                Output Shape              Param #   \n",
            "=================================================================\n",
            " input (InputLayer)          [(None, 28, 28, 1)]       0         \n",
            "                                                                 \n",
            " conv2d_0 (QConv2D)          (None, 14, 14, 16)        144       \n",
            "                                                                 \n",
            " bn_0 (QBatchNormalization)  (None, 14, 14, 16)        64        \n",
            "                                                                 \n",
            " act_0 (QActivation)         (None, 14, 14, 16)        0         \n",
            "                                                                 \n",
            " drop_0 (Dropout)            (None, 14, 14, 16)        0         \n",
            "                                                                 \n",
            " conv2d_1 (QConv2D)          (None, 7, 7, 32)          4608      \n",
            "                                                                 \n",
            " bn_1 (QBatchNormalization)  (None, 7, 7, 32)          128       \n",
            "                                                                 \n",
            " act_1 (QActivation)         (None, 7, 7, 32)          0         \n",
            "                                                                 \n",
            " drop_1 (Dropout)            (None, 7, 7, 32)          0         \n",
            "                                                                 \n",
            " conv2d_2 (QConv2D)          (None, 4, 4, 48)          13824     \n",
            "                                                                 \n",
            " bn_2 (QBatchNormalization)  (None, 4, 4, 48)          192       \n",
            "                                                                 \n",
            " act_2 (QActivation)         (None, 4, 4, 48)          0         \n",
            "                                                                 \n",
            " drop_2 (Dropout)            (None, 4, 4, 48)          0         \n",
            "                                                                 \n",
            " conv2d_3 (QConv2D)          (None, 2, 2, 64)          27648     \n",
            "                                                                 \n",
            " bn_3 (QBatchNormalization)  (None, 2, 2, 64)          256       \n",
            "                                                                 \n",
            " act_3 (QActivation)         (None, 2, 2, 64)          0         \n",
            "                                                                 \n",
            " drop_3 (Dropout)            (None, 2, 2, 64)          0         \n",
            "                                                                 \n",
            " conv2d_4 (QConv2D)          (None, 1, 1, 128)         73728     \n",
            "                                                                 \n",
            " bn_4 (QBatchNormalization)  (None, 1, 1, 128)         512       \n",
            "                                                                 \n",
            " act_4 (QActivation)         (None, 1, 1, 128)         0         \n",
            "                                                                 \n",
            " drop_4 (Dropout)            (None, 1, 1, 128)         0         \n",
            "                                                                 \n",
            " flatten (Flatten)           (None, 128)               0         \n",
            "                                                                 \n",
            " dense (QDense)              (None, 10)                1290      \n",
            "                                                                 \n",
            " softmax (Activation)        (None, 10)                0         \n",
            "                                                                 \n",
            "=================================================================\n",
            "Total params: 122,394\n",
            "Trainable params: 121,818\n",
            "Non-trainable params: 576\n",
            "_________________________________________________________________\n",
            "stats: delta_p=0.05 delta_n=0.05 rate=2.0 trial_size=539920 reference_size=2049136\n",
            "       delta=9.62%\n",
            "       a_bits=51664/100048 (-48.36%) p_bits=488256/1949088 (-74.95%)\n",
            "       total=539920/2049136 (-73.65%)\n",
            "conv2d_0             f=16 quantized_bits(4,0,1,alpha=1.0) \n",
            "bn_0                 QBN, mean=[0. 0. 0. 0. 0. 0. 0. 0. 0. 0. 0. 0. 0. 0. 0. 0.]\n",
            "act_0                quantized_relu(4,0)\n",
            "conv2d_1             f=32 quantized_bits(4,0,1,alpha=1.0) \n",
            "bn_1                 QBN, mean=[0. 0. 0. 0. 0. 0. 0. 0. 0. 0. 0. 0. 0. 0. 0. 0. 0. 0. 0. 0. 0. 0. 0. 0.\n",
            " 0. 0. 0. 0. 0. 0. 0. 0.]\n",
            "act_1                quantized_relu(16,16)\n",
            "conv2d_2             f=48 quantized_bits(4,0,1,alpha=1.0) \n",
            "bn_2                 QBN, mean=[0. 0. 0. 0. 0. 0. 0. 0. 0. 0. 0. 0. 0. 0. 0. 0. 0. 0. 0. 0. 0. 0. 0. 0.\n",
            " 0. 0. 0. 0. 0. 0. 0. 0. 0. 0. 0. 0. 0. 0. 0. 0. 0. 0. 0. 0. 0. 0. 0. 0.]\n",
            "act_2                quantized_relu(4,0)\n",
            "conv2d_3             f=64 quantized_bits(4,0,1,alpha=1.0) \n",
            "bn_3                 QBN, mean=[0. 0. 0. 0. 0. 0. 0. 0. 0. 0. 0. 0. 0. 0. 0. 0. 0. 0. 0. 0. 0. 0. 0. 0.\n",
            " 0. 0. 0. 0. 0. 0. 0. 0. 0. 0. 0. 0. 0. 0. 0. 0. 0. 0. 0. 0. 0. 0. 0. 0.\n",
            " 0. 0. 0. 0. 0. 0. 0. 0. 0. 0. 0. 0. 0. 0. 0. 0.]\n",
            "act_3                quantized_relu(16,16)\n",
            "conv2d_4             f=128 quantized_bits(4,0,1,alpha=1.0) \n",
            "bn_4                 QBN, mean=[0. 0. 0. 0. 0. 0. 0. 0. 0. 0. 0. 0. 0. 0. 0. 0. 0. 0. 0. 0. 0. 0. 0. 0.\n",
            " 0. 0. 0. 0. 0. 0. 0. 0. 0. 0. 0. 0. 0. 0. 0. 0. 0. 0. 0. 0. 0. 0. 0. 0.\n",
            " 0. 0. 0. 0. 0. 0. 0. 0. 0. 0. 0. 0. 0. 0. 0. 0. 0. 0. 0. 0. 0. 0. 0. 0.\n",
            " 0. 0. 0. 0. 0. 0. 0. 0. 0. 0. 0. 0. 0. 0. 0. 0. 0. 0. 0. 0. 0. 0. 0. 0.\n",
            " 0. 0. 0. 0. 0. 0. 0. 0. 0. 0. 0. 0. 0. 0. 0. 0. 0. 0. 0. 0. 0. 0. 0. 0.\n",
            " 0. 0. 0. 0. 0. 0. 0. 0.]\n",
            "act_4                quantized_relu(4,0)\n",
            "dense                u=10 quantized_bits(4,0,1,alpha=1.0) quantized_bits(16,16,1,alpha=1.0) \n",
            "\n"
          ]
        }
      ],
      "source": [
        "#QB BAYESIAN\n",
        "\n",
        "callback = tf.keras.callbacks.EarlyStopping(monitor='val_acc', patience=3,min_delta=0.02,verbose=1)\n",
        "QB_B = AutoQKeras(umodel, metrics=[\"acc\"], custom_objects=custom_objects, **run_config_bayesianB, overwrite=False)\n",
        "\n",
        "\n",
        "t_start_bit = time.time()\n",
        "QB_B.fit(x_train, y_train, validation_data=(x_test, y_test), batch_size=1024, epochs=20,callbacks=[callback]) \n",
        "t_end_bit = time.time()\n",
        "tot_time_bit[1] = t_end_bit - t_start_bit\n",
        "\n",
        "#save data\n",
        "QBmodel[1] = QB_B.get_best_model()\n",
        "QBmodel[1].save_weights(weight_pathB[1]) "
      ]
    },
    {
      "cell_type": "code",
      "execution_count": null,
      "metadata": {
        "id": "VsAGPH77Fcau",
        "colab": {
          "base_uri": "https://localhost:8080/"
        },
        "outputId": "fd2643a1-779d-4e74-add9-8eb6235b7b23"
      },
      "outputs": [
        {
          "output_type": "stream",
          "name": "stdout",
          "text": [
            "Trial 90 Complete [00h 00m 11s]\n",
            "val_score: 1.0392191410064697\n",
            "\n",
            "Best val_score So Far: 1.0458661317825317\n",
            "Total elapsed time: 00h 17m 40s\n",
            "learning_rate: 0.019999999552965164\n",
            "Model: \"model\"\n",
            "_________________________________________________________________\n",
            " Layer (type)                Output Shape              Param #   \n",
            "=================================================================\n",
            " input (InputLayer)          [(None, 28, 28, 1)]       0         \n",
            "                                                                 \n",
            " conv2d_0 (QConv2D)          (None, 14, 14, 16)        144       \n",
            "                                                                 \n",
            " bn_0 (QBatchNormalization)  (None, 14, 14, 16)        64        \n",
            "                                                                 \n",
            " act_0 (QActivation)         (None, 14, 14, 16)        0         \n",
            "                                                                 \n",
            " drop_0 (Dropout)            (None, 14, 14, 16)        0         \n",
            "                                                                 \n",
            " conv2d_1 (QConv2D)          (None, 7, 7, 32)          4608      \n",
            "                                                                 \n",
            " bn_1 (QBatchNormalization)  (None, 7, 7, 32)          128       \n",
            "                                                                 \n",
            " act_1 (QActivation)         (None, 7, 7, 32)          0         \n",
            "                                                                 \n",
            " drop_1 (Dropout)            (None, 7, 7, 32)          0         \n",
            "                                                                 \n",
            " conv2d_2 (QConv2D)          (None, 4, 4, 48)          13824     \n",
            "                                                                 \n",
            " bn_2 (QBatchNormalization)  (None, 4, 4, 48)          192       \n",
            "                                                                 \n",
            " act_2 (QActivation)         (None, 4, 4, 48)          0         \n",
            "                                                                 \n",
            " drop_2 (Dropout)            (None, 4, 4, 48)          0         \n",
            "                                                                 \n",
            " conv2d_3 (QConv2D)          (None, 2, 2, 64)          27648     \n",
            "                                                                 \n",
            " bn_3 (QBatchNormalization)  (None, 2, 2, 64)          256       \n",
            "                                                                 \n",
            " act_3 (QActivation)         (None, 2, 2, 64)          0         \n",
            "                                                                 \n",
            " drop_3 (Dropout)            (None, 2, 2, 64)          0         \n",
            "                                                                 \n",
            " conv2d_4 (QConv2D)          (None, 1, 1, 128)         73728     \n",
            "                                                                 \n",
            " bn_4 (QBatchNormalization)  (None, 1, 1, 128)         512       \n",
            "                                                                 \n",
            " act_4 (QActivation)         (None, 1, 1, 128)         0         \n",
            "                                                                 \n",
            " drop_4 (Dropout)            (None, 1, 1, 128)         0         \n",
            "                                                                 \n",
            " flatten (Flatten)           (None, 128)               0         \n",
            "                                                                 \n",
            " dense (QDense)              (None, 10)                1290      \n",
            "                                                                 \n",
            " softmax (Activation)        (None, 10)                0         \n",
            "                                                                 \n",
            "=================================================================\n",
            "Total params: 122,394\n",
            "Trainable params: 121,818\n",
            "Non-trainable params: 576\n",
            "_________________________________________________________________\n",
            "stats: delta_p=0.05 delta_n=0.05 rate=2.0 trial_size=888408 reference_size=2049136\n",
            "       delta=6.03%\n",
            "       a_bits=98512/100048 (-1.54%) p_bits=789896/1949088 (-59.47%)\n",
            "       total=888408/2049136 (-56.64%)\n",
            "conv2d_0             f=16 quantized_bits(16,7,1,alpha=1.0) \n",
            "bn_0                 QBN, mean=[0. 0. 0. 0. 0. 0. 0. 0. 0. 0. 0. 0. 0. 0. 0. 0.]\n",
            "act_0                quantized_relu(16,12)\n",
            "conv2d_1             f=32 quantized_bits(4,3,1,alpha=1.0) \n",
            "bn_1                 QBN, mean=[0. 0. 0. 0. 0. 0. 0. 0. 0. 0. 0. 0. 0. 0. 0. 0. 0. 0. 0. 0. 0. 0. 0. 0.\n",
            " 0. 0. 0. 0. 0. 0. 0. 0.]\n",
            "act_1                quantized_relu(16,11)\n",
            "conv2d_2             f=48 quantized_bits(4,0,1,alpha=1.0) \n",
            "bn_2                 QBN, mean=[0. 0. 0. 0. 0. 0. 0. 0. 0. 0. 0. 0. 0. 0. 0. 0. 0. 0. 0. 0. 0. 0. 0. 0.\n",
            " 0. 0. 0. 0. 0. 0. 0. 0. 0. 0. 0. 0. 0. 0. 0. 0. 0. 0. 0. 0. 0. 0. 0. 0.]\n",
            "act_2                quantized_relu(16,16)\n",
            "conv2d_3             f=64 quantized_bits(4,0,1,alpha=1.0) \n",
            "bn_3                 QBN, mean=[0. 0. 0. 0. 0. 0. 0. 0. 0. 0. 0. 0. 0. 0. 0. 0. 0. 0. 0. 0. 0. 0. 0. 0.\n",
            " 0. 0. 0. 0. 0. 0. 0. 0. 0. 0. 0. 0. 0. 0. 0. 0. 0. 0. 0. 0. 0. 0. 0. 0.\n",
            " 0. 0. 0. 0. 0. 0. 0. 0. 0. 0. 0. 0. 0. 0. 0. 0.]\n",
            "act_3                quantized_relu(16,5)\n",
            "conv2d_4             f=128 quantized_bits(8,6,1,alpha=1.0) \n",
            "bn_4                 QBN, mean=[0. 0. 0. 0. 0. 0. 0. 0. 0. 0. 0. 0. 0. 0. 0. 0. 0. 0. 0. 0. 0. 0. 0. 0.\n",
            " 0. 0. 0. 0. 0. 0. 0. 0. 0. 0. 0. 0. 0. 0. 0. 0. 0. 0. 0. 0. 0. 0. 0. 0.\n",
            " 0. 0. 0. 0. 0. 0. 0. 0. 0. 0. 0. 0. 0. 0. 0. 0. 0. 0. 0. 0. 0. 0. 0. 0.\n",
            " 0. 0. 0. 0. 0. 0. 0. 0. 0. 0. 0. 0. 0. 0. 0. 0. 0. 0. 0. 0. 0. 0. 0. 0.\n",
            " 0. 0. 0. 0. 0. 0. 0. 0. 0. 0. 0. 0. 0. 0. 0. 0. 0. 0. 0. 0. 0. 0. 0. 0.\n",
            " 0. 0. 0. 0. 0. 0. 0. 0.]\n",
            "act_4                quantized_relu(4,0)\n",
            "dense                u=10 quantized_bits(8,0,1,alpha=1.0) quantized_bits(4,3,1,alpha=1.0) \n",
            "\n"
          ]
        }
      ],
      "source": [
        "#QB HYPER\n",
        "callback = tf.keras.callbacks.EarlyStopping(monitor='val_acc', patience=3,min_delta=0.02,verbose=1)\n",
        "QB_H = AutoQKeras(umodel, metrics=[\"acc\"], custom_objects=custom_objects, **run_config_hyperB, overwrite=False)\n",
        "\n",
        "t_start_bit = time.time()\n",
        "QB_H.fit(x_train, y_train, validation_data=(x_test, y_test), batch_size=1024, epochs=20,callbacks=[callback]) \n",
        "t_end_bit = time.time()\n",
        "tot_time_bit[2] = t_end_bit - t_start_bit\n",
        "\n",
        "#save data and model \n",
        "QBmodel[2] = QB_H.get_best_model()\n",
        "QBmodel[2].save_weights(weight_pathB[2]) "
      ]
    },
    {
      "cell_type": "code",
      "execution_count": null,
      "metadata": {
        "id": "DTeaIhq5GPNn",
        "colab": {
          "base_uri": "https://localhost:8080/"
        },
        "outputId": "64237567-17b9-40b1-9b91-6c9ff9fd28f1"
      },
      "outputs": [
        {
          "output_type": "stream",
          "name": "stdout",
          "text": [
            "Epoch 1/200\n",
            "15/15 [==============================] - ETA: 0s - loss: 0.9785 - acc: 0.6814"
          ]
        },
        {
          "output_type": "stream",
          "name": "stderr",
          "text": [
            "WARNING:tensorflow:Early stopping conditioned on metric `val_acc` which is not available. Available metrics are: loss,acc\n"
          ]
        },
        {
          "output_type": "stream",
          "name": "stdout",
          "text": [
            "\b\b\b\b\b\b\b\b\b\b\b\b\b\b\b\b\b\b\b\b\b\b\b\b\b\b\b\b\b\b\b\b\b\b\b\b\b\b\b\b\b\b\b\b\b\b\b\b\b\b\b\b\b\b\b\b\b\b\b\b\b\b\b\b\b\b\b\b\b\b\b\b\b\b\b\b\b\r15/15 [==============================] - 5s 117ms/step - loss: 0.9785 - acc: 0.6814\n",
            "Epoch 2/200\n",
            "15/15 [==============================] - ETA: 0s - loss: 0.3132 - acc: 0.9040"
          ]
        },
        {
          "output_type": "stream",
          "name": "stderr",
          "text": [
            "WARNING:tensorflow:Early stopping conditioned on metric `val_acc` which is not available. Available metrics are: loss,acc\n"
          ]
        },
        {
          "output_type": "stream",
          "name": "stdout",
          "text": [
            "\b\b\b\b\b\b\b\b\b\b\b\b\b\b\b\b\b\b\b\b\b\b\b\b\b\b\b\b\b\b\b\b\b\b\b\b\b\b\b\b\b\b\b\b\b\b\b\b\b\b\b\b\b\b\b\b\b\b\b\b\b\b\b\b\b\b\b\b\b\b\b\b\b\b\b\b\b\r15/15 [==============================] - 1s 77ms/step - loss: 0.3132 - acc: 0.9040\n",
            "Epoch 3/200\n",
            "15/15 [==============================] - ETA: 0s - loss: 0.2141 - acc: 0.9345"
          ]
        },
        {
          "output_type": "stream",
          "name": "stderr",
          "text": [
            "WARNING:tensorflow:Early stopping conditioned on metric `val_acc` which is not available. Available metrics are: loss,acc\n"
          ]
        },
        {
          "output_type": "stream",
          "name": "stdout",
          "text": [
            "\b\b\b\b\b\b\b\b\b\b\b\b\b\b\b\b\b\b\b\b\b\b\b\b\b\b\b\b\b\b\b\b\b\b\b\b\b\b\b\b\b\b\b\b\b\b\b\b\b\b\b\b\b\b\b\b\b\b\b\b\b\b\b\b\b\b\b\b\b\b\b\b\b\b\b\b\b\r15/15 [==============================] - 1s 78ms/step - loss: 0.2141 - acc: 0.9345\n",
            "Epoch 4/200\n",
            "15/15 [==============================] - ETA: 0s - loss: 0.1727 - acc: 0.9472"
          ]
        },
        {
          "output_type": "stream",
          "name": "stderr",
          "text": [
            "WARNING:tensorflow:Early stopping conditioned on metric `val_acc` which is not available. Available metrics are: loss,acc\n"
          ]
        },
        {
          "output_type": "stream",
          "name": "stdout",
          "text": [
            "\b\b\b\b\b\b\b\b\b\b\b\b\b\b\b\b\b\b\b\b\b\b\b\b\b\b\b\b\b\b\b\b\b\b\b\b\b\b\b\b\b\b\b\b\b\b\b\b\b\b\b\b\b\b\b\b\b\b\b\b\b\b\b\b\b\b\b\b\b\b\b\b\b\b\b\b\b\r15/15 [==============================] - 1s 78ms/step - loss: 0.1727 - acc: 0.9472\n",
            "Epoch 5/200\n",
            "15/15 [==============================] - 2s 133ms/step - loss: 0.1436 - acc: 0.9559 - val_loss: 0.1448 - val_acc: 0.9549\n",
            "Epoch 6/200\n",
            "15/15 [==============================] - ETA: 0s - loss: 0.1270 - acc: 0.9612"
          ]
        },
        {
          "output_type": "stream",
          "name": "stderr",
          "text": [
            "WARNING:tensorflow:Early stopping conditioned on metric `val_acc` which is not available. Available metrics are: loss,acc\n"
          ]
        },
        {
          "output_type": "stream",
          "name": "stdout",
          "text": [
            "\b\b\b\b\b\b\b\b\b\b\b\b\b\b\b\b\b\b\b\b\b\b\b\b\b\b\b\b\b\b\b\b\b\b\b\b\b\b\b\b\b\b\b\b\b\b\b\b\b\b\b\b\b\b\b\b\b\b\b\b\b\b\b\b\b\b\b\b\b\b\b\b\b\b\b\b\b\r15/15 [==============================] - 1s 78ms/step - loss: 0.1270 - acc: 0.9612\n",
            "Epoch 7/200\n",
            "15/15 [==============================] - ETA: 0s - loss: 0.1148 - acc: 0.9643"
          ]
        },
        {
          "output_type": "stream",
          "name": "stderr",
          "text": [
            "WARNING:tensorflow:Early stopping conditioned on metric `val_acc` which is not available. Available metrics are: loss,acc\n"
          ]
        },
        {
          "output_type": "stream",
          "name": "stdout",
          "text": [
            "\b\b\b\b\b\b\b\b\b\b\b\b\b\b\b\b\b\b\b\b\b\b\b\b\b\b\b\b\b\b\b\b\b\b\b\b\b\b\b\b\b\b\b\b\b\b\b\b\b\b\b\b\b\b\b\b\b\b\b\b\b\b\b\b\b\b\b\b\b\b\b\b\b\b\b\b\b\r15/15 [==============================] - 1s 79ms/step - loss: 0.1148 - acc: 0.9643\n",
            "Epoch 8/200\n",
            "15/15 [==============================] - ETA: 0s - loss: 0.1059 - acc: 0.9670"
          ]
        },
        {
          "output_type": "stream",
          "name": "stderr",
          "text": [
            "WARNING:tensorflow:Early stopping conditioned on metric `val_acc` which is not available. Available metrics are: loss,acc\n"
          ]
        },
        {
          "output_type": "stream",
          "name": "stdout",
          "text": [
            "\b\b\b\b\b\b\b\b\b\b\b\b\b\b\b\b\b\b\b\b\b\b\b\b\b\b\b\b\b\b\b\b\b\b\b\b\b\b\b\b\b\b\b\b\b\b\b\b\b\b\b\b\b\b\b\b\b\b\b\b\b\b\b\b\b\b\b\b\b\b\b\b\b\b\b\b\b\r15/15 [==============================] - 1s 78ms/step - loss: 0.1059 - acc: 0.9670\n",
            "Epoch 9/200\n",
            "15/15 [==============================] - ETA: 0s - loss: 0.0995 - acc: 0.9696"
          ]
        },
        {
          "output_type": "stream",
          "name": "stderr",
          "text": [
            "WARNING:tensorflow:Early stopping conditioned on metric `val_acc` which is not available. Available metrics are: loss,acc\n"
          ]
        },
        {
          "output_type": "stream",
          "name": "stdout",
          "text": [
            "\b\b\b\b\b\b\b\b\b\b\b\b\b\b\b\b\b\b\b\b\b\b\b\b\b\b\b\b\b\b\b\b\b\b\b\b\b\b\b\b\b\b\b\b\b\b\b\b\b\b\b\b\b\b\b\b\b\b\b\b\b\b\b\b\b\b\b\b\b\b\b\b\b\b\b\b\b\r15/15 [==============================] - 1s 79ms/step - loss: 0.0995 - acc: 0.9696\n",
            "Epoch 10/200\n",
            "15/15 [==============================] - 1s 83ms/step - loss: 0.0944 - acc: 0.9694 - val_loss: 0.0632 - val_acc: 0.9809\n",
            "Epoch 11/200\n",
            "15/15 [==============================] - ETA: 0s - loss: 0.0852 - acc: 0.9732"
          ]
        },
        {
          "output_type": "stream",
          "name": "stderr",
          "text": [
            "WARNING:tensorflow:Early stopping conditioned on metric `val_acc` which is not available. Available metrics are: loss,acc\n"
          ]
        },
        {
          "output_type": "stream",
          "name": "stdout",
          "text": [
            "\b\b\b\b\b\b\b\b\b\b\b\b\b\b\b\b\b\b\b\b\b\b\b\b\b\b\b\b\b\b\b\b\b\b\b\b\b\b\b\b\b\b\b\b\b\b\b\b\b\b\b\b\b\b\b\b\b\b\b\b\b\b\b\b\b\b\b\b\b\b\b\b\b\b\b\b\b\r15/15 [==============================] - 1s 78ms/step - loss: 0.0852 - acc: 0.9732\n",
            "Epoch 12/200\n",
            "15/15 [==============================] - ETA: 0s - loss: 0.0845 - acc: 0.9735"
          ]
        },
        {
          "output_type": "stream",
          "name": "stderr",
          "text": [
            "WARNING:tensorflow:Early stopping conditioned on metric `val_acc` which is not available. Available metrics are: loss,acc\n"
          ]
        },
        {
          "output_type": "stream",
          "name": "stdout",
          "text": [
            "\b\b\b\b\b\b\b\b\b\b\b\b\b\b\b\b\b\b\b\b\b\b\b\b\b\b\b\b\b\b\b\b\b\b\b\b\b\b\b\b\b\b\b\b\b\b\b\b\b\b\b\b\b\b\b\b\b\b\b\b\b\b\b\b\b\b\b\b\b\b\b\b\b\b\b\b\b\r15/15 [==============================] - 1s 79ms/step - loss: 0.0845 - acc: 0.9735\n",
            "Epoch 13/200\n",
            "15/15 [==============================] - ETA: 0s - loss: 0.0796 - acc: 0.9753"
          ]
        },
        {
          "output_type": "stream",
          "name": "stderr",
          "text": [
            "WARNING:tensorflow:Early stopping conditioned on metric `val_acc` which is not available. Available metrics are: loss,acc\n"
          ]
        },
        {
          "output_type": "stream",
          "name": "stdout",
          "text": [
            "\b\b\b\b\b\b\b\b\b\b\b\b\b\b\b\b\b\b\b\b\b\b\b\b\b\b\b\b\b\b\b\b\b\b\b\b\b\b\b\b\b\b\b\b\b\b\b\b\b\b\b\b\b\b\b\b\b\b\b\b\b\b\b\b\b\b\b\b\b\b\b\b\b\b\b\b\b\r15/15 [==============================] - 1s 79ms/step - loss: 0.0796 - acc: 0.9753\n",
            "Epoch 14/200\n",
            "15/15 [==============================] - ETA: 0s - loss: 0.0804 - acc: 0.9750"
          ]
        },
        {
          "output_type": "stream",
          "name": "stderr",
          "text": [
            "WARNING:tensorflow:Early stopping conditioned on metric `val_acc` which is not available. Available metrics are: loss,acc\n"
          ]
        },
        {
          "output_type": "stream",
          "name": "stdout",
          "text": [
            "\b\b\b\b\b\b\b\b\b\b\b\b\b\b\b\b\b\b\b\b\b\b\b\b\b\b\b\b\b\b\b\b\b\b\b\b\b\b\b\b\b\b\b\b\b\b\b\b\b\b\b\b\b\b\b\b\b\b\b\b\b\b\b\b\b\b\b\b\b\b\b\b\b\b\b\b\b\r15/15 [==============================] - 1s 80ms/step - loss: 0.0804 - acc: 0.9750\n",
            "Epoch 15/200\n",
            "15/15 [==============================] - 1s 84ms/step - loss: 0.0752 - acc: 0.9761 - val_loss: 0.0450 - val_acc: 0.9846\n",
            "Epoch 16/200\n",
            "15/15 [==============================] - ETA: 0s - loss: 0.0734 - acc: 0.9766"
          ]
        },
        {
          "output_type": "stream",
          "name": "stderr",
          "text": [
            "WARNING:tensorflow:Early stopping conditioned on metric `val_acc` which is not available. Available metrics are: loss,acc\n"
          ]
        },
        {
          "output_type": "stream",
          "name": "stdout",
          "text": [
            "\b\b\b\b\b\b\b\b\b\b\b\b\b\b\b\b\b\b\b\b\b\b\b\b\b\b\b\b\b\b\b\b\b\b\b\b\b\b\b\b\b\b\b\b\b\b\b\b\b\b\b\b\b\b\b\b\b\b\b\b\b\b\b\b\b\b\b\b\b\b\b\b\b\b\b\b\b\r15/15 [==============================] - 1s 79ms/step - loss: 0.0734 - acc: 0.9766\n",
            "Epoch 17/200\n",
            "15/15 [==============================] - ETA: 0s - loss: 0.0709 - acc: 0.9772"
          ]
        },
        {
          "output_type": "stream",
          "name": "stderr",
          "text": [
            "WARNING:tensorflow:Early stopping conditioned on metric `val_acc` which is not available. Available metrics are: loss,acc\n"
          ]
        },
        {
          "output_type": "stream",
          "name": "stdout",
          "text": [
            "\b\b\b\b\b\b\b\b\b\b\b\b\b\b\b\b\b\b\b\b\b\b\b\b\b\b\b\b\b\b\b\b\b\b\b\b\b\b\b\b\b\b\b\b\b\b\b\b\b\b\b\b\b\b\b\b\b\b\b\b\b\b\b\b\b\b\b\b\b\b\b\b\b\b\b\b\b\r15/15 [==============================] - 1s 79ms/step - loss: 0.0709 - acc: 0.9772\n",
            "Epoch 18/200\n",
            "15/15 [==============================] - ETA: 0s - loss: 0.0674 - acc: 0.9795"
          ]
        },
        {
          "output_type": "stream",
          "name": "stderr",
          "text": [
            "WARNING:tensorflow:Early stopping conditioned on metric `val_acc` which is not available. Available metrics are: loss,acc\n"
          ]
        },
        {
          "output_type": "stream",
          "name": "stdout",
          "text": [
            "\b\b\b\b\b\b\b\b\b\b\b\b\b\b\b\b\b\b\b\b\b\b\b\b\b\b\b\b\b\b\b\b\b\b\b\b\b\b\b\b\b\b\b\b\b\b\b\b\b\b\b\b\b\b\b\b\b\b\b\b\b\b\b\b\b\b\b\b\b\b\b\b\b\b\b\b\b\r15/15 [==============================] - 1s 79ms/step - loss: 0.0674 - acc: 0.9795\n",
            "Epoch 19/200\n",
            "15/15 [==============================] - ETA: 0s - loss: 0.0680 - acc: 0.9785"
          ]
        },
        {
          "output_type": "stream",
          "name": "stderr",
          "text": [
            "WARNING:tensorflow:Early stopping conditioned on metric `val_acc` which is not available. Available metrics are: loss,acc\n"
          ]
        },
        {
          "output_type": "stream",
          "name": "stdout",
          "text": [
            "\b\b\b\b\b\b\b\b\b\b\b\b\b\b\b\b\b\b\b\b\b\b\b\b\b\b\b\b\b\b\b\b\b\b\b\b\b\b\b\b\b\b\b\b\b\b\b\b\b\b\b\b\b\b\b\b\b\b\b\b\b\b\b\b\b\b\b\b\b\b\b\b\b\b\b\b\b\r15/15 [==============================] - 1s 80ms/step - loss: 0.0680 - acc: 0.9785\n",
            "Epoch 20/200\n",
            "15/15 [==============================] - 1s 85ms/step - loss: 0.0627 - acc: 0.9800 - val_loss: 0.0452 - val_acc: 0.9859\n",
            "Epoch 21/200\n",
            "15/15 [==============================] - ETA: 0s - loss: 0.0615 - acc: 0.9804"
          ]
        },
        {
          "output_type": "stream",
          "name": "stderr",
          "text": [
            "WARNING:tensorflow:Early stopping conditioned on metric `val_acc` which is not available. Available metrics are: loss,acc\n"
          ]
        },
        {
          "output_type": "stream",
          "name": "stdout",
          "text": [
            "\b\b\b\b\b\b\b\b\b\b\b\b\b\b\b\b\b\b\b\b\b\b\b\b\b\b\b\b\b\b\b\b\b\b\b\b\b\b\b\b\b\b\b\b\b\b\b\b\b\b\b\b\b\b\b\b\b\b\b\b\b\b\b\b\b\b\b\b\b\b\b\b\b\b\b\b\b\r15/15 [==============================] - 1s 79ms/step - loss: 0.0615 - acc: 0.9804\n",
            "Epoch 22/200\n",
            "15/15 [==============================] - ETA: 0s - loss: 0.0598 - acc: 0.9809"
          ]
        },
        {
          "output_type": "stream",
          "name": "stderr",
          "text": [
            "WARNING:tensorflow:Early stopping conditioned on metric `val_acc` which is not available. Available metrics are: loss,acc\n"
          ]
        },
        {
          "output_type": "stream",
          "name": "stdout",
          "text": [
            "\b\b\b\b\b\b\b\b\b\b\b\b\b\b\b\b\b\b\b\b\b\b\b\b\b\b\b\b\b\b\b\b\b\b\b\b\b\b\b\b\b\b\b\b\b\b\b\b\b\b\b\b\b\b\b\b\b\b\b\b\b\b\b\b\b\b\b\b\b\b\b\b\b\b\b\b\b\r15/15 [==============================] - 1s 78ms/step - loss: 0.0598 - acc: 0.9809\n",
            "Epoch 23/200\n",
            "15/15 [==============================] - ETA: 0s - loss: 0.0572 - acc: 0.9814"
          ]
        },
        {
          "output_type": "stream",
          "name": "stderr",
          "text": [
            "WARNING:tensorflow:Early stopping conditioned on metric `val_acc` which is not available. Available metrics are: loss,acc\n"
          ]
        },
        {
          "output_type": "stream",
          "name": "stdout",
          "text": [
            "\b\b\b\b\b\b\b\b\b\b\b\b\b\b\b\b\b\b\b\b\b\b\b\b\b\b\b\b\b\b\b\b\b\b\b\b\b\b\b\b\b\b\b\b\b\b\b\b\b\b\b\b\b\b\b\b\b\b\b\b\b\b\b\b\b\b\b\b\b\b\b\b\b\b\b\b\b\r15/15 [==============================] - 1s 79ms/step - loss: 0.0572 - acc: 0.9814\n",
            "Epoch 24/200\n",
            "15/15 [==============================] - ETA: 0s - loss: 0.0590 - acc: 0.9811"
          ]
        },
        {
          "output_type": "stream",
          "name": "stderr",
          "text": [
            "WARNING:tensorflow:Early stopping conditioned on metric `val_acc` which is not available. Available metrics are: loss,acc\n"
          ]
        },
        {
          "output_type": "stream",
          "name": "stdout",
          "text": [
            "\b\b\b\b\b\b\b\b\b\b\b\b\b\b\b\b\b\b\b\b\b\b\b\b\b\b\b\b\b\b\b\b\b\b\b\b\b\b\b\b\b\b\b\b\b\b\b\b\b\b\b\b\b\b\b\b\b\b\b\b\b\b\b\b\b\b\b\b\b\b\b\b\b\b\b\b\b\r15/15 [==============================] - 1s 79ms/step - loss: 0.0590 - acc: 0.9811\n",
            "Epoch 25/200\n",
            "15/15 [==============================] - 1s 85ms/step - loss: 0.0563 - acc: 0.9819 - val_loss: 0.0431 - val_acc: 0.9867\n",
            "Epoch 25: early stopping\n"
          ]
        },
        {
          "output_type": "stream",
          "name": "stderr",
          "text": [
            "WARNING:absl:Found untraced functions such as _jit_compiled_convolution_op, _jit_compiled_convolution_op, _jit_compiled_convolution_op, _jit_compiled_convolution_op, _jit_compiled_convolution_op while saving (showing 5 of 5). These functions will not be directly callable after loading.\n"
          ]
        },
        {
          "output_type": "stream",
          "name": "stdout",
          "text": [
            "Total energy: 160.74 nJ\n"
          ]
        },
        {
          "output_type": "stream",
          "name": "stderr",
          "text": [
            "WARNING:tensorflow:From /usr/local/lib/python3.7/dist-packages/qkeras/estimate.py:345: Tensor.experimental_ref (from tensorflow.python.framework.ops) is deprecated and will be removed in a future version.\n",
            "Instructions for updating:\n",
            "Use ref() instead.\n"
          ]
        },
        {
          "output_type": "stream",
          "name": "stdout",
          "text": [
            "Epoch 1/200\n",
            "15/15 [==============================] - ETA: 0s - loss: 1.0842 - acc: 0.6541"
          ]
        },
        {
          "output_type": "stream",
          "name": "stderr",
          "text": [
            "WARNING:tensorflow:Early stopping conditioned on metric `val_acc` which is not available. Available metrics are: loss,acc\n"
          ]
        },
        {
          "output_type": "stream",
          "name": "stdout",
          "text": [
            "\b\b\b\b\b\b\b\b\b\b\b\b\b\b\b\b\b\b\b\b\b\b\b\b\b\b\b\b\b\b\b\b\b\b\b\b\b\b\b\b\b\b\b\b\b\b\b\b\b\b\b\b\b\b\b\b\b\b\b\b\b\b\b\b\b\b\b\b\b\b\b\b\b\b\b\b\b\r15/15 [==============================] - 3s 83ms/step - loss: 1.0842 - acc: 0.6541\n",
            "Epoch 2/200\n",
            "15/15 [==============================] - ETA: 0s - loss: 0.3617 - acc: 0.8880"
          ]
        },
        {
          "output_type": "stream",
          "name": "stderr",
          "text": [
            "WARNING:tensorflow:Early stopping conditioned on metric `val_acc` which is not available. Available metrics are: loss,acc\n"
          ]
        },
        {
          "output_type": "stream",
          "name": "stdout",
          "text": [
            "\b\b\b\b\b\b\b\b\b\b\b\b\b\b\b\b\b\b\b\b\b\b\b\b\b\b\b\b\b\b\b\b\b\b\b\b\b\b\b\b\b\b\b\b\b\b\b\b\b\b\b\b\b\b\b\b\b\b\b\b\b\b\b\b\b\b\b\b\b\b\b\b\b\b\b\b\b\r15/15 [==============================] - 1s 80ms/step - loss: 0.3617 - acc: 0.8880\n",
            "Epoch 3/200\n",
            "15/15 [==============================] - ETA: 0s - loss: 0.2395 - acc: 0.9266"
          ]
        },
        {
          "output_type": "stream",
          "name": "stderr",
          "text": [
            "WARNING:tensorflow:Early stopping conditioned on metric `val_acc` which is not available. Available metrics are: loss,acc\n"
          ]
        },
        {
          "output_type": "stream",
          "name": "stdout",
          "text": [
            "\b\b\b\b\b\b\b\b\b\b\b\b\b\b\b\b\b\b\b\b\b\b\b\b\b\b\b\b\b\b\b\b\b\b\b\b\b\b\b\b\b\b\b\b\b\b\b\b\b\b\b\b\b\b\b\b\b\b\b\b\b\b\b\b\b\b\b\b\b\b\b\b\b\b\b\b\b\r15/15 [==============================] - 1s 81ms/step - loss: 0.2395 - acc: 0.9266\n",
            "Epoch 4/200\n",
            "15/15 [==============================] - ETA: 0s - loss: 0.1839 - acc: 0.9427"
          ]
        },
        {
          "output_type": "stream",
          "name": "stderr",
          "text": [
            "WARNING:tensorflow:Early stopping conditioned on metric `val_acc` which is not available. Available metrics are: loss,acc\n"
          ]
        },
        {
          "output_type": "stream",
          "name": "stdout",
          "text": [
            "\b\b\b\b\b\b\b\b\b\b\b\b\b\b\b\b\b\b\b\b\b\b\b\b\b\b\b\b\b\b\b\b\b\b\b\b\b\b\b\b\b\b\b\b\b\b\b\b\b\b\b\b\b\b\b\b\b\b\b\b\b\b\b\b\b\b\b\b\b\b\b\b\b\b\b\b\b\r15/15 [==============================] - 1s 81ms/step - loss: 0.1839 - acc: 0.9427\n",
            "Epoch 5/200\n",
            "15/15 [==============================] - 2s 129ms/step - loss: 0.1560 - acc: 0.9507 - val_loss: 0.1661 - val_acc: 0.9540\n",
            "Epoch 6/200\n",
            "15/15 [==============================] - ETA: 0s - loss: 0.1379 - acc: 0.9578"
          ]
        },
        {
          "output_type": "stream",
          "name": "stderr",
          "text": [
            "WARNING:tensorflow:Early stopping conditioned on metric `val_acc` which is not available. Available metrics are: loss,acc\n"
          ]
        },
        {
          "output_type": "stream",
          "name": "stdout",
          "text": [
            "\b\b\b\b\b\b\b\b\b\b\b\b\b\b\b\b\b\b\b\b\b\b\b\b\b\b\b\b\b\b\b\b\b\b\b\b\b\b\b\b\b\b\b\b\b\b\b\b\b\b\b\b\b\b\b\b\b\b\b\b\b\b\b\b\b\b\b\b\b\b\b\b\b\b\b\b\b\r15/15 [==============================] - 1s 80ms/step - loss: 0.1379 - acc: 0.9578\n",
            "Epoch 7/200\n",
            "15/15 [==============================] - ETA: 0s - loss: 0.1246 - acc: 0.9619"
          ]
        },
        {
          "output_type": "stream",
          "name": "stderr",
          "text": [
            "WARNING:tensorflow:Early stopping conditioned on metric `val_acc` which is not available. Available metrics are: loss,acc\n"
          ]
        },
        {
          "output_type": "stream",
          "name": "stdout",
          "text": [
            "\b\b\b\b\b\b\b\b\b\b\b\b\b\b\b\b\b\b\b\b\b\b\b\b\b\b\b\b\b\b\b\b\b\b\b\b\b\b\b\b\b\b\b\b\b\b\b\b\b\b\b\b\b\b\b\b\b\b\b\b\b\b\b\b\b\b\b\b\b\b\b\b\b\b\b\b\b\r15/15 [==============================] - 1s 80ms/step - loss: 0.1246 - acc: 0.9619\n",
            "Epoch 8/200\n",
            "15/15 [==============================] - ETA: 0s - loss: 0.1164 - acc: 0.9626"
          ]
        },
        {
          "output_type": "stream",
          "name": "stderr",
          "text": [
            "WARNING:tensorflow:Early stopping conditioned on metric `val_acc` which is not available. Available metrics are: loss,acc\n"
          ]
        },
        {
          "output_type": "stream",
          "name": "stdout",
          "text": [
            "\b\b\b\b\b\b\b\b\b\b\b\b\b\b\b\b\b\b\b\b\b\b\b\b\b\b\b\b\b\b\b\b\b\b\b\b\b\b\b\b\b\b\b\b\b\b\b\b\b\b\b\b\b\b\b\b\b\b\b\b\b\b\b\b\b\b\b\b\b\b\b\b\b\b\b\b\b\r15/15 [==============================] - 1s 80ms/step - loss: 0.1164 - acc: 0.9626\n",
            "Epoch 9/200\n",
            "15/15 [==============================] - ETA: 0s - loss: 0.1044 - acc: 0.9672"
          ]
        },
        {
          "output_type": "stream",
          "name": "stderr",
          "text": [
            "WARNING:tensorflow:Early stopping conditioned on metric `val_acc` which is not available. Available metrics are: loss,acc\n"
          ]
        },
        {
          "output_type": "stream",
          "name": "stdout",
          "text": [
            "\b\b\b\b\b\b\b\b\b\b\b\b\b\b\b\b\b\b\b\b\b\b\b\b\b\b\b\b\b\b\b\b\b\b\b\b\b\b\b\b\b\b\b\b\b\b\b\b\b\b\b\b\b\b\b\b\b\b\b\b\b\b\b\b\b\b\b\b\b\b\b\b\b\b\b\b\b\r15/15 [==============================] - 1s 80ms/step - loss: 0.1044 - acc: 0.9672\n",
            "Epoch 10/200\n",
            "15/15 [==============================] - 1s 87ms/step - loss: 0.0994 - acc: 0.9692 - val_loss: 0.0993 - val_acc: 0.9721\n",
            "Epoch 11/200\n",
            "15/15 [==============================] - ETA: 0s - loss: 0.0926 - acc: 0.9711"
          ]
        },
        {
          "output_type": "stream",
          "name": "stderr",
          "text": [
            "WARNING:tensorflow:Early stopping conditioned on metric `val_acc` which is not available. Available metrics are: loss,acc\n"
          ]
        },
        {
          "output_type": "stream",
          "name": "stdout",
          "text": [
            "\b\b\b\b\b\b\b\b\b\b\b\b\b\b\b\b\b\b\b\b\b\b\b\b\b\b\b\b\b\b\b\b\b\b\b\b\b\b\b\b\b\b\b\b\b\b\b\b\b\b\b\b\b\b\b\b\b\b\b\b\b\b\b\b\b\b\b\b\b\b\b\b\b\b\b\b\b\r15/15 [==============================] - 1s 80ms/step - loss: 0.0926 - acc: 0.9711\n",
            "Epoch 12/200\n",
            "15/15 [==============================] - ETA: 0s - loss: 0.0891 - acc: 0.9724"
          ]
        },
        {
          "output_type": "stream",
          "name": "stderr",
          "text": [
            "WARNING:tensorflow:Early stopping conditioned on metric `val_acc` which is not available. Available metrics are: loss,acc\n"
          ]
        },
        {
          "output_type": "stream",
          "name": "stdout",
          "text": [
            "\b\b\b\b\b\b\b\b\b\b\b\b\b\b\b\b\b\b\b\b\b\b\b\b\b\b\b\b\b\b\b\b\b\b\b\b\b\b\b\b\b\b\b\b\b\b\b\b\b\b\b\b\b\b\b\b\b\b\b\b\b\b\b\b\b\b\b\b\b\b\b\b\b\b\b\b\b\r15/15 [==============================] - 1s 80ms/step - loss: 0.0891 - acc: 0.9724\n",
            "Epoch 13/200\n",
            "15/15 [==============================] - ETA: 0s - loss: 0.0851 - acc: 0.9736"
          ]
        },
        {
          "output_type": "stream",
          "name": "stderr",
          "text": [
            "WARNING:tensorflow:Early stopping conditioned on metric `val_acc` which is not available. Available metrics are: loss,acc\n"
          ]
        },
        {
          "output_type": "stream",
          "name": "stdout",
          "text": [
            "\b\b\b\b\b\b\b\b\b\b\b\b\b\b\b\b\b\b\b\b\b\b\b\b\b\b\b\b\b\b\b\b\b\b\b\b\b\b\b\b\b\b\b\b\b\b\b\b\b\b\b\b\b\b\b\b\b\b\b\b\b\b\b\b\b\b\b\b\b\b\b\b\b\b\b\b\b\r15/15 [==============================] - 1s 80ms/step - loss: 0.0851 - acc: 0.9736\n",
            "Epoch 14/200\n",
            "15/15 [==============================] - ETA: 0s - loss: 0.0795 - acc: 0.9752"
          ]
        },
        {
          "output_type": "stream",
          "name": "stderr",
          "text": [
            "WARNING:tensorflow:Early stopping conditioned on metric `val_acc` which is not available. Available metrics are: loss,acc\n"
          ]
        },
        {
          "output_type": "stream",
          "name": "stdout",
          "text": [
            "\b\b\b\b\b\b\b\b\b\b\b\b\b\b\b\b\b\b\b\b\b\b\b\b\b\b\b\b\b\b\b\b\b\b\b\b\b\b\b\b\b\b\b\b\b\b\b\b\b\b\b\b\b\b\b\b\b\b\b\b\b\b\b\b\b\b\b\b\b\b\b\b\b\b\b\b\b\r15/15 [==============================] - 1s 81ms/step - loss: 0.0795 - acc: 0.9752\n",
            "Epoch 15/200\n",
            "15/15 [==============================] - 1s 86ms/step - loss: 0.0781 - acc: 0.9761 - val_loss: 0.0464 - val_acc: 0.9865\n",
            "Epoch 16/200\n",
            "15/15 [==============================] - ETA: 0s - loss: 0.0735 - acc: 0.9768"
          ]
        },
        {
          "output_type": "stream",
          "name": "stderr",
          "text": [
            "WARNING:tensorflow:Early stopping conditioned on metric `val_acc` which is not available. Available metrics are: loss,acc\n"
          ]
        },
        {
          "output_type": "stream",
          "name": "stdout",
          "text": [
            "\b\b\b\b\b\b\b\b\b\b\b\b\b\b\b\b\b\b\b\b\b\b\b\b\b\b\b\b\b\b\b\b\b\b\b\b\b\b\b\b\b\b\b\b\b\b\b\b\b\b\b\b\b\b\b\b\b\b\b\b\b\b\b\b\b\b\b\b\b\b\b\b\b\b\b\b\b\r15/15 [==============================] - 1s 81ms/step - loss: 0.0735 - acc: 0.9768\n",
            "Epoch 17/200\n",
            "15/15 [==============================] - ETA: 0s - loss: 0.0720 - acc: 0.9774"
          ]
        },
        {
          "output_type": "stream",
          "name": "stderr",
          "text": [
            "WARNING:tensorflow:Early stopping conditioned on metric `val_acc` which is not available. Available metrics are: loss,acc\n"
          ]
        },
        {
          "output_type": "stream",
          "name": "stdout",
          "text": [
            "\b\b\b\b\b\b\b\b\b\b\b\b\b\b\b\b\b\b\b\b\b\b\b\b\b\b\b\b\b\b\b\b\b\b\b\b\b\b\b\b\b\b\b\b\b\b\b\b\b\b\b\b\b\b\b\b\b\b\b\b\b\b\b\b\b\b\b\b\b\b\b\b\b\b\b\b\b\r15/15 [==============================] - 1s 81ms/step - loss: 0.0720 - acc: 0.9774\n",
            "Epoch 18/200\n",
            "15/15 [==============================] - ETA: 0s - loss: 0.0705 - acc: 0.9779"
          ]
        },
        {
          "output_type": "stream",
          "name": "stderr",
          "text": [
            "WARNING:tensorflow:Early stopping conditioned on metric `val_acc` which is not available. Available metrics are: loss,acc\n"
          ]
        },
        {
          "output_type": "stream",
          "name": "stdout",
          "text": [
            "\b\b\b\b\b\b\b\b\b\b\b\b\b\b\b\b\b\b\b\b\b\b\b\b\b\b\b\b\b\b\b\b\b\b\b\b\b\b\b\b\b\b\b\b\b\b\b\b\b\b\b\b\b\b\b\b\b\b\b\b\b\b\b\b\b\b\b\b\b\b\b\b\b\b\b\b\b\r15/15 [==============================] - 1s 80ms/step - loss: 0.0705 - acc: 0.9779\n",
            "Epoch 19/200\n",
            "15/15 [==============================] - ETA: 0s - loss: 0.0682 - acc: 0.9786"
          ]
        },
        {
          "output_type": "stream",
          "name": "stderr",
          "text": [
            "WARNING:tensorflow:Early stopping conditioned on metric `val_acc` which is not available. Available metrics are: loss,acc\n"
          ]
        },
        {
          "output_type": "stream",
          "name": "stdout",
          "text": [
            "\b\b\b\b\b\b\b\b\b\b\b\b\b\b\b\b\b\b\b\b\b\b\b\b\b\b\b\b\b\b\b\b\b\b\b\b\b\b\b\b\b\b\b\b\b\b\b\b\b\b\b\b\b\b\b\b\b\b\b\b\b\b\b\b\b\b\b\b\b\b\b\b\b\b\b\b\b\r15/15 [==============================] - 1s 81ms/step - loss: 0.0682 - acc: 0.9786\n",
            "Epoch 20/200\n",
            "15/15 [==============================] - 1s 90ms/step - loss: 0.0663 - acc: 0.9790 - val_loss: 0.0454 - val_acc: 0.9862\n",
            "Epoch 21/200\n",
            "15/15 [==============================] - ETA: 0s - loss: 0.0629 - acc: 0.9805"
          ]
        },
        {
          "output_type": "stream",
          "name": "stderr",
          "text": [
            "WARNING:tensorflow:Early stopping conditioned on metric `val_acc` which is not available. Available metrics are: loss,acc\n"
          ]
        },
        {
          "output_type": "stream",
          "name": "stdout",
          "text": [
            "\b\b\b\b\b\b\b\b\b\b\b\b\b\b\b\b\b\b\b\b\b\b\b\b\b\b\b\b\b\b\b\b\b\b\b\b\b\b\b\b\b\b\b\b\b\b\b\b\b\b\b\b\b\b\b\b\b\b\b\b\b\b\b\b\b\b\b\b\b\b\b\b\b\b\b\b\b\r15/15 [==============================] - 1s 84ms/step - loss: 0.0629 - acc: 0.9805\n",
            "Epoch 22/200\n",
            "15/15 [==============================] - ETA: 0s - loss: 0.0615 - acc: 0.9805"
          ]
        },
        {
          "output_type": "stream",
          "name": "stderr",
          "text": [
            "WARNING:tensorflow:Early stopping conditioned on metric `val_acc` which is not available. Available metrics are: loss,acc\n"
          ]
        },
        {
          "output_type": "stream",
          "name": "stdout",
          "text": [
            "\b\b\b\b\b\b\b\b\b\b\b\b\b\b\b\b\b\b\b\b\b\b\b\b\b\b\b\b\b\b\b\b\b\b\b\b\b\b\b\b\b\b\b\b\b\b\b\b\b\b\b\b\b\b\b\b\b\b\b\b\b\b\b\b\b\b\b\b\b\b\b\b\b\b\b\b\b\r15/15 [==============================] - 1s 86ms/step - loss: 0.0615 - acc: 0.9805\n",
            "Epoch 23/200\n",
            "15/15 [==============================] - ETA: 0s - loss: 0.0601 - acc: 0.9814"
          ]
        },
        {
          "output_type": "stream",
          "name": "stderr",
          "text": [
            "WARNING:tensorflow:Early stopping conditioned on metric `val_acc` which is not available. Available metrics are: loss,acc\n"
          ]
        },
        {
          "output_type": "stream",
          "name": "stdout",
          "text": [
            "\b\b\b\b\b\b\b\b\b\b\b\b\b\b\b\b\b\b\b\b\b\b\b\b\b\b\b\b\b\b\b\b\b\b\b\b\b\b\b\b\b\b\b\b\b\b\b\b\b\b\b\b\b\b\b\b\b\b\b\b\b\b\b\b\b\b\b\b\b\b\b\b\b\b\b\b\b\r15/15 [==============================] - 1s 81ms/step - loss: 0.0601 - acc: 0.9814\n",
            "Epoch 24/200\n",
            "15/15 [==============================] - ETA: 0s - loss: 0.0608 - acc: 0.9805"
          ]
        },
        {
          "output_type": "stream",
          "name": "stderr",
          "text": [
            "WARNING:tensorflow:Early stopping conditioned on metric `val_acc` which is not available. Available metrics are: loss,acc\n"
          ]
        },
        {
          "output_type": "stream",
          "name": "stdout",
          "text": [
            "\b\b\b\b\b\b\b\b\b\b\b\b\b\b\b\b\b\b\b\b\b\b\b\b\b\b\b\b\b\b\b\b\b\b\b\b\b\b\b\b\b\b\b\b\b\b\b\b\b\b\b\b\b\b\b\b\b\b\b\b\b\b\b\b\b\b\b\b\b\b\b\b\b\b\b\b\b\r15/15 [==============================] - 1s 81ms/step - loss: 0.0608 - acc: 0.9805\n",
            "Epoch 25/200\n",
            "15/15 [==============================] - 1s 91ms/step - loss: 0.0599 - acc: 0.9814 - val_loss: 0.0311 - val_acc: 0.9897\n",
            "Epoch 26/200\n",
            "15/15 [==============================] - ETA: 0s - loss: 0.0573 - acc: 0.9818"
          ]
        },
        {
          "output_type": "stream",
          "name": "stderr",
          "text": [
            "WARNING:tensorflow:Early stopping conditioned on metric `val_acc` which is not available. Available metrics are: loss,acc\n"
          ]
        },
        {
          "output_type": "stream",
          "name": "stdout",
          "text": [
            "\b\b\b\b\b\b\b\b\b\b\b\b\b\b\b\b\b\b\b\b\b\b\b\b\b\b\b\b\b\b\b\b\b\b\b\b\b\b\b\b\b\b\b\b\b\b\b\b\b\b\b\b\b\b\b\b\b\b\b\b\b\b\b\b\b\b\b\b\b\b\b\b\b\b\b\b\b\r15/15 [==============================] - 1s 80ms/step - loss: 0.0573 - acc: 0.9818\n",
            "Epoch 27/200\n",
            "15/15 [==============================] - ETA: 0s - loss: 0.0545 - acc: 0.9828"
          ]
        },
        {
          "output_type": "stream",
          "name": "stderr",
          "text": [
            "WARNING:tensorflow:Early stopping conditioned on metric `val_acc` which is not available. Available metrics are: loss,acc\n"
          ]
        },
        {
          "output_type": "stream",
          "name": "stdout",
          "text": [
            "\b\b\b\b\b\b\b\b\b\b\b\b\b\b\b\b\b\b\b\b\b\b\b\b\b\b\b\b\b\b\b\b\b\b\b\b\b\b\b\b\b\b\b\b\b\b\b\b\b\b\b\b\b\b\b\b\b\b\b\b\b\b\b\b\b\b\b\b\b\b\b\b\b\b\b\b\b\r15/15 [==============================] - 1s 80ms/step - loss: 0.0545 - acc: 0.9828\n",
            "Epoch 28/200\n",
            "15/15 [==============================] - ETA: 0s - loss: 0.0548 - acc: 0.9829"
          ]
        },
        {
          "output_type": "stream",
          "name": "stderr",
          "text": [
            "WARNING:tensorflow:Early stopping conditioned on metric `val_acc` which is not available. Available metrics are: loss,acc\n"
          ]
        },
        {
          "output_type": "stream",
          "name": "stdout",
          "text": [
            "\b\b\b\b\b\b\b\b\b\b\b\b\b\b\b\b\b\b\b\b\b\b\b\b\b\b\b\b\b\b\b\b\b\b\b\b\b\b\b\b\b\b\b\b\b\b\b\b\b\b\b\b\b\b\b\b\b\b\b\b\b\b\b\b\b\b\b\b\b\b\b\b\b\b\b\b\b\r15/15 [==============================] - 1s 80ms/step - loss: 0.0548 - acc: 0.9829\n",
            "Epoch 29/200\n",
            "15/15 [==============================] - ETA: 0s - loss: 0.0518 - acc: 0.9837"
          ]
        },
        {
          "output_type": "stream",
          "name": "stderr",
          "text": [
            "WARNING:tensorflow:Early stopping conditioned on metric `val_acc` which is not available. Available metrics are: loss,acc\n"
          ]
        },
        {
          "output_type": "stream",
          "name": "stdout",
          "text": [
            "\b\b\b\b\b\b\b\b\b\b\b\b\b\b\b\b\b\b\b\b\b\b\b\b\b\b\b\b\b\b\b\b\b\b\b\b\b\b\b\b\b\b\b\b\b\b\b\b\b\b\b\b\b\b\b\b\b\b\b\b\b\b\b\b\b\b\b\b\b\b\b\b\b\b\b\b\b\r15/15 [==============================] - 1s 81ms/step - loss: 0.0518 - acc: 0.9837\n",
            "Epoch 30/200\n",
            "15/15 [==============================] - 1s 87ms/step - loss: 0.0521 - acc: 0.9829 - val_loss: 0.0329 - val_acc: 0.9893\n",
            "Epoch 30: early stopping\n"
          ]
        },
        {
          "output_type": "stream",
          "name": "stderr",
          "text": [
            "WARNING:absl:Found untraced functions such as _jit_compiled_convolution_op, _jit_compiled_convolution_op, _jit_compiled_convolution_op, _jit_compiled_convolution_op, _jit_compiled_convolution_op while saving (showing 5 of 5). These functions will not be directly callable after loading.\n"
          ]
        },
        {
          "output_type": "stream",
          "name": "stdout",
          "text": [
            "Total energy: 271.52 nJ\n"
          ]
        }
      ],
      "source": [
        "n_batch = 4096\n",
        "n_epoch = 200\n",
        "callback = tf.keras.callbacks.EarlyStopping(monitor='val_acc', patience=3,min_delta=0.02,verbose=1)\n",
        "\n",
        "\n",
        "#def make_or_restore_model():\n",
        "    # Either restore the latest model, or create a fresh one\n",
        "    # if there is no checkpoint available.\n",
        "#    checkpoints = [checkpoint_filepathB + \"/\" + name for name in os.listdir(checkpoint_dir)]\n",
        "#    if checkpoints:\n",
        "#        latest_checkpoint = max(checkpoints, key=os.path.getctime)\n",
        "#        print(\"Restoring from\", latest_checkpoint)\n",
        "#        return keras.models.load_model(latest_checkpoint)\n",
        "#    print(\"Creating a new model\")\n",
        "#    return get_compiled_model()\n",
        "\n",
        "\n",
        "for x in [1,2]:\n",
        "  model_checkpoint_callback = tf.keras.callbacks.ModelCheckpoint(\n",
        "    filepath=checkpoint_filepathB[x],\n",
        "    save_weights_only=False,\n",
        "    monitor='val_accuracy',\n",
        "    mode='max',\n",
        "    save_freq = n_batch*5, \n",
        "    save_best_only=True)\n",
        "  \n",
        "  QBmodel[x].load_weights(weight_pathB[x])\n",
        "  path = model_pathB[x]\n",
        "\n",
        "  with cur_strategy.scope():\n",
        "    optimizer = Adam(lr=0.02)\n",
        "    QBmodel[x].compile(optimizer=optimizer, loss=\"categorical_crossentropy\", metrics=[\"acc\"])\n",
        "    startB = time.time()\n",
        "    QB_history = QBmodel[x].fit(x_train, y_train, epochs=n_epoch, batch_size=n_batch, validation_data=(x_test, y_test), validation_freq= 5, callbacks=[model_checkpoint_callback,callback])\n",
        "    endB = time.time()\n",
        "    ftimeB = endB-startB\n",
        "    #save best QE model and save summary file\n",
        "    QBmodel[x].save(path)\n",
        "    energyB= calculate_energy_cost(QBmodel[x])\n",
        "    model_summary_file(QBmodel[x],path,ftimeB,tot_time_bit[x],QB_history,energyB)\n",
        "  "
      ]
    },
    {
      "cell_type": "markdown",
      "source": [
        "#TEST BLOCKS"
      ],
      "metadata": {
        "id": "Z7QGs0Hx1VVm"
      }
    },
    {
      "cell_type": "code",
      "source": [
        "\n",
        "#quantization config and limit\n",
        "quantization_config = {\n",
        "        \"kernel\": {\n",
        "                \"quantized_bits(4,0,1,alpha=1.0)\":4,\n",
        "                \"quantized_bits(4,1,1,alpha=1.0)\":4,\n",
        "                \"quantized_bits(4,2,1,alpha=1.0)\":4,\n",
        "                \"quantized_bits(4,3,1,alpha=1.0)\":4,\n",
        "                \"quantized_bits(4,4,1,alpha=1.0)\":4,\n",
        "\n",
        "                \"quantized_bits(8,0,1,alpha=1.0)\":8,\n",
        "                \"quantized_bits(8,1,1,alpha=1.0)\":8,\n",
        "                \"quantized_bits(8,2,1,alpha=1.0)\":8,\n",
        "                \"quantized_bits(8,3,1,alpha=1.0)\":8,\n",
        "                \"quantized_bits(8,4,1,alpha=1.0)\":8,\n",
        "                \"quantized_bits(8,5,1,alpha=1.0)\":8,\n",
        "                \"quantized_bits(8,6,1,alpha=1.0)\":8,\n",
        "                \"quantized_bits(8,7,1,alpha=1.0)\":8,\n",
        "                \"quantized_bits(8,8,1,alpha=1.0)\":8,\n",
        "\n",
        "                \"quantized_bits(16,0,1,alpha=1.0)\":16,\n",
        "                \"quantized_bits(16,1,1,alpha=1.0)\":16,\n",
        "                \"quantized_bits(16,2,1,alpha=1.0)\":16,\n",
        "                \"quantized_bits(16,3,1,alpha=1.0)\":16,\n",
        "                \"quantized_bits(16,4,1,alpha=1.0)\":16,\n",
        "                \"quantized_bits(16,5,1,alpha=1.0)\":16,\n",
        "                \"quantized_bits(16,6,1,alpha=1.0)\":16,\n",
        "                \"quantized_bits(16,7,1,alpha=1.0)\":16,\n",
        "                \"quantized_bits(16,8,1,alpha=1.0)\":16,\n",
        "                \"quantized_bits(16,9,1,alpha=1.0)\":16,\n",
        "                \"quantized_bits(16,10,1,alpha=1.0)\":16,\n",
        "                \"quantized_bits(16,11,1,alpha=1.0)\":16,\n",
        "                \"quantized_bits(16,12,1,alpha=1.0)\":16,\n",
        "                \"quantized_bits(16,13,1,alpha=1.0)\":16,\n",
        "                \"quantized_bits(16,14,1,alpha=1.0)\":16,\n",
        "                \"quantized_bits(16,15,1,alpha=1.0)\":16,\n",
        "                \"quantized_bits(16,16,1,alpha=1.0)\":16        \n",
        "        },\n",
        "        \"bias\": {\n",
        "                \"quantized_bits(4,0,1,alpha=1.0)\":4,\n",
        "                \"quantized_bits(4,1,1,alpha=1.0)\":4,\n",
        "                \"quantized_bits(4,2,1,alpha=1.0)\":4,\n",
        "                \"quantized_bits(4,3,1,alpha=1.0)\":4,\n",
        "                \"quantized_bits(4,4,1,alpha=1.0)\":4,\n",
        "\n",
        "                \"quantized_bits(8,0,1,alpha=1.0)\":8,\n",
        "                \"quantized_bits(8,1,1,alpha=1.0)\":8,\n",
        "                \"quantized_bits(8,2,1,alpha=1.0)\":8,\n",
        "                \"quantized_bits(8,3,1,alpha=1.0)\":8,\n",
        "                \"quantized_bits(8,4,1,alpha=1.0)\":8,\n",
        "                \"quantized_bits(8,5,1,alpha=1.0)\":8,\n",
        "                \"quantized_bits(8,6,1,alpha=1.0)\":8,\n",
        "                \"quantized_bits(8,7,1,alpha=1.0)\":8,\n",
        "                \"quantized_bits(8,8,1,alpha=1.0)\":8,\n",
        "\n",
        "                \"quantized_bits(16,0,1,alpha=1.0)\":16,\n",
        "                \"quantized_bits(16,1,1,alpha=1.0)\":16,\n",
        "                \"quantized_bits(16,2,1,alpha=1.0)\":16,\n",
        "                \"quantized_bits(16,3,1,alpha=1.0)\":16,\n",
        "                \"quantized_bits(16,4,1,alpha=1.0)\":16,\n",
        "                \"quantized_bits(16,5,1,alpha=1.0)\":16,\n",
        "                \"quantized_bits(16,6,1,alpha=1.0)\":16,\n",
        "                \"quantized_bits(16,7,1,alpha=1.0)\":16,\n",
        "                \"quantized_bits(16,8,1,alpha=1.0)\":16,\n",
        "                \"quantized_bits(16,9,1,alpha=1.0)\":16,\n",
        "                \"quantized_bits(16,10,1,alpha=1.0)\":16,\n",
        "                \"quantized_bits(16,11,1,alpha=1.0)\":16,\n",
        "                \"quantized_bits(16,12,1,alpha=1.0)\":16,\n",
        "                \"quantized_bits(16,13,1,alpha=1.0)\":16,\n",
        "                \"quantized_bits(16,14,1,alpha=1.0)\":16,\n",
        "                \"quantized_bits(16,15,1,alpha=1.0)\":16,\n",
        "                \"quantized_bits(16,16,1,alpha=1.0)\":16\n",
        "        },\n",
        "        \"activation\": {\n",
        "                \"quantized_relu(4,0)\": 4,\n",
        "                \"quantized_relu(4,1)\":4,\n",
        "                \"quantized_relu(4,2)\":4,\n",
        "                \"quantized_relu(4,3)\":4,\n",
        "                \"quantized_relu(4,4)\":4,\n",
        "\n",
        "                \"quantized_relu(8,0)\":8,\n",
        "                \"quantized_relu(8,1)\":8,\n",
        "                \"quantized_relu(8,2)\":8,\n",
        "                \"quantized_relu(8,3)\":8,\n",
        "                \"quantized_relu(8,4)\":8,\n",
        "                \"quantized_relu(8,5)\":8,\n",
        "                \"quantized_relu(8,6)\":8,\n",
        "                \"quantized_relu(8,7)\":8,\n",
        "                \"quantized_relu(8,8)\":8,\n",
        "\n",
        "                \"quantized_relu(16,0)\":16,\n",
        "                \"quantized_relu(16,1)\":16,\n",
        "                \"quantized_relu(16,2)\":16,\n",
        "                \"quantized_relu(16,3)\":16,\n",
        "                \"quantized_relu(16,4)\":16,\n",
        "                \"quantized_relu(16,5)\":16,\n",
        "                \"quantized_relu(16,6)\":16,\n",
        "                \"quantized_relu(16,7)\":16,\n",
        "                \"quantized_relu(16,8)\":16,\n",
        "                \"quantized_relu(16,9)\":16,\n",
        "                \"quantized_relu(16,10)\":16,\n",
        "                \"quantized_relu(16,11)\":16,\n",
        "                \"quantized_relu(16,12)\":16,\n",
        "                \"quantized_relu(16,13)\":16,\n",
        "                \"quantized_relu(16,14)\":16,\n",
        "                \"quantized_relu(16,15)\":16,\n",
        "                \"quantized_relu(16,16)\":16\n",
        "        },\n",
        "        \"linear\": {\n",
        "                \"quantized_bits(4,0,1,alpha=1.0)\":4,\n",
        "                \"quantized_bits(4,1,1,alpha=1.0)\":4,\n",
        "                \"quantized_bits(4,2,1,alpha=1.0)\":4,\n",
        "                \"quantized_bits(4,3,1,alpha=1.0)\":4,\n",
        "                \"quantized_bits(4,4,1,alpha=1.0)\":4,\n",
        "\n",
        "                \"quantized_bits(8,0,1,alpha=1.0)\":8,\n",
        "                \"quantized_bits(8,1,1,alpha=1.0)\":8,\n",
        "                \"quantized_bits(8,2,1,alpha=1.0)\":8,\n",
        "                \"quantized_bits(8,3,1,alpha=1.0)\":8,\n",
        "                \"quantized_bits(8,4,1,alpha=1.0)\":8,\n",
        "                \"quantized_bits(8,5,1,alpha=1.0)\":8,\n",
        "                \"quantized_bits(8,6,1,alpha=1.0)\":8,\n",
        "                \"quantized_bits(8,7,1,alpha=1.0)\":8,\n",
        "                \"quantized_bits(8,8,1,alpha=1.0)\":8,\n",
        "\n",
        "                \"quantized_bits(16,0,1,alpha=1.0)\":16,\n",
        "                \"quantized_bits(16,1,1,alpha=1.0)\":16,\n",
        "                \"quantized_bits(16,2,1,alpha=1.0)\":16,\n",
        "                \"quantized_bits(16,3,1,alpha=1.0)\":16,\n",
        "                \"quantized_bits(16,4,1,alpha=1.0)\":16,\n",
        "                \"quantized_bits(16,5,1,alpha=1.0)\":16,\n",
        "                \"quantized_bits(16,6,1,alpha=1.0)\":16,\n",
        "                \"quantized_bits(16,7,1,alpha=1.0)\":16,\n",
        "                \"quantized_bits(16,8,1,alpha=1.0)\":16,\n",
        "                \"quantized_bits(16,9,1,alpha=1.0)\":16,\n",
        "                \"quantized_bits(16,10,1,alpha=1.0)\":16,\n",
        "                \"quantized_bits(16,11,1,alpha=1.0)\":16,\n",
        "                \"quantized_bits(16,12,1,alpha=1.0)\":16,\n",
        "                \"quantized_bits(16,13,1,alpha=1.0)\":16,\n",
        "                \"quantized_bits(16,14,1,alpha=1.0)\":16,\n",
        "                \"quantized_bits(16,15,1,alpha=1.0)\":16,\n",
        "                \"quantized_bits(16,16,1,alpha=1.0)\":16\n",
        "        }\n",
        "}\n",
        "\n",
        "\n",
        "limit = {\n",
        "    \"Dense\": [16, 16, 16],\n",
        "    \"Conv2D\": [16, 16, 16],\n",
        "    \"DepthwiseConv2D\": [16, 16, 16],\n",
        "    \"Activation\": [16],\n",
        "    \"BatchNormalization\": []\n",
        "}\n",
        "\n",
        "goal = {\n",
        "    \"type\": \"energy\",\n",
        "    \"params\": {\n",
        "              \"delta_p\": 5.0,\n",
        "              \"delta_n\": 5.0,\n",
        "              \"rate\": 2.0,\n",
        "              \"stress\": 1.0,\n",
        "              \"process\": 'horowitz',\n",
        "              \"parameters_on_memory\": ['sram','sram'],\n",
        "              \"activations_on_memory\": ['sram','sram'],\n",
        "              \"rd_wr_on_io\": [False,False],\n",
        "              \"min_sram_size\": [0,0],\n",
        "              \"source_quantizers\": ['int8'],\n",
        "              \"reference_internal\": 'fp16',  \n",
        "              \"reference_accumulator\": 'fp16' \n",
        "              }\n",
        "}\n",
        "\n",
        "\n",
        "\n",
        "energy_test = 'drive/MyDrive/Tesi/models/QE/test'\n",
        "run_config_test = {\n",
        "  \"output_dir\": energy_test,  \n",
        "  \"goal\": goal,                               \n",
        "  \"quantization_config\": quantization_config,\n",
        "  \"learning_rate_optimizer\": False,                  \n",
        "  \"transfer_weights\": False,\n",
        "  \"mode\": \"bayesian\", #can be random,bayesian,hyperband\n",
        "  \"seed\": 42,   \n",
        "  \"limit\": limit,\n",
        "  \"tune_filters\": \"none\", #layer,block or none\n",
        "  \"tune_filters_exceptions\": \"^dense\",\n",
        "  \"distribution_strategy\": cur_strategy,  #tpu,gpu etc\n",
        "  # first layer is input, layer two layers are softmax and flatten\n",
        "  \"layer_indexes\": range(1, len(umodel.layers) - 1), #layers where we want to perform quantization\n",
        "  \"max_trials\": 10,\n",
        "\n",
        "  #TEST BLOCKS\n",
        "  \"blocks\": [\n",
        "    \"^.*_0$\",\n",
        "    \"^.*_1$\",\n",
        "    \"^.*_2$\",\n",
        "    \"^.*_3$\",\n",
        "    \"^.*_4$\",\n",
        "    \"^dense\"\n",
        "  ],\n",
        "  \"schedule_block\": \"cost\" #cost if you want to schedule first the blocks by decreasing cost size \n",
        "\n",
        "}\n",
        "\n",
        "pprint.pprint([layer.name for layer in umodel.layers])\n",
        "autoqk = AutoQKerasScheduler(umodel, metrics=[\"acc\"], custom_objects=custom_objects, debug=True, **run_config_test)\n",
        "autoqk.fit(x_train, y_train, validation_data=(x_test, y_test), batch_size=1024, epochs=20)\n",
        "\n",
        "\n",
        "\n",
        "\n"
      ],
      "metadata": {
        "id": "RdIbh_V_0tXL",
        "colab": {
          "base_uri": "https://localhost:8080/"
        },
        "outputId": "b0e1e40a-d060-4245-945c-82073bf97e5c"
      },
      "execution_count": null,
      "outputs": [
        {
          "output_type": "stream",
          "name": "stdout",
          "text": [
            "['input',\n",
            " 'conv2d_0',\n",
            " 'bn_0',\n",
            " 'act_0',\n",
            " 'drop_0',\n",
            " 'conv2d_1',\n",
            " 'bn_1',\n",
            " 'act_1',\n",
            " 'drop_1',\n",
            " 'conv2d_2',\n",
            " 'bn_2',\n",
            " 'act_2',\n",
            " 'drop_2',\n",
            " 'conv2d_3',\n",
            " 'bn_3',\n",
            " 'act_3',\n",
            " 'drop_3',\n",
            " 'conv2d_4',\n",
            " 'bn_4',\n",
            " 'act_4',\n",
            " 'drop_4',\n",
            " 'flatten',\n",
            " 'dense',\n",
            " 'softmax']\n",
            "... block cost: 339050 / 1008381\n",
            "... adjusting max_trials for this block to 10\n",
            "Pattern 0 is : {'conv2d_1': [16, 16, 16], 'bn_1': [], 'act_1': [16]}\n",
            "... block cost: 332853 / 1008381\n",
            "... adjusting max_trials for this block to 10\n",
            "Pattern 1 is : {'conv2d_2': [16, 16, 16], 'bn_2': [], 'act_2': [16]}\n",
            "... block cost: 168812 / 1008381\n",
            "... adjusting max_trials for this block to 10\n",
            "Pattern 2 is : {'conv2d_3': [16, 16, 16], 'bn_3': [], 'act_3': [16]}\n",
            "... block cost: 123198 / 1008381\n",
            "... adjusting max_trials for this block to 10\n",
            "Pattern 3 is : {'conv2d_4': [16, 16, 16], 'bn_4': [], 'act_4': [16]}\n",
            "... block cost: 42490 / 1008381\n",
            "... adjusting max_trials for this block to 10\n",
            "Pattern 4 is : {'conv2d_0': [16, 16, 16], 'bn_0': [], 'act_0': [16]}\n",
            "... block cost: 1970 / 1008381\n",
            "... adjusting max_trials for this block to 10\n",
            "Pattern 5 is : {'dense': [16, 16, 16]}\n"
          ]
        }
      ]
    },
    {
      "cell_type": "code",
      "source": [
        "autoqk = AutoQKerasScheduler(umodel, metrics=[\"acc\"], custom_objects=custom_objects, **run_config_test)\n",
        "start = time.time()\n",
        "autoqk.fit(x_train, y_train, validation_data=(x_test, y_test), batch_size=1024, epochs=20)\n",
        "end = time.time()\n",
        "tot_search = end - start\n",
        "\n",
        "tmp_path =  './drive/MyDrive/Tesi/models/QE/test/weights.h5'\n",
        "\n",
        "qmodel = autoqk.get_best_model()\n",
        "qmodel.save_weights(tmp_path)\n",
        "\n",
        "\n",
        "qmodel.load_weights(tmp_path)\n",
        "with cur_strategy.scope():\n",
        "  optimizer = Adam(lr=0.02)\n",
        "  qmodel.compile(optimizer=optimizer, loss=\"categorical_crossentropy\", metrics=[\"acc\"])\n",
        "  qmodel.fit(x_train, y_train, epochs=200, batch_size=4096, validation_data=(x_test, y_test))"
      ],
      "metadata": {
        "id": "Xt9qOInEtfcn",
        "colab": {
          "base_uri": "https://localhost:8080/"
        },
        "outputId": "77fc16f5-8362-4dfa-d653-b3e550adc9ff"
      },
      "execution_count": null,
      "outputs": [
        {
          "output_type": "stream",
          "name": "stdout",
          "text": [
            "Trial 10 Complete [00h 00m 33s]\n",
            "val_score: 1.1332590579986572\n",
            "\n",
            "Best val_score So Far: 1.133856177330017\n",
            "Total elapsed time: 00h 06m 12s\n",
            "Results summary\n",
            "Results in ./drive/MyDrive/Tesi/models/QE/test_1/5\n",
            "Showing 10 best trials\n",
            "<keras_tuner.engine.objective.Objective object at 0x7fd2bd2f5150>\n",
            "Trial summary\n",
            "Hyperparameters:\n",
            "dense_kernel_quantizer: quantized_bits(4,0,1,alpha=1.0)\n",
            "dense_bias_quantizer: quantized_bits(4,0,1,alpha=1.0)\n",
            "Score: 1.133856177330017\n",
            "Trial summary\n",
            "Hyperparameters:\n",
            "dense_kernel_quantizer: quantized_bits(16,5,1,alpha=1.0)\n",
            "dense_bias_quantizer: quantized_bits(4,4,1,alpha=1.0)\n",
            "Score: 1.1332590579986572\n",
            "Trial summary\n",
            "Hyperparameters:\n",
            "dense_kernel_quantizer: quantized_bits(16,1,1,alpha=1.0)\n",
            "dense_bias_quantizer: quantized_bits(16,16,1,alpha=1.0)\n",
            "Score: 1.133127212524414\n",
            "Trial summary\n",
            "Hyperparameters:\n",
            "dense_kernel_quantizer: quantized_bits(8,3,1,alpha=1.0)\n",
            "dense_bias_quantizer: quantized_bits(16,16,1,alpha=1.0)\n",
            "Score: 1.132880687713623\n",
            "Trial summary\n",
            "Hyperparameters:\n",
            "dense_kernel_quantizer: quantized_bits(16,6,1,alpha=1.0)\n",
            "dense_bias_quantizer: quantized_bits(4,1,1,alpha=1.0)\n",
            "Score: 1.1325724124908447\n",
            "Trial summary\n",
            "Hyperparameters:\n",
            "dense_kernel_quantizer: quantized_bits(16,3,1,alpha=1.0)\n",
            "dense_bias_quantizer: quantized_bits(4,0,1,alpha=1.0)\n",
            "Score: 1.1323432922363281\n",
            "Trial summary\n",
            "Hyperparameters:\n",
            "dense_kernel_quantizer: quantized_bits(4,0,1,alpha=1.0)\n",
            "dense_bias_quantizer: quantized_bits(16,16,1,alpha=1.0)\n",
            "Score: 1.1321191787719727\n",
            "Trial summary\n",
            "Hyperparameters:\n",
            "dense_kernel_quantizer: quantized_bits(8,6,1,alpha=1.0)\n",
            "dense_bias_quantizer: quantized_bits(4,0,1,alpha=1.0)\n",
            "Score: 1.1135462522506714\n",
            "Trial summary\n",
            "Hyperparameters:\n",
            "dense_kernel_quantizer: quantized_bits(8,8,1,alpha=1.0)\n",
            "dense_bias_quantizer: quantized_bits(8,3,1,alpha=1.0)\n",
            "Score: 1.1001499891281128\n",
            "Trial summary\n",
            "Hyperparameters:\n",
            "dense_kernel_quantizer: quantized_bits(16,16,1,alpha=1.0)\n",
            "dense_bias_quantizer: quantized_bits(4,0,1,alpha=1.0)\n",
            "Score: 0.8936720490455627\n",
            "learning_rate: 0.019999999552965164\n",
            "Model: \"model\"\n",
            "_________________________________________________________________\n",
            " Layer (type)                Output Shape              Param #   \n",
            "=================================================================\n",
            " input (InputLayer)          [(None, 28, 28, 1)]       0         \n",
            "                                                                 \n",
            " conv2d_0 (QConv2D)          (None, 14, 14, 16)        144       \n",
            "                                                                 \n",
            " bn_0 (QBatchNormalization)  (None, 14, 14, 16)        64        \n",
            "                                                                 \n",
            " act_0 (QActivation)         (None, 14, 14, 16)        0         \n",
            "                                                                 \n",
            " drop_0 (Dropout)            (None, 14, 14, 16)        0         \n",
            "                                                                 \n",
            " conv2d_1 (QConv2D)          (None, 7, 7, 32)          4608      \n",
            "                                                                 \n",
            " bn_1 (QBatchNormalization)  (None, 7, 7, 32)          128       \n",
            "                                                                 \n",
            " act_1 (QActivation)         (None, 7, 7, 32)          0         \n",
            "                                                                 \n",
            " drop_1 (Dropout)            (None, 7, 7, 32)          0         \n",
            "                                                                 \n",
            " conv2d_2 (QConv2D)          (None, 4, 4, 48)          13824     \n",
            "                                                                 \n",
            " bn_2 (QBatchNormalization)  (None, 4, 4, 48)          192       \n",
            "                                                                 \n",
            " act_2 (QActivation)         (None, 4, 4, 48)          0         \n",
            "                                                                 \n",
            " drop_2 (Dropout)            (None, 4, 4, 48)          0         \n",
            "                                                                 \n",
            " conv2d_3 (QConv2D)          (None, 2, 2, 64)          27648     \n",
            "                                                                 \n",
            " bn_3 (QBatchNormalization)  (None, 2, 2, 64)          256       \n",
            "                                                                 \n",
            " act_3 (QActivation)         (None, 2, 2, 64)          0         \n",
            "                                                                 \n",
            " drop_3 (Dropout)            (None, 2, 2, 64)          0         \n",
            "                                                                 \n",
            " conv2d_4 (QConv2D)          (None, 1, 1, 128)         73728     \n",
            "                                                                 \n",
            " bn_4 (QBatchNormalization)  (None, 1, 1, 128)         512       \n",
            "                                                                 \n",
            " act_4 (QActivation)         (None, 1, 1, 128)         0         \n",
            "                                                                 \n",
            " drop_4 (Dropout)            (None, 1, 1, 128)         0         \n",
            "                                                                 \n",
            " flatten (Flatten)           (None, 128)               0         \n",
            "                                                                 \n",
            " dense (QDense)              (None, 10)                1290      \n",
            "                                                                 \n",
            " softmax (Activation)        (None, 10)                0         \n",
            "                                                                 \n",
            "=================================================================\n",
            "Total params: 122,394\n",
            "Trainable params: 121,818\n",
            "Non-trainable params: 576\n",
            "_________________________________________________________________\n",
            "stats: delta_p=0.05 delta_n=0.05 rate=2.0 trial_size=135382 reference_size=1008381\n",
            "       delta=14.48%\n",
            "Total Cost Reduction:\n",
            "       135382 vs 1008381 (-86.57%)\n",
            "conv2d_0             f=16 quantized_bits(16,6,1,alpha=1.0) \n",
            "bn_0                 QBN, mean=[0. 0. 0. 0. 0. 0. 0. 0. 0. 0. 0. 0. 0. 0. 0. 0.]\n",
            "act_0                quantized_relu(4,1)\n",
            "conv2d_1             f=32 quantized_bits(16,6,1,alpha=1.0) \n",
            "bn_1                 QBN, mean=[0. 0. 0. 0. 0. 0. 0. 0. 0. 0. 0. 0. 0. 0. 0. 0. 0. 0. 0. 0. 0. 0. 0. 0.\n",
            " 0. 0. 0. 0. 0. 0. 0. 0.]\n",
            "act_1                quantized_relu(4,1)\n",
            "conv2d_2             f=48 quantized_bits(4,0,1,alpha=1.0) \n",
            "bn_2                 QBN, mean=[0. 0. 0. 0. 0. 0. 0. 0. 0. 0. 0. 0. 0. 0. 0. 0. 0. 0. 0. 0. 0. 0. 0. 0.\n",
            " 0. 0. 0. 0. 0. 0. 0. 0. 0. 0. 0. 0. 0. 0. 0. 0. 0. 0. 0. 0. 0. 0. 0. 0.]\n",
            "act_2                quantized_relu(8,8)\n",
            "conv2d_3             f=64 quantized_bits(4,0,1,alpha=1.0) \n",
            "bn_3                 QBN, mean=[0. 0. 0. 0. 0. 0. 0. 0. 0. 0. 0. 0. 0. 0. 0. 0. 0. 0. 0. 0. 0. 0. 0. 0.\n",
            " 0. 0. 0. 0. 0. 0. 0. 0. 0. 0. 0. 0. 0. 0. 0. 0. 0. 0. 0. 0. 0. 0. 0. 0.\n",
            " 0. 0. 0. 0. 0. 0. 0. 0. 0. 0. 0. 0. 0. 0. 0. 0.]\n",
            "act_3                quantized_relu(8,5)\n",
            "conv2d_4             f=128 quantized_bits(4,0,1,alpha=1.0) \n",
            "bn_4                 QBN, mean=[0. 0. 0. 0. 0. 0. 0. 0. 0. 0. 0. 0. 0. 0. 0. 0. 0. 0. 0. 0. 0. 0. 0. 0.\n",
            " 0. 0. 0. 0. 0. 0. 0. 0. 0. 0. 0. 0. 0. 0. 0. 0. 0. 0. 0. 0. 0. 0. 0. 0.\n",
            " 0. 0. 0. 0. 0. 0. 0. 0. 0. 0. 0. 0. 0. 0. 0. 0. 0. 0. 0. 0. 0. 0. 0. 0.\n",
            " 0. 0. 0. 0. 0. 0. 0. 0. 0. 0. 0. 0. 0. 0. 0. 0. 0. 0. 0. 0. 0. 0. 0. 0.\n",
            " 0. 0. 0. 0. 0. 0. 0. 0. 0. 0. 0. 0. 0. 0. 0. 0. 0. 0. 0. 0. 0. 0. 0. 0.\n",
            " 0. 0. 0. 0. 0. 0. 0. 0.]\n",
            "act_4                quantized_relu(4,0)\n",
            "dense                u=10 quantized_bits(4,0,1,alpha=1.0) quantized_bits(4,0,1,alpha=1.0) \n",
            "\n"
          ]
        },
        {
          "output_type": "stream",
          "name": "stderr",
          "text": [
            "WARNING:absl:Found untraced functions such as _jit_compiled_convolution_op, _jit_compiled_convolution_op, _jit_compiled_convolution_op, _jit_compiled_convolution_op, _jit_compiled_convolution_op while saving (showing 5 of 5). These functions will not be directly callable after loading.\n"
          ]
        },
        {
          "output_type": "stream",
          "name": "stdout",
          "text": [
            "stats: delta_p=0.05 delta_n=0.05 rate=2.0 trial_size=135382 reference_size=1008381\n",
            "       delta=14.48%\n",
            "Total Cost Reduction:\n",
            "       135382 vs 1008381 (-86.57%)\n",
            "conv2d_0             f=16 quantized_bits(16,6,1,alpha=1.0) \n",
            "bn_0                 QBN, mean=[0. 0. 0. 0. 0. 0. 0. 0. 0. 0. 0. 0. 0. 0. 0. 0.]\n",
            "act_0                quantized_relu(4,1)\n",
            "conv2d_1             f=32 quantized_bits(16,6,1,alpha=1.0) \n",
            "bn_1                 QBN, mean=[0. 0. 0. 0. 0. 0. 0. 0. 0. 0. 0. 0. 0. 0. 0. 0. 0. 0. 0. 0. 0. 0. 0. 0.\n",
            " 0. 0. 0. 0. 0. 0. 0. 0.]\n",
            "act_1                quantized_relu(4,1)\n",
            "conv2d_2             f=48 quantized_bits(4,0,1,alpha=1.0) \n",
            "bn_2                 QBN, mean=[0. 0. 0. 0. 0. 0. 0. 0. 0. 0. 0. 0. 0. 0. 0. 0. 0. 0. 0. 0. 0. 0. 0. 0.\n",
            " 0. 0. 0. 0. 0. 0. 0. 0. 0. 0. 0. 0. 0. 0. 0. 0. 0. 0. 0. 0. 0. 0. 0. 0.]\n",
            "act_2                quantized_relu(8,8)\n",
            "conv2d_3             f=64 quantized_bits(4,0,1,alpha=1.0) \n",
            "bn_3                 QBN, mean=[0. 0. 0. 0. 0. 0. 0. 0. 0. 0. 0. 0. 0. 0. 0. 0. 0. 0. 0. 0. 0. 0. 0. 0.\n",
            " 0. 0. 0. 0. 0. 0. 0. 0. 0. 0. 0. 0. 0. 0. 0. 0. 0. 0. 0. 0. 0. 0. 0. 0.\n",
            " 0. 0. 0. 0. 0. 0. 0. 0. 0. 0. 0. 0. 0. 0. 0. 0.]\n",
            "act_3                quantized_relu(8,5)\n",
            "conv2d_4             f=128 quantized_bits(4,0,1,alpha=1.0) \n",
            "bn_4                 QBN, mean=[0. 0. 0. 0. 0. 0. 0. 0. 0. 0. 0. 0. 0. 0. 0. 0. 0. 0. 0. 0. 0. 0. 0. 0.\n",
            " 0. 0. 0. 0. 0. 0. 0. 0. 0. 0. 0. 0. 0. 0. 0. 0. 0. 0. 0. 0. 0. 0. 0. 0.\n",
            " 0. 0. 0. 0. 0. 0. 0. 0. 0. 0. 0. 0. 0. 0. 0. 0. 0. 0. 0. 0. 0. 0. 0. 0.\n",
            " 0. 0. 0. 0. 0. 0. 0. 0. 0. 0. 0. 0. 0. 0. 0. 0. 0. 0. 0. 0. 0. 0. 0. 0.\n",
            " 0. 0. 0. 0. 0. 0. 0. 0. 0. 0. 0. 0. 0. 0. 0. 0. 0. 0. 0. 0. 0. 0. 0. 0.\n",
            " 0. 0. 0. 0. 0. 0. 0. 0.]\n",
            "act_4                quantized_relu(4,0)\n",
            "dense                u=10 quantized_bits(4,0,1,alpha=1.0) quantized_bits(4,0,1,alpha=1.0) \n",
            "\n",
            "Epoch 1/200\n",
            "15/15 [==============================] - 6s 173ms/step - loss: 0.9266 - acc: 0.7031 - val_loss: 0.5622 - val_acc: 0.8332\n",
            "Epoch 2/200\n",
            "15/15 [==============================] - 1s 90ms/step - loss: 0.2575 - acc: 0.9216 - val_loss: 0.4729 - val_acc: 0.8640\n",
            "Epoch 3/200\n",
            "15/15 [==============================] - 1s 86ms/step - loss: 0.1762 - acc: 0.9457 - val_loss: 0.3964 - val_acc: 0.8882\n",
            "Epoch 4/200\n",
            "15/15 [==============================] - 1s 85ms/step - loss: 0.1404 - acc: 0.9579 - val_loss: 0.1925 - val_acc: 0.9455\n",
            "Epoch 5/200\n",
            "15/15 [==============================] - 1s 85ms/step - loss: 0.1173 - acc: 0.9628 - val_loss: 0.1116 - val_acc: 0.9702\n",
            "Epoch 6/200\n",
            "15/15 [==============================] - 1s 90ms/step - loss: 0.1031 - acc: 0.9685 - val_loss: 0.0898 - val_acc: 0.9740\n",
            "Epoch 7/200\n",
            "15/15 [==============================] - 1s 90ms/step - loss: 0.0929 - acc: 0.9715 - val_loss: 0.0541 - val_acc: 0.9839\n",
            "Epoch 8/200\n",
            "15/15 [==============================] - 1s 86ms/step - loss: 0.0875 - acc: 0.9731 - val_loss: 0.0634 - val_acc: 0.9802\n",
            "Epoch 9/200\n",
            "15/15 [==============================] - 1s 85ms/step - loss: 0.0839 - acc: 0.9733 - val_loss: 0.0560 - val_acc: 0.9831\n",
            "Epoch 10/200\n",
            "15/15 [==============================] - 1s 85ms/step - loss: 0.0772 - acc: 0.9764 - val_loss: 0.0455 - val_acc: 0.9862\n",
            "Epoch 11/200\n",
            "15/15 [==============================] - 1s 85ms/step - loss: 0.0749 - acc: 0.9767 - val_loss: 0.0426 - val_acc: 0.9863\n",
            "Epoch 12/200\n",
            "15/15 [==============================] - 1s 86ms/step - loss: 0.0683 - acc: 0.9785 - val_loss: 0.0453 - val_acc: 0.9864\n",
            "Epoch 13/200\n",
            "15/15 [==============================] - 1s 85ms/step - loss: 0.0678 - acc: 0.9785 - val_loss: 0.0393 - val_acc: 0.9880\n",
            "Epoch 14/200\n",
            "15/15 [==============================] - 1s 85ms/step - loss: 0.0652 - acc: 0.9794 - val_loss: 0.0399 - val_acc: 0.9876\n",
            "Epoch 15/200\n",
            "15/15 [==============================] - 1s 85ms/step - loss: 0.0606 - acc: 0.9811 - val_loss: 0.0370 - val_acc: 0.9892\n",
            "Epoch 16/200\n",
            "15/15 [==============================] - 1s 86ms/step - loss: 0.0603 - acc: 0.9808 - val_loss: 0.0344 - val_acc: 0.9887\n",
            "Epoch 17/200\n",
            "15/15 [==============================] - 1s 85ms/step - loss: 0.0562 - acc: 0.9822 - val_loss: 0.0354 - val_acc: 0.9884\n",
            "Epoch 18/200\n",
            "15/15 [==============================] - 1s 85ms/step - loss: 0.0550 - acc: 0.9826 - val_loss: 0.0365 - val_acc: 0.9881\n",
            "Epoch 19/200\n",
            "15/15 [==============================] - 1s 85ms/step - loss: 0.0552 - acc: 0.9826 - val_loss: 0.0328 - val_acc: 0.9891\n",
            "Epoch 20/200\n",
            "15/15 [==============================] - 1s 86ms/step - loss: 0.0534 - acc: 0.9830 - val_loss: 0.0322 - val_acc: 0.9891\n",
            "Epoch 21/200\n",
            "15/15 [==============================] - 1s 85ms/step - loss: 0.0528 - acc: 0.9834 - val_loss: 0.0310 - val_acc: 0.9890\n",
            "Epoch 22/200\n",
            "15/15 [==============================] - 1s 86ms/step - loss: 0.0513 - acc: 0.9834 - val_loss: 0.0326 - val_acc: 0.9895\n",
            "Epoch 23/200\n",
            "15/15 [==============================] - 1s 90ms/step - loss: 0.0481 - acc: 0.9847 - val_loss: 0.0364 - val_acc: 0.9894\n",
            "Epoch 24/200\n",
            "15/15 [==============================] - 1s 85ms/step - loss: 0.0484 - acc: 0.9843 - val_loss: 0.0339 - val_acc: 0.9896\n",
            "Epoch 25/200\n",
            "15/15 [==============================] - 1s 86ms/step - loss: 0.0485 - acc: 0.9851 - val_loss: 0.0329 - val_acc: 0.9891\n",
            "Epoch 26/200\n",
            "15/15 [==============================] - 1s 91ms/step - loss: 0.0469 - acc: 0.9854 - val_loss: 0.0304 - val_acc: 0.9896\n",
            "Epoch 27/200\n",
            "15/15 [==============================] - 1s 91ms/step - loss: 0.0462 - acc: 0.9855 - val_loss: 0.0298 - val_acc: 0.9905\n",
            "Epoch 28/200\n",
            "15/15 [==============================] - 1s 85ms/step - loss: 0.0433 - acc: 0.9860 - val_loss: 0.0379 - val_acc: 0.9883\n",
            "Epoch 29/200\n",
            "15/15 [==============================] - 1s 85ms/step - loss: 0.0424 - acc: 0.9862 - val_loss: 0.0389 - val_acc: 0.9880\n",
            "Epoch 30/200\n",
            "15/15 [==============================] - 1s 85ms/step - loss: 0.0444 - acc: 0.9858 - val_loss: 0.0294 - val_acc: 0.9912\n",
            "Epoch 31/200\n",
            "15/15 [==============================] - 1s 86ms/step - loss: 0.0444 - acc: 0.9856 - val_loss: 0.0325 - val_acc: 0.9898\n",
            "Epoch 32/200\n",
            "15/15 [==============================] - 1s 86ms/step - loss: 0.0425 - acc: 0.9862 - val_loss: 0.0324 - val_acc: 0.9900\n",
            "Epoch 33/200\n",
            "15/15 [==============================] - 1s 85ms/step - loss: 0.0424 - acc: 0.9864 - val_loss: 0.0304 - val_acc: 0.9910\n",
            "Epoch 34/200\n",
            "15/15 [==============================] - 1s 91ms/step - loss: 0.0413 - acc: 0.9868 - val_loss: 0.0319 - val_acc: 0.9899\n",
            "Epoch 35/200\n",
            "15/15 [==============================] - 1s 85ms/step - loss: 0.0399 - acc: 0.9875 - val_loss: 0.0282 - val_acc: 0.9920\n",
            "Epoch 36/200\n",
            "15/15 [==============================] - 1s 86ms/step - loss: 0.0400 - acc: 0.9873 - val_loss: 0.0311 - val_acc: 0.9903\n",
            "Epoch 37/200\n",
            "15/15 [==============================] - 1s 86ms/step - loss: 0.0385 - acc: 0.9874 - val_loss: 0.0288 - val_acc: 0.9916\n",
            "Epoch 38/200\n",
            "15/15 [==============================] - 1s 86ms/step - loss: 0.0389 - acc: 0.9879 - val_loss: 0.0308 - val_acc: 0.9903\n",
            "Epoch 39/200\n",
            "15/15 [==============================] - 1s 91ms/step - loss: 0.0374 - acc: 0.9876 - val_loss: 0.0338 - val_acc: 0.9907\n",
            "Epoch 40/200\n",
            "15/15 [==============================] - 1s 85ms/step - loss: 0.0377 - acc: 0.9874 - val_loss: 0.0321 - val_acc: 0.9903\n",
            "Epoch 41/200\n",
            "15/15 [==============================] - 1s 85ms/step - loss: 0.0382 - acc: 0.9879 - val_loss: 0.0289 - val_acc: 0.9913\n",
            "Epoch 42/200\n",
            "15/15 [==============================] - 1s 85ms/step - loss: 0.0381 - acc: 0.9875 - val_loss: 0.0279 - val_acc: 0.9907\n",
            "Epoch 43/200\n",
            "15/15 [==============================] - 1s 86ms/step - loss: 0.0367 - acc: 0.9877 - val_loss: 0.0321 - val_acc: 0.9905\n",
            "Epoch 44/200\n",
            "15/15 [==============================] - 1s 86ms/step - loss: 0.0363 - acc: 0.9880 - val_loss: 0.0293 - val_acc: 0.9909\n",
            "Epoch 45/200\n",
            "15/15 [==============================] - 1s 86ms/step - loss: 0.0352 - acc: 0.9887 - val_loss: 0.0265 - val_acc: 0.9917\n",
            "Epoch 46/200\n",
            "15/15 [==============================] - 1s 91ms/step - loss: 0.0349 - acc: 0.9890 - val_loss: 0.0268 - val_acc: 0.9915\n",
            "Epoch 47/200\n",
            "15/15 [==============================] - 1s 91ms/step - loss: 0.0347 - acc: 0.9890 - val_loss: 0.0283 - val_acc: 0.9913\n",
            "Epoch 48/200\n",
            "15/15 [==============================] - 1s 86ms/step - loss: 0.0353 - acc: 0.9882 - val_loss: 0.0277 - val_acc: 0.9917\n",
            "Epoch 49/200\n",
            "15/15 [==============================] - 1s 86ms/step - loss: 0.0335 - acc: 0.9894 - val_loss: 0.0289 - val_acc: 0.9917\n",
            "Epoch 50/200\n",
            "15/15 [==============================] - 1s 85ms/step - loss: 0.0333 - acc: 0.9891 - val_loss: 0.0270 - val_acc: 0.9913\n",
            "Epoch 51/200\n",
            "15/15 [==============================] - 1s 86ms/step - loss: 0.0338 - acc: 0.9893 - val_loss: 0.0261 - val_acc: 0.9915\n",
            "Epoch 52/200\n",
            "15/15 [==============================] - 1s 92ms/step - loss: 0.0325 - acc: 0.9895 - val_loss: 0.0279 - val_acc: 0.9916\n",
            "Epoch 53/200\n",
            "15/15 [==============================] - 1s 96ms/step - loss: 0.0319 - acc: 0.9894 - val_loss: 0.0269 - val_acc: 0.9915\n",
            "Epoch 54/200\n",
            "15/15 [==============================] - 1s 91ms/step - loss: 0.0327 - acc: 0.9895 - val_loss: 0.0261 - val_acc: 0.9919\n",
            "Epoch 55/200\n",
            "15/15 [==============================] - 1s 86ms/step - loss: 0.0324 - acc: 0.9894 - val_loss: 0.0290 - val_acc: 0.9911\n",
            "Epoch 56/200\n",
            "15/15 [==============================] - 1s 86ms/step - loss: 0.0318 - acc: 0.9891 - val_loss: 0.0319 - val_acc: 0.9916\n",
            "Epoch 57/200\n",
            "15/15 [==============================] - 1s 91ms/step - loss: 0.0318 - acc: 0.9899 - val_loss: 0.0300 - val_acc: 0.9913\n",
            "Epoch 58/200\n",
            "15/15 [==============================] - 1s 86ms/step - loss: 0.0318 - acc: 0.9898 - val_loss: 0.0264 - val_acc: 0.9922\n",
            "Epoch 59/200\n",
            "15/15 [==============================] - 1s 85ms/step - loss: 0.0316 - acc: 0.9897 - val_loss: 0.0279 - val_acc: 0.9918\n",
            "Epoch 60/200\n",
            "15/15 [==============================] - 1s 91ms/step - loss: 0.0284 - acc: 0.9907 - val_loss: 0.0280 - val_acc: 0.9918\n",
            "Epoch 61/200\n",
            "15/15 [==============================] - 1s 86ms/step - loss: 0.0299 - acc: 0.9901 - val_loss: 0.0303 - val_acc: 0.9909\n",
            "Epoch 62/200\n",
            "15/15 [==============================] - 1s 87ms/step - loss: 0.0308 - acc: 0.9900 - val_loss: 0.0290 - val_acc: 0.9919\n",
            "Epoch 63/200\n",
            "15/15 [==============================] - 1s 86ms/step - loss: 0.0307 - acc: 0.9900 - val_loss: 0.0280 - val_acc: 0.9918\n",
            "Epoch 64/200\n",
            "15/15 [==============================] - 1s 86ms/step - loss: 0.0304 - acc: 0.9902 - val_loss: 0.0246 - val_acc: 0.9921\n",
            "Epoch 65/200\n",
            "15/15 [==============================] - 1s 86ms/step - loss: 0.0293 - acc: 0.9907 - val_loss: 0.0288 - val_acc: 0.9917\n",
            "Epoch 66/200\n",
            "15/15 [==============================] - 1s 86ms/step - loss: 0.0289 - acc: 0.9903 - val_loss: 0.0287 - val_acc: 0.9919\n",
            "Epoch 67/200\n",
            "15/15 [==============================] - 1s 86ms/step - loss: 0.0309 - acc: 0.9895 - val_loss: 0.0281 - val_acc: 0.9918\n",
            "Epoch 68/200\n",
            "15/15 [==============================] - 1s 86ms/step - loss: 0.0305 - acc: 0.9897 - val_loss: 0.0291 - val_acc: 0.9919\n",
            "Epoch 69/200\n",
            "15/15 [==============================] - 1s 92ms/step - loss: 0.0301 - acc: 0.9899 - val_loss: 0.0247 - val_acc: 0.9921\n",
            "Epoch 70/200\n",
            "15/15 [==============================] - 1s 86ms/step - loss: 0.0298 - acc: 0.9898 - val_loss: 0.0269 - val_acc: 0.9924\n",
            "Epoch 71/200\n",
            "15/15 [==============================] - 1s 86ms/step - loss: 0.0282 - acc: 0.9906 - val_loss: 0.0281 - val_acc: 0.9915\n",
            "Epoch 72/200\n",
            "15/15 [==============================] - 1s 86ms/step - loss: 0.0284 - acc: 0.9901 - val_loss: 0.0301 - val_acc: 0.9917\n",
            "Epoch 73/200\n",
            "15/15 [==============================] - 1s 86ms/step - loss: 0.0272 - acc: 0.9914 - val_loss: 0.0274 - val_acc: 0.9917\n",
            "Epoch 74/200\n",
            "15/15 [==============================] - 1s 86ms/step - loss: 0.0279 - acc: 0.9906 - val_loss: 0.0265 - val_acc: 0.9912\n",
            "Epoch 75/200\n",
            "15/15 [==============================] - 1s 86ms/step - loss: 0.0293 - acc: 0.9904 - val_loss: 0.0267 - val_acc: 0.9923\n",
            "Epoch 76/200\n",
            "15/15 [==============================] - 1s 91ms/step - loss: 0.0273 - acc: 0.9909 - val_loss: 0.0292 - val_acc: 0.9917\n",
            "Epoch 77/200\n",
            "15/15 [==============================] - 1s 86ms/step - loss: 0.0257 - acc: 0.9915 - val_loss: 0.0254 - val_acc: 0.9921\n",
            "Epoch 78/200\n",
            "15/15 [==============================] - 1s 90ms/step - loss: 0.0287 - acc: 0.9908 - val_loss: 0.0269 - val_acc: 0.9916\n",
            "Epoch 79/200\n",
            "15/15 [==============================] - 1s 92ms/step - loss: 0.0295 - acc: 0.9904 - val_loss: 0.0297 - val_acc: 0.9910\n",
            "Epoch 80/200\n",
            "15/15 [==============================] - 1s 92ms/step - loss: 0.0287 - acc: 0.9907 - val_loss: 0.0244 - val_acc: 0.9922\n",
            "Epoch 81/200\n",
            "15/15 [==============================] - 1s 86ms/step - loss: 0.0266 - acc: 0.9912 - val_loss: 0.0288 - val_acc: 0.9922\n",
            "Epoch 82/200\n",
            "15/15 [==============================] - 1s 85ms/step - loss: 0.0266 - acc: 0.9910 - val_loss: 0.0284 - val_acc: 0.9920\n",
            "Epoch 83/200\n",
            "15/15 [==============================] - 1s 85ms/step - loss: 0.0272 - acc: 0.9911 - val_loss: 0.0278 - val_acc: 0.9917\n",
            "Epoch 84/200\n",
            "15/15 [==============================] - 1s 91ms/step - loss: 0.0272 - acc: 0.9912 - val_loss: 0.0273 - val_acc: 0.9926\n",
            "Epoch 85/200\n",
            "15/15 [==============================] - 1s 86ms/step - loss: 0.0260 - acc: 0.9916 - val_loss: 0.0268 - val_acc: 0.9920\n",
            "Epoch 86/200\n",
            "15/15 [==============================] - 1s 87ms/step - loss: 0.0275 - acc: 0.9909 - val_loss: 0.0252 - val_acc: 0.9925\n",
            "Epoch 87/200\n",
            "15/15 [==============================] - 1s 91ms/step - loss: 0.0285 - acc: 0.9908 - val_loss: 0.0291 - val_acc: 0.9917\n",
            "Epoch 88/200\n",
            "15/15 [==============================] - 1s 86ms/step - loss: 0.0260 - acc: 0.9912 - val_loss: 0.0242 - val_acc: 0.9923\n",
            "Epoch 89/200\n",
            "15/15 [==============================] - 1s 86ms/step - loss: 0.0274 - acc: 0.9911 - val_loss: 0.0275 - val_acc: 0.9919\n",
            "Epoch 90/200\n",
            "15/15 [==============================] - 1s 86ms/step - loss: 0.0270 - acc: 0.9908 - val_loss: 0.0287 - val_acc: 0.9923\n",
            "Epoch 91/200\n",
            "15/15 [==============================] - 1s 86ms/step - loss: 0.0264 - acc: 0.9914 - val_loss: 0.0277 - val_acc: 0.9916\n",
            "Epoch 92/200\n",
            "15/15 [==============================] - 1s 86ms/step - loss: 0.0254 - acc: 0.9915 - val_loss: 0.0321 - val_acc: 0.9913\n",
            "Epoch 93/200\n",
            "15/15 [==============================] - 1s 86ms/step - loss: 0.0263 - acc: 0.9915 - val_loss: 0.0305 - val_acc: 0.9921\n",
            "Epoch 94/200\n",
            "15/15 [==============================] - 1s 86ms/step - loss: 0.0253 - acc: 0.9923 - val_loss: 0.0284 - val_acc: 0.9922\n",
            "Epoch 95/200\n",
            "15/15 [==============================] - 1s 86ms/step - loss: 0.0250 - acc: 0.9915 - val_loss: 0.0297 - val_acc: 0.9923\n",
            "Epoch 96/200\n",
            "15/15 [==============================] - 1s 91ms/step - loss: 0.0264 - acc: 0.9919 - val_loss: 0.0260 - val_acc: 0.9918\n",
            "Epoch 97/200\n",
            "15/15 [==============================] - 1s 87ms/step - loss: 0.0258 - acc: 0.9918 - val_loss: 0.0303 - val_acc: 0.9910\n",
            "Epoch 98/200\n",
            "15/15 [==============================] - 1s 86ms/step - loss: 0.0265 - acc: 0.9912 - val_loss: 0.0283 - val_acc: 0.9923\n",
            "Epoch 99/200\n",
            "15/15 [==============================] - 1s 87ms/step - loss: 0.0253 - acc: 0.9917 - val_loss: 0.0283 - val_acc: 0.9911\n",
            "Epoch 100/200\n",
            "15/15 [==============================] - 1s 86ms/step - loss: 0.0252 - acc: 0.9922 - val_loss: 0.0266 - val_acc: 0.9921\n",
            "Epoch 101/200\n",
            "15/15 [==============================] - 1s 86ms/step - loss: 0.0257 - acc: 0.9916 - val_loss: 0.0287 - val_acc: 0.9917\n",
            "Epoch 102/200\n",
            "15/15 [==============================] - 1s 86ms/step - loss: 0.0249 - acc: 0.9917 - val_loss: 0.0242 - val_acc: 0.9927\n",
            "Epoch 103/200\n",
            "15/15 [==============================] - 1s 86ms/step - loss: 0.0262 - acc: 0.9912 - val_loss: 0.0298 - val_acc: 0.9909\n",
            "Epoch 104/200\n",
            "15/15 [==============================] - 1s 85ms/step - loss: 0.0263 - acc: 0.9915 - val_loss: 0.0278 - val_acc: 0.9920\n",
            "Epoch 105/200\n",
            "15/15 [==============================] - 1s 91ms/step - loss: 0.0238 - acc: 0.9920 - val_loss: 0.0263 - val_acc: 0.9923\n",
            "Epoch 106/200\n",
            "15/15 [==============================] - 1s 86ms/step - loss: 0.0287 - acc: 0.9904 - val_loss: 0.0235 - val_acc: 0.9929\n",
            "Epoch 107/200\n",
            "15/15 [==============================] - 1s 86ms/step - loss: 0.0253 - acc: 0.9913 - val_loss: 0.0255 - val_acc: 0.9926\n",
            "Epoch 108/200\n",
            "15/15 [==============================] - 1s 87ms/step - loss: 0.0255 - acc: 0.9914 - val_loss: 0.0252 - val_acc: 0.9924\n",
            "Epoch 109/200\n",
            "15/15 [==============================] - 1s 86ms/step - loss: 0.0270 - acc: 0.9912 - val_loss: 0.0274 - val_acc: 0.9921\n",
            "Epoch 110/200\n",
            "15/15 [==============================] - 1s 86ms/step - loss: 0.0247 - acc: 0.9918 - val_loss: 0.0271 - val_acc: 0.9922\n",
            "Epoch 111/200\n",
            "15/15 [==============================] - 1s 86ms/step - loss: 0.0259 - acc: 0.9914 - val_loss: 0.0278 - val_acc: 0.9921\n",
            "Epoch 112/200\n",
            "15/15 [==============================] - 1s 92ms/step - loss: 0.0252 - acc: 0.9919 - val_loss: 0.0237 - val_acc: 0.9934\n",
            "Epoch 113/200\n",
            "15/15 [==============================] - 1s 87ms/step - loss: 0.0247 - acc: 0.9919 - val_loss: 0.0263 - val_acc: 0.9932\n",
            "Epoch 114/200\n",
            "15/15 [==============================] - 1s 86ms/step - loss: 0.0254 - acc: 0.9918 - val_loss: 0.0259 - val_acc: 0.9927\n",
            "Epoch 115/200\n",
            "15/15 [==============================] - 1s 90ms/step - loss: 0.0253 - acc: 0.9914 - val_loss: 0.0247 - val_acc: 0.9930\n",
            "Epoch 116/200\n",
            "15/15 [==============================] - 1s 86ms/step - loss: 0.0227 - acc: 0.9923 - val_loss: 0.0288 - val_acc: 0.9924\n",
            "Epoch 117/200\n",
            "15/15 [==============================] - 1s 86ms/step - loss: 0.0246 - acc: 0.9918 - val_loss: 0.0310 - val_acc: 0.9919\n",
            "Epoch 118/200\n",
            "15/15 [==============================] - 1s 85ms/step - loss: 0.0245 - acc: 0.9918 - val_loss: 0.0278 - val_acc: 0.9925\n",
            "Epoch 119/200\n",
            "15/15 [==============================] - 1s 86ms/step - loss: 0.0237 - acc: 0.9922 - val_loss: 0.0280 - val_acc: 0.9917\n",
            "Epoch 120/200\n",
            "15/15 [==============================] - 1s 86ms/step - loss: 0.0237 - acc: 0.9925 - val_loss: 0.0284 - val_acc: 0.9916\n",
            "Epoch 121/200\n",
            "15/15 [==============================] - 1s 85ms/step - loss: 0.0253 - acc: 0.9919 - val_loss: 0.0251 - val_acc: 0.9930\n",
            "Epoch 122/200\n",
            "15/15 [==============================] - 1s 85ms/step - loss: 0.0249 - acc: 0.9917 - val_loss: 0.0285 - val_acc: 0.9934\n",
            "Epoch 123/200\n",
            "15/15 [==============================] - 1s 87ms/step - loss: 0.0254 - acc: 0.9916 - val_loss: 0.0261 - val_acc: 0.9932\n",
            "Epoch 124/200\n",
            "15/15 [==============================] - 1s 86ms/step - loss: 0.0252 - acc: 0.9916 - val_loss: 0.0281 - val_acc: 0.9920\n",
            "Epoch 125/200\n",
            "15/15 [==============================] - 1s 85ms/step - loss: 0.0233 - acc: 0.9922 - val_loss: 0.0254 - val_acc: 0.9927\n",
            "Epoch 126/200\n",
            "15/15 [==============================] - 1s 91ms/step - loss: 0.0249 - acc: 0.9920 - val_loss: 0.0279 - val_acc: 0.9924\n",
            "Epoch 127/200\n",
            "15/15 [==============================] - 1s 86ms/step - loss: 0.0241 - acc: 0.9920 - val_loss: 0.0245 - val_acc: 0.9932\n",
            "Epoch 128/200\n",
            "15/15 [==============================] - 1s 87ms/step - loss: 0.0247 - acc: 0.9914 - val_loss: 0.0265 - val_acc: 0.9924\n",
            "Epoch 129/200\n",
            "15/15 [==============================] - 1s 87ms/step - loss: 0.0234 - acc: 0.9922 - val_loss: 0.0238 - val_acc: 0.9926\n",
            "Epoch 130/200\n",
            "15/15 [==============================] - 1s 85ms/step - loss: 0.0242 - acc: 0.9915 - val_loss: 0.0276 - val_acc: 0.9931\n",
            "Epoch 131/200\n",
            "15/15 [==============================] - 1s 91ms/step - loss: 0.0227 - acc: 0.9927 - val_loss: 0.0276 - val_acc: 0.9930\n",
            "Epoch 132/200\n",
            "15/15 [==============================] - 1s 87ms/step - loss: 0.0235 - acc: 0.9920 - val_loss: 0.0271 - val_acc: 0.9934\n",
            "Epoch 133/200\n",
            "15/15 [==============================] - 1s 86ms/step - loss: 0.0245 - acc: 0.9918 - val_loss: 0.0298 - val_acc: 0.9916\n",
            "Epoch 134/200\n",
            "15/15 [==============================] - 1s 91ms/step - loss: 0.0235 - acc: 0.9919 - val_loss: 0.0271 - val_acc: 0.9921\n",
            "Epoch 135/200\n",
            "15/15 [==============================] - 1s 87ms/step - loss: 0.0230 - acc: 0.9924 - val_loss: 0.0326 - val_acc: 0.9914\n",
            "Epoch 136/200\n",
            "15/15 [==============================] - 1s 86ms/step - loss: 0.0232 - acc: 0.9922 - val_loss: 0.0248 - val_acc: 0.9933\n",
            "Epoch 137/200\n",
            "15/15 [==============================] - 1s 91ms/step - loss: 0.0242 - acc: 0.9918 - val_loss: 0.0240 - val_acc: 0.9932\n",
            "Epoch 138/200\n",
            "15/15 [==============================] - 1s 86ms/step - loss: 0.0229 - acc: 0.9924 - val_loss: 0.0278 - val_acc: 0.9916\n",
            "Epoch 139/200\n",
            "15/15 [==============================] - 1s 86ms/step - loss: 0.0241 - acc: 0.9919 - val_loss: 0.0278 - val_acc: 0.9918\n",
            "Epoch 140/200\n",
            "15/15 [==============================] - 1s 86ms/step - loss: 0.0235 - acc: 0.9924 - val_loss: 0.0285 - val_acc: 0.9919\n",
            "Epoch 141/200\n",
            "15/15 [==============================] - 1s 86ms/step - loss: 0.0243 - acc: 0.9920 - val_loss: 0.0261 - val_acc: 0.9921\n",
            "Epoch 142/200\n",
            "15/15 [==============================] - 1s 86ms/step - loss: 0.0230 - acc: 0.9926 - val_loss: 0.0276 - val_acc: 0.9927\n",
            "Epoch 143/200\n",
            "15/15 [==============================] - 1s 86ms/step - loss: 0.0225 - acc: 0.9926 - val_loss: 0.0237 - val_acc: 0.9931\n",
            "Epoch 144/200\n",
            "15/15 [==============================] - 1s 92ms/step - loss: 0.0236 - acc: 0.9920 - val_loss: 0.0285 - val_acc: 0.9923\n",
            "Epoch 145/200\n",
            "15/15 [==============================] - 1s 86ms/step - loss: 0.0242 - acc: 0.9917 - val_loss: 0.0269 - val_acc: 0.9929\n",
            "Epoch 146/200\n",
            "15/15 [==============================] - 1s 87ms/step - loss: 0.0235 - acc: 0.9919 - val_loss: 0.0241 - val_acc: 0.9919\n",
            "Epoch 147/200\n",
            "15/15 [==============================] - 1s 92ms/step - loss: 0.0231 - acc: 0.9924 - val_loss: 0.0257 - val_acc: 0.9920\n",
            "Epoch 148/200\n",
            "15/15 [==============================] - 1s 86ms/step - loss: 0.0240 - acc: 0.9926 - val_loss: 0.0258 - val_acc: 0.9915\n",
            "Epoch 149/200\n",
            "15/15 [==============================] - 1s 87ms/step - loss: 0.0221 - acc: 0.9927 - val_loss: 0.0268 - val_acc: 0.9923\n",
            "Epoch 150/200\n",
            "15/15 [==============================] - 1s 86ms/step - loss: 0.0227 - acc: 0.9928 - val_loss: 0.0254 - val_acc: 0.9926\n",
            "Epoch 151/200\n",
            "15/15 [==============================] - 1s 86ms/step - loss: 0.0224 - acc: 0.9923 - val_loss: 0.0247 - val_acc: 0.9923\n",
            "Epoch 152/200\n",
            "15/15 [==============================] - 1s 86ms/step - loss: 0.0231 - acc: 0.9924 - val_loss: 0.0251 - val_acc: 0.9924\n",
            "Epoch 153/200\n",
            "15/15 [==============================] - 1s 87ms/step - loss: 0.0227 - acc: 0.9924 - val_loss: 0.0247 - val_acc: 0.9920\n",
            "Epoch 154/200\n",
            "15/15 [==============================] - 1s 86ms/step - loss: 0.0232 - acc: 0.9925 - val_loss: 0.0259 - val_acc: 0.9921\n",
            "Epoch 155/200\n",
            "15/15 [==============================] - 1s 87ms/step - loss: 0.0218 - acc: 0.9928 - val_loss: 0.0263 - val_acc: 0.9926\n",
            "Epoch 156/200\n",
            "15/15 [==============================] - 1s 87ms/step - loss: 0.0235 - acc: 0.9921 - val_loss: 0.0249 - val_acc: 0.9925\n",
            "Epoch 157/200\n",
            "15/15 [==============================] - 1s 87ms/step - loss: 0.0220 - acc: 0.9930 - val_loss: 0.0286 - val_acc: 0.9921\n",
            "Epoch 158/200\n",
            "15/15 [==============================] - 1s 87ms/step - loss: 0.0230 - acc: 0.9924 - val_loss: 0.0323 - val_acc: 0.9911\n",
            "Epoch 159/200\n",
            "15/15 [==============================] - 1s 86ms/step - loss: 0.0230 - acc: 0.9924 - val_loss: 0.0269 - val_acc: 0.9918\n",
            "Epoch 160/200\n",
            "15/15 [==============================] - 1s 86ms/step - loss: 0.0229 - acc: 0.9924 - val_loss: 0.0220 - val_acc: 0.9925\n",
            "Epoch 161/200\n",
            "15/15 [==============================] - 1s 86ms/step - loss: 0.0227 - acc: 0.9924 - val_loss: 0.0232 - val_acc: 0.9924\n",
            "Epoch 162/200\n",
            "15/15 [==============================] - 1s 86ms/step - loss: 0.0228 - acc: 0.9927 - val_loss: 0.0230 - val_acc: 0.9931\n",
            "Epoch 163/200\n",
            "15/15 [==============================] - 1s 87ms/step - loss: 0.0230 - acc: 0.9922 - val_loss: 0.0257 - val_acc: 0.9920\n",
            "Epoch 164/200\n",
            "15/15 [==============================] - 1s 87ms/step - loss: 0.0209 - acc: 0.9926 - val_loss: 0.0270 - val_acc: 0.9923\n",
            "Epoch 165/200\n",
            "15/15 [==============================] - 1s 87ms/step - loss: 0.0212 - acc: 0.9933 - val_loss: 0.0247 - val_acc: 0.9926\n",
            "Epoch 166/200\n",
            "15/15 [==============================] - 1s 92ms/step - loss: 0.0203 - acc: 0.9931 - val_loss: 0.0261 - val_acc: 0.9921\n",
            "Epoch 167/200\n",
            "15/15 [==============================] - 1s 92ms/step - loss: 0.0217 - acc: 0.9929 - val_loss: 0.0261 - val_acc: 0.9925\n",
            "Epoch 168/200\n",
            "15/15 [==============================] - 1s 86ms/step - loss: 0.0222 - acc: 0.9930 - val_loss: 0.0251 - val_acc: 0.9929\n",
            "Epoch 169/200\n",
            "15/15 [==============================] - 1s 92ms/step - loss: 0.0230 - acc: 0.9922 - val_loss: 0.0281 - val_acc: 0.9928\n",
            "Epoch 170/200\n",
            "15/15 [==============================] - 1s 93ms/step - loss: 0.0216 - acc: 0.9927 - val_loss: 0.0218 - val_acc: 0.9938\n",
            "Epoch 171/200\n",
            "15/15 [==============================] - 1s 87ms/step - loss: 0.0226 - acc: 0.9923 - val_loss: 0.0261 - val_acc: 0.9925\n",
            "Epoch 172/200\n",
            "15/15 [==============================] - 1s 91ms/step - loss: 0.0219 - acc: 0.9929 - val_loss: 0.0241 - val_acc: 0.9924\n",
            "Epoch 173/200\n",
            "15/15 [==============================] - 1s 87ms/step - loss: 0.0220 - acc: 0.9928 - val_loss: 0.0256 - val_acc: 0.9926\n",
            "Epoch 174/200\n",
            "15/15 [==============================] - 1s 87ms/step - loss: 0.0229 - acc: 0.9923 - val_loss: 0.0267 - val_acc: 0.9922\n",
            "Epoch 175/200\n",
            "15/15 [==============================] - 1s 92ms/step - loss: 0.0215 - acc: 0.9931 - val_loss: 0.0284 - val_acc: 0.9918\n",
            "Epoch 176/200\n",
            "15/15 [==============================] - 1s 87ms/step - loss: 0.0217 - acc: 0.9923 - val_loss: 0.0279 - val_acc: 0.9926\n",
            "Epoch 177/200\n",
            "15/15 [==============================] - 1s 87ms/step - loss: 0.0214 - acc: 0.9932 - val_loss: 0.0256 - val_acc: 0.9929\n",
            "Epoch 178/200\n",
            "15/15 [==============================] - 1s 87ms/step - loss: 0.0225 - acc: 0.9928 - val_loss: 0.0252 - val_acc: 0.9928\n",
            "Epoch 179/200\n",
            "15/15 [==============================] - 1s 87ms/step - loss: 0.0213 - acc: 0.9929 - val_loss: 0.0269 - val_acc: 0.9924\n",
            "Epoch 180/200\n",
            "15/15 [==============================] - 1s 87ms/step - loss: 0.0225 - acc: 0.9923 - val_loss: 0.0258 - val_acc: 0.9921\n",
            "Epoch 181/200\n",
            "15/15 [==============================] - 1s 87ms/step - loss: 0.0214 - acc: 0.9928 - val_loss: 0.0253 - val_acc: 0.9929\n",
            "Epoch 182/200\n",
            "15/15 [==============================] - 1s 87ms/step - loss: 0.0207 - acc: 0.9927 - val_loss: 0.0246 - val_acc: 0.9923\n",
            "Epoch 183/200\n",
            "15/15 [==============================] - 1s 87ms/step - loss: 0.0232 - acc: 0.9924 - val_loss: 0.0233 - val_acc: 0.9927\n",
            "Epoch 184/200\n",
            "15/15 [==============================] - 1s 97ms/step - loss: 0.0221 - acc: 0.9927 - val_loss: 0.0222 - val_acc: 0.9925\n",
            "Epoch 185/200\n",
            "15/15 [==============================] - 1s 92ms/step - loss: 0.0219 - acc: 0.9924 - val_loss: 0.0212 - val_acc: 0.9927\n",
            "Epoch 186/200\n",
            "15/15 [==============================] - 1s 88ms/step - loss: 0.0234 - acc: 0.9924 - val_loss: 0.0222 - val_acc: 0.9937\n",
            "Epoch 187/200\n",
            "15/15 [==============================] - 1s 87ms/step - loss: 0.0230 - acc: 0.9922 - val_loss: 0.0254 - val_acc: 0.9922\n",
            "Epoch 188/200\n",
            "15/15 [==============================] - 1s 92ms/step - loss: 0.0242 - acc: 0.9918 - val_loss: 0.0230 - val_acc: 0.9926\n",
            "Epoch 189/200\n",
            "15/15 [==============================] - 1s 86ms/step - loss: 0.0238 - acc: 0.9921 - val_loss: 0.0278 - val_acc: 0.9922\n",
            "Epoch 190/200\n",
            "15/15 [==============================] - 1s 86ms/step - loss: 0.0231 - acc: 0.9922 - val_loss: 0.0263 - val_acc: 0.9920\n",
            "Epoch 191/200\n",
            "15/15 [==============================] - 1s 86ms/step - loss: 0.0222 - acc: 0.9927 - val_loss: 0.0245 - val_acc: 0.9930\n",
            "Epoch 192/200\n",
            "15/15 [==============================] - 1s 87ms/step - loss: 0.0225 - acc: 0.9922 - val_loss: 0.0273 - val_acc: 0.9924\n",
            "Epoch 193/200\n",
            "15/15 [==============================] - 1s 87ms/step - loss: 0.0213 - acc: 0.9929 - val_loss: 0.0260 - val_acc: 0.9928\n",
            "Epoch 194/200\n",
            "15/15 [==============================] - 1s 87ms/step - loss: 0.0206 - acc: 0.9928 - val_loss: 0.0266 - val_acc: 0.9925\n",
            "Epoch 195/200\n",
            "15/15 [==============================] - 1s 87ms/step - loss: 0.0228 - acc: 0.9926 - val_loss: 0.0261 - val_acc: 0.9924\n",
            "Epoch 196/200\n",
            "15/15 [==============================] - 1s 87ms/step - loss: 0.0216 - acc: 0.9927 - val_loss: 0.0269 - val_acc: 0.9922\n",
            "Epoch 197/200\n",
            "15/15 [==============================] - 1s 86ms/step - loss: 0.0218 - acc: 0.9926 - val_loss: 0.0243 - val_acc: 0.9933\n",
            "Epoch 198/200\n",
            "15/15 [==============================] - 1s 87ms/step - loss: 0.0227 - acc: 0.9925 - val_loss: 0.0278 - val_acc: 0.9926\n",
            "Epoch 199/200\n",
            "15/15 [==============================] - 1s 87ms/step - loss: 0.0231 - acc: 0.9922 - val_loss: 0.0239 - val_acc: 0.9927\n",
            "Epoch 200/200\n",
            "15/15 [==============================] - 1s 91ms/step - loss: 0.0217 - acc: 0.9927 - val_loss: 0.0245 - val_acc: 0.9920\n"
          ]
        }
      ]
    },
    {
      "cell_type": "code",
      "source": [
        "tot_search"
      ],
      "metadata": {
        "colab": {
          "base_uri": "https://localhost:8080/"
        },
        "id": "8Grw8VuyYLV0",
        "outputId": "d7ff85a1-7c06-417f-9b89-7210cb37944b"
      },
      "execution_count": null,
      "outputs": [
        {
          "output_type": "execute_result",
          "data": {
            "text/plain": [
              "2235.9604432582855"
            ]
          },
          "metadata": {},
          "execution_count": 16
        }
      ]
    }
  ],
  "metadata": {
    "colab": {
      "collapsed_sections": [],
      "provenance": [],
      "include_colab_link": true
    },
    "kernelspec": {
      "display_name": "Python 3",
      "language": "python",
      "name": "python3"
    },
    "language_info": {
      "codemirror_mode": {
        "name": "ipython",
        "version": 3
      },
      "file_extension": ".py",
      "mimetype": "text/x-python",
      "name": "python",
      "nbconvert_exporter": "python",
      "pygments_lexer": "ipython3",
      "version": "3.7.3"
    },
    "gpuClass": "standard",
    "accelerator": "GPU",
    "widgets": {
      "application/vnd.jupyter.widget-state+json": {
        "f812dc2ebc5b4513b73ff2865b109ae7": {
          "model_module": "@jupyter-widgets/controls",
          "model_name": "HBoxModel",
          "model_module_version": "1.5.0",
          "state": {
            "_dom_classes": [],
            "_model_module": "@jupyter-widgets/controls",
            "_model_module_version": "1.5.0",
            "_model_name": "HBoxModel",
            "_view_count": null,
            "_view_module": "@jupyter-widgets/controls",
            "_view_module_version": "1.5.0",
            "_view_name": "HBoxView",
            "box_style": "",
            "children": [
              "IPY_MODEL_0d5f37a5bea644eb9641be8f7f36ba6e",
              "IPY_MODEL_b6943cc962b94e608504a6c5387d2b2c",
              "IPY_MODEL_52eec85690ca44e7a1b2d6a38214ae02"
            ],
            "layout": "IPY_MODEL_0ccaae62755e4c209bdd5f0af65c27a2"
          }
        },
        "0d5f37a5bea644eb9641be8f7f36ba6e": {
          "model_module": "@jupyter-widgets/controls",
          "model_name": "HTMLModel",
          "model_module_version": "1.5.0",
          "state": {
            "_dom_classes": [],
            "_model_module": "@jupyter-widgets/controls",
            "_model_module_version": "1.5.0",
            "_model_name": "HTMLModel",
            "_view_count": null,
            "_view_module": "@jupyter-widgets/controls",
            "_view_module_version": "1.5.0",
            "_view_name": "HTMLView",
            "description": "",
            "description_tooltip": null,
            "layout": "IPY_MODEL_bba6eb19ed5e44a5a695c3e00bfbfd2d",
            "placeholder": "​",
            "style": "IPY_MODEL_5b23afb9e52149a98d90098a9b55812a",
            "value": "Dl Completed...: 100%"
          }
        },
        "b6943cc962b94e608504a6c5387d2b2c": {
          "model_module": "@jupyter-widgets/controls",
          "model_name": "FloatProgressModel",
          "model_module_version": "1.5.0",
          "state": {
            "_dom_classes": [],
            "_model_module": "@jupyter-widgets/controls",
            "_model_module_version": "1.5.0",
            "_model_name": "FloatProgressModel",
            "_view_count": null,
            "_view_module": "@jupyter-widgets/controls",
            "_view_module_version": "1.5.0",
            "_view_name": "ProgressView",
            "bar_style": "success",
            "description": "",
            "description_tooltip": null,
            "layout": "IPY_MODEL_fa35199b18a7474f96c1dced0099de6a",
            "max": 4,
            "min": 0,
            "orientation": "horizontal",
            "style": "IPY_MODEL_1aa1570b3ecd4f2490e90316c0dba065",
            "value": 4
          }
        },
        "52eec85690ca44e7a1b2d6a38214ae02": {
          "model_module": "@jupyter-widgets/controls",
          "model_name": "HTMLModel",
          "model_module_version": "1.5.0",
          "state": {
            "_dom_classes": [],
            "_model_module": "@jupyter-widgets/controls",
            "_model_module_version": "1.5.0",
            "_model_name": "HTMLModel",
            "_view_count": null,
            "_view_module": "@jupyter-widgets/controls",
            "_view_module_version": "1.5.0",
            "_view_name": "HTMLView",
            "description": "",
            "description_tooltip": null,
            "layout": "IPY_MODEL_679693d8a293408c80aacf650e63d527",
            "placeholder": "​",
            "style": "IPY_MODEL_55e1e63c53b745618abd7f776eaea030",
            "value": " 4/4 [00:00&lt;00:00,  4.57 file/s]"
          }
        },
        "0ccaae62755e4c209bdd5f0af65c27a2": {
          "model_module": "@jupyter-widgets/base",
          "model_name": "LayoutModel",
          "model_module_version": "1.2.0",
          "state": {
            "_model_module": "@jupyter-widgets/base",
            "_model_module_version": "1.2.0",
            "_model_name": "LayoutModel",
            "_view_count": null,
            "_view_module": "@jupyter-widgets/base",
            "_view_module_version": "1.2.0",
            "_view_name": "LayoutView",
            "align_content": null,
            "align_items": null,
            "align_self": null,
            "border": null,
            "bottom": null,
            "display": null,
            "flex": null,
            "flex_flow": null,
            "grid_area": null,
            "grid_auto_columns": null,
            "grid_auto_flow": null,
            "grid_auto_rows": null,
            "grid_column": null,
            "grid_gap": null,
            "grid_row": null,
            "grid_template_areas": null,
            "grid_template_columns": null,
            "grid_template_rows": null,
            "height": null,
            "justify_content": null,
            "justify_items": null,
            "left": null,
            "margin": null,
            "max_height": null,
            "max_width": null,
            "min_height": null,
            "min_width": null,
            "object_fit": null,
            "object_position": null,
            "order": null,
            "overflow": null,
            "overflow_x": null,
            "overflow_y": null,
            "padding": null,
            "right": null,
            "top": null,
            "visibility": null,
            "width": null
          }
        },
        "bba6eb19ed5e44a5a695c3e00bfbfd2d": {
          "model_module": "@jupyter-widgets/base",
          "model_name": "LayoutModel",
          "model_module_version": "1.2.0",
          "state": {
            "_model_module": "@jupyter-widgets/base",
            "_model_module_version": "1.2.0",
            "_model_name": "LayoutModel",
            "_view_count": null,
            "_view_module": "@jupyter-widgets/base",
            "_view_module_version": "1.2.0",
            "_view_name": "LayoutView",
            "align_content": null,
            "align_items": null,
            "align_self": null,
            "border": null,
            "bottom": null,
            "display": null,
            "flex": null,
            "flex_flow": null,
            "grid_area": null,
            "grid_auto_columns": null,
            "grid_auto_flow": null,
            "grid_auto_rows": null,
            "grid_column": null,
            "grid_gap": null,
            "grid_row": null,
            "grid_template_areas": null,
            "grid_template_columns": null,
            "grid_template_rows": null,
            "height": null,
            "justify_content": null,
            "justify_items": null,
            "left": null,
            "margin": null,
            "max_height": null,
            "max_width": null,
            "min_height": null,
            "min_width": null,
            "object_fit": null,
            "object_position": null,
            "order": null,
            "overflow": null,
            "overflow_x": null,
            "overflow_y": null,
            "padding": null,
            "right": null,
            "top": null,
            "visibility": null,
            "width": null
          }
        },
        "5b23afb9e52149a98d90098a9b55812a": {
          "model_module": "@jupyter-widgets/controls",
          "model_name": "DescriptionStyleModel",
          "model_module_version": "1.5.0",
          "state": {
            "_model_module": "@jupyter-widgets/controls",
            "_model_module_version": "1.5.0",
            "_model_name": "DescriptionStyleModel",
            "_view_count": null,
            "_view_module": "@jupyter-widgets/base",
            "_view_module_version": "1.2.0",
            "_view_name": "StyleView",
            "description_width": ""
          }
        },
        "fa35199b18a7474f96c1dced0099de6a": {
          "model_module": "@jupyter-widgets/base",
          "model_name": "LayoutModel",
          "model_module_version": "1.2.0",
          "state": {
            "_model_module": "@jupyter-widgets/base",
            "_model_module_version": "1.2.0",
            "_model_name": "LayoutModel",
            "_view_count": null,
            "_view_module": "@jupyter-widgets/base",
            "_view_module_version": "1.2.0",
            "_view_name": "LayoutView",
            "align_content": null,
            "align_items": null,
            "align_self": null,
            "border": null,
            "bottom": null,
            "display": null,
            "flex": null,
            "flex_flow": null,
            "grid_area": null,
            "grid_auto_columns": null,
            "grid_auto_flow": null,
            "grid_auto_rows": null,
            "grid_column": null,
            "grid_gap": null,
            "grid_row": null,
            "grid_template_areas": null,
            "grid_template_columns": null,
            "grid_template_rows": null,
            "height": null,
            "justify_content": null,
            "justify_items": null,
            "left": null,
            "margin": null,
            "max_height": null,
            "max_width": null,
            "min_height": null,
            "min_width": null,
            "object_fit": null,
            "object_position": null,
            "order": null,
            "overflow": null,
            "overflow_x": null,
            "overflow_y": null,
            "padding": null,
            "right": null,
            "top": null,
            "visibility": null,
            "width": null
          }
        },
        "1aa1570b3ecd4f2490e90316c0dba065": {
          "model_module": "@jupyter-widgets/controls",
          "model_name": "ProgressStyleModel",
          "model_module_version": "1.5.0",
          "state": {
            "_model_module": "@jupyter-widgets/controls",
            "_model_module_version": "1.5.0",
            "_model_name": "ProgressStyleModel",
            "_view_count": null,
            "_view_module": "@jupyter-widgets/base",
            "_view_module_version": "1.2.0",
            "_view_name": "StyleView",
            "bar_color": null,
            "description_width": ""
          }
        },
        "679693d8a293408c80aacf650e63d527": {
          "model_module": "@jupyter-widgets/base",
          "model_name": "LayoutModel",
          "model_module_version": "1.2.0",
          "state": {
            "_model_module": "@jupyter-widgets/base",
            "_model_module_version": "1.2.0",
            "_model_name": "LayoutModel",
            "_view_count": null,
            "_view_module": "@jupyter-widgets/base",
            "_view_module_version": "1.2.0",
            "_view_name": "LayoutView",
            "align_content": null,
            "align_items": null,
            "align_self": null,
            "border": null,
            "bottom": null,
            "display": null,
            "flex": null,
            "flex_flow": null,
            "grid_area": null,
            "grid_auto_columns": null,
            "grid_auto_flow": null,
            "grid_auto_rows": null,
            "grid_column": null,
            "grid_gap": null,
            "grid_row": null,
            "grid_template_areas": null,
            "grid_template_columns": null,
            "grid_template_rows": null,
            "height": null,
            "justify_content": null,
            "justify_items": null,
            "left": null,
            "margin": null,
            "max_height": null,
            "max_width": null,
            "min_height": null,
            "min_width": null,
            "object_fit": null,
            "object_position": null,
            "order": null,
            "overflow": null,
            "overflow_x": null,
            "overflow_y": null,
            "padding": null,
            "right": null,
            "top": null,
            "visibility": null,
            "width": null
          }
        },
        "55e1e63c53b745618abd7f776eaea030": {
          "model_module": "@jupyter-widgets/controls",
          "model_name": "DescriptionStyleModel",
          "model_module_version": "1.5.0",
          "state": {
            "_model_module": "@jupyter-widgets/controls",
            "_model_module_version": "1.5.0",
            "_model_name": "DescriptionStyleModel",
            "_view_count": null,
            "_view_module": "@jupyter-widgets/base",
            "_view_module_version": "1.2.0",
            "_view_name": "StyleView",
            "description_width": ""
          }
        }
      }
    }
  },
  "nbformat": 4,
  "nbformat_minor": 0
}